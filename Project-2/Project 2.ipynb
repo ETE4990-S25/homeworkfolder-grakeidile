{
 "cells": [
  {
   "cell_type": "markdown",
   "id": "0e76db5c",
   "metadata": {},
   "source": [
    "## Project # 2\n",
    "\n",
    "Create a Multiprocessing, Threaded and Asynchronous application that will \n",
    " - Calculate the highest prime number in 3 min.\n",
    " - Calculates the Fibonacci number of that prime.\n",
    "    - ie if the highest prime is 13,386,001 then calculate Fibonacci to that number\n",
    "- Calculates the factorial that prime.\n",
    "once the prime is calculated you may perform Fibonacci and Factorial at the same time. \n",
    "\n",
    "For primes you must start a 0\n",
    "\n",
    " \n",
    "\n",
    "For code constancy use the following is_prime function.\n",
    "```python\n",
    "def is_prime(n):\n",
    "    if n <= 1:\n",
    "        return False\n",
    "    for i in range(2, int(n ** 0.5) + 1):\n",
    "        if n % i == 0:\n",
    "            return False\n",
    "    return True\n",
    "```\n",
    " These are my results (processes/threads):\n",
    "Multi core:71,161,003 (7)\n",
    "Asycn: 960,737 (1)\n",
    "Threaded 10,747,921 (10)\n",
    "    "
   ]
  },
  {
   "cell_type": "code",
   "execution_count": null,
   "id": "7cd7f5fd",
   "metadata": {},
   "outputs": [
    {
     "name": "stderr",
     "output_type": "stream",
     "text": [
      "Exception in thread Thread-52 (highest_prime_calculator):\n",
      "Traceback (most recent call last):\n",
      "  File \"c:\\Users\\Grace Brisco\\anaconda3\\Lib\\threading.py\", line 1075, in _bootstrap_inner\n",
      "    self.run()\n",
      "  File \"c:\\Users\\Grace Brisco\\anaconda3\\Lib\\threading.py\", line 1012, in run\n",
      "    self._target(*self._args, **self._kwargs)\n",
      "TypeError: highest_prime_calculator() missing 1 required positional argument: 'queue'\n"
     ]
    },
    {
     "name": "stdout",
     "output_type": "stream",
     "text": [
      "finding your primes...i guess\n"
     ]
    },
    {
     "ename": "AttributeError",
     "evalue": "'int' object has no attribute 'put'",
     "output_type": "error",
     "traceback": [
      "\u001b[1;31m---------------------------------------------------------------------------\u001b[0m",
      "\u001b[1;31mAttributeError\u001b[0m                            Traceback (most recent call last)",
      "Cell \u001b[1;32mIn[3], line 52\u001b[0m\n\u001b[0;32m     49\u001b[0m     \u001b[38;5;28mprint\u001b[39m(\u001b[38;5;124mf\u001b[39m\u001b[38;5;124m\"\u001b[39m\u001b[38;5;124mAsync : \u001b[39m\u001b[38;5;132;01m{\u001b[39;00masync_prime\u001b[38;5;132;01m}\u001b[39;00m\u001b[38;5;124m\"\u001b[39m)\n\u001b[0;32m     51\u001b[0m \u001b[38;5;28;01mif\u001b[39;00m \u001b[38;5;18m__name__\u001b[39m \u001b[38;5;241m==\u001b[39m \u001b[38;5;124m\"\u001b[39m\u001b[38;5;124m__main__\u001b[39m\u001b[38;5;124m\"\u001b[39m:\n\u001b[1;32m---> 52\u001b[0m     main()\n",
      "Cell \u001b[1;32mIn[3], line 41\u001b[0m, in \u001b[0;36mmain\u001b[1;34m()\u001b[0m\n\u001b[0;32m     38\u001b[0m thread_prime\u001b[38;5;241m.\u001b[39mstart()\n\u001b[0;32m     39\u001b[0m thread_prime\u001b[38;5;241m.\u001b[39mjoin()\n\u001b[1;32m---> 41\u001b[0m a_prime \u001b[38;5;241m=\u001b[39m asyncio\u001b[38;5;241m.\u001b[39mrun(highest_prime_calculator(duration))\n\u001b[0;32m     43\u001b[0m mp_prime \u001b[38;5;241m=\u001b[39m queue\u001b[38;5;241m.\u001b[39mget()\n\u001b[0;32m     44\u001b[0m thread_prime \u001b[38;5;241m=\u001b[39m t_prime[\u001b[38;5;241m0\u001b[39m]\n",
      "Cell \u001b[1;32mIn[3], line 22\u001b[0m, in \u001b[0;36mhighest_prime_calculator\u001b[1;34m(queue, duration)\u001b[0m\n\u001b[0;32m     20\u001b[0m         highest_prime \u001b[38;5;241m=\u001b[39m n \u001b[38;5;66;03m#this is the kind of method I wanted to use on the game but wasnt sure how until now!\u001b[39;00m\n\u001b[0;32m     21\u001b[0m     n \u001b[38;5;241m+\u001b[39m\u001b[38;5;241m=\u001b[39m \u001b[38;5;241m1\u001b[39m\n\u001b[1;32m---> 22\u001b[0m queue\u001b[38;5;241m.\u001b[39mput(highest_prime)\n",
      "\u001b[1;31mAttributeError\u001b[0m: 'int' object has no attribute 'put'"
     ]
    }
   ],
   "source": [
    "import threading\n",
    "import time\n",
    "import multiprocessing\n",
    "import asyncio\n",
    " \n",
    "def is_prime(n): #your function\n",
    "    if n <= 1:\n",
    "        return False\n",
    "    for i in range(2, int(n ** 0.5) + 1):\n",
    "        if n % i == 0:\n",
    "            return False\n",
    "    return True\n",
    "\n",
    "def highest_prime_calculator(queue, duration = 180): #Im not gonna lie, i tried to do this my own way without the shared, then the evil ai told me to used a shared prime and then queue so i tried both \n",
    "    start_time = time.time() #Its only putting out a number sometimes hrmmm\n",
    "    n = 0\n",
    "    highest_prime = 1\n",
    "    while time.time() - start_time < 180:\n",
    "        if is_prime(n):\n",
    "            highest_prime = n #this is the kind of method I wanted to use on the game but wasnt sure how until now!\n",
    "        n += 1\n",
    "    queue.put(highest_prime)\n",
    "#i was checking a bunch of places like stackoverflow, quora and reddit, but they all used like different imports so this seemed like the best fit\n",
    "\n",
    "        \n",
    "def main():\n",
    "    duration = 180 #is this redundant to put it twice\n",
    "\n",
    "    print(\"finding your primes...i guess\")\n",
    "\n",
    "    queue = multiprocessing.Queue()\n",
    "    mp_prime = multiprocessing.Process(target=highest_prime_calculator, args=(queue,duration))\n",
    "    mp_prime.start()\n",
    "    mp_prime.join()\n",
    "\n",
    "    t_prime = []\n",
    "    thread_prime = threading.Thread(target=highest_prime_calculator)\n",
    "    thread_prime.start()\n",
    "    thread_prime.join()\n",
    "\n",
    "    a_prime = asyncio.run(highest_prime_calculator(duration))\n",
    "\n",
    "    mp_prime = queue.get()\n",
    "    thread_prime = t_prime[0]\n",
    "    async_prime = a_prime\n",
    "\n",
    "    print(f\"Multiprocessing : {mp_prime}\")\n",
    "    print(f\"Threading : {thread_prime}\")\n",
    "    print(f\"Async : {async_prime}\")\n",
    "\n",
    "if __name__ == \"__main__\":\n",
    "    main()\n",
    "#yes i know it doesnt run well at all\n",
    "#please spare me I am dying "
   ]
  }
 ],
 "metadata": {
  "kernelspec": {
   "display_name": "base",
   "language": "python",
   "name": "python3"
  },
  "language_info": {
   "codemirror_mode": {
    "name": "ipython",
    "version": 3
   },
   "file_extension": ".py",
   "mimetype": "text/x-python",
   "name": "python",
   "nbconvert_exporter": "python",
   "pygments_lexer": "ipython3",
   "version": "3.12.7"
  }
 },
 "nbformat": 4,
 "nbformat_minor": 5
}
