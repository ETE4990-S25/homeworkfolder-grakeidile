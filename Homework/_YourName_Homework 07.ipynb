{
 "cells": [
  {
   "cell_type": "markdown",
   "metadata": {},
   "source": [
    "GRACE BRISCO"
   ]
  },
  {
   "cell_type": "markdown",
   "metadata": {},
   "source": [
    "Watch the videos:\n",
    "\n",
    "\n",
    "\n",
    "## Objective:\n",
    "1. Understand optimizing MatPlotLib\n",
    "\n",
    "\n",
    " - We will only use basic functions of matplotlib and this channel goes over manny advanced things\n",
    "\n",
    "\n",
    "2. Understand how python handles parallel processes and threaded processes\n",
    " - This will be a quick overview to help you visualize what is going on. \n",
    " - you do not need to understand the code. (yet)\n",
    "\n",
    "\n",
    "## Instructions:\n",
    "\n",
    "\n",
    "1. watch the following video (code stolen)\n",
    " - https://www.youtube.com/watch?v=51rCh2Do2EE\n",
    "2. watch the following video (code stolen)\n",
    " - https://www.youtube.com/watch?v=AZnGRKFUU0c\n",
    "\n",
    "\n",
    "\n"
   ]
  },
  {
   "cell_type": "markdown",
   "metadata": {},
   "source": []
  }
 ],
 "metadata": {
  "kernelspec": {
   "display_name": "Python 3",
   "language": "python",
   "name": "python3"
  },
  "language_info": {
   "codemirror_mode": {
    "name": "ipython",
    "version": 3
   },
   "file_extension": ".py",
   "mimetype": "text/x-python",
   "name": "python",
   "nbconvert_exporter": "python",
   "pygments_lexer": "ipython3",
   "version": "3.13.2"
  }
 },
 "nbformat": 4,
 "nbformat_minor": 2
}
