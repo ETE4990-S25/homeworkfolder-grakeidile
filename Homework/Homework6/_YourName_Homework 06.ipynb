{
 "cells": [
  {
   "cell_type": "markdown",
   "metadata": {},
   "source": []
  },
  {
   "cell_type": "markdown",
   "metadata": {},
   "source": [
    "Your name goes here Pleaese"
   ]
  },
  {
   "cell_type": "markdown",
   "metadata": {},
   "source": [
    "## Objective:\n",
    "The objective of this assignment is to practice using Functional Programing.\n",
    "\n",
    "## Instructions:\n",
    "\n",
    "Using everything we learned to day about Functional Programing, lambda and itters create one of each of the following:\n",
    "-  Basic Lambda Function\n",
    "    - Create a lambda function that takes one arguments and returns even or odd.\n",
    "- Advanced lambda Function\n",
    "    - Create a lambda function that takes a list and returns their sum \n",
    "- Sorting with Lambda\n",
    "- Filtering with Lambda - `filter()` \n",
    "- Mapping with Lambda - `map()`\n",
    "- Reducing with Lambda -  `reduce()` \n",
    "- Enumerate with or without Lambda - `enumerate()`\n",
    "- zip with or without lambda (may combine enumerate like in class) - `zip()`\n",
    "\n",
    "Submit the file as a .py \n",
    "\n",
    "\n"
   ]
  },
  {
   "cell_type": "code",
   "execution_count": 32,
   "metadata": {},
   "outputs": [
    {
     "name": "stdout",
     "output_type": "stream",
     "text": [
      "The number is odd\n",
      "The sum of the list is:  15\n",
      "Lambda sorted list: [1, 2, 3, 4, 5]\n",
      "Lambda filtered list:  [2, 4]\n",
      "Lambda mapped list: [1, 4, 9, 16, 25]\n",
      "Lambda reduced list:  15\n",
      "Place 0: what\n",
      "Place 1: the\n",
      "Place 2: heck\n",
      "Place 3: is\n",
      "Place 4: this\n",
      "[(1, 'what'), (2, 'the'), (3, 'heck'), (4, 'is'), (5, 'this')]\n"
     ]
    }
   ],
   "source": [
    "#tester code\n",
    "even_odd = lambda x: 'The numer is even' if x % 2 == 0 else 'The number is odd'\n",
    "print (even_odd(5))\n",
    "\n",
    "\n",
    "#summing = lambda x: list = [1,2,3,4,5] sum(list)\n",
    "#^attempt #1 \n",
    "summing = lambda list: sum(list) \n",
    "listoffun = [2,4,3,5,1]\n",
    "print('The sum of the list is: ', summing(listoffun))\n",
    "\n",
    "\n",
    "#sorted(listoffun)\n",
    "#print('Sorted fun list', listoffun)\n",
    "#figuring out sort function\n",
    "listoffun.sort(key=lambda x: x, reverse=False)\n",
    "print ('Lambda sorted list:', listoffun)\n",
    "\n",
    "#figuring out when and when not to use key\n",
    "filteredlist = list(filter(lambda x: (x % 2 == 0), listoffun))\n",
    "print ('Lambda filtered list: ', filteredlist)\n",
    "\n",
    "#looking at examples from the web, essentially adds a function to each item in the list independently, i thought it was literally mapping lol\n",
    "squared = list(map(lambda x: x**2, listoffun))\n",
    "print('Lambda mapped list:', squared)\n",
    "\n",
    "from functools import reduce #only way i could get reduce to go through, why this imported and not the others?\n",
    "sumbutweirder = reduce(lambda x,y: x + y, listoffun)\n",
    "print ('Lambda reduced list: ', sumbutweirder)\n",
    "\n",
    "#this one works better inexample with words, however i see how this would be great for a decoding type thing in a game\n",
    "listofwords = ['what', 'the', 'heck', 'is', 'this']\n",
    "for i, word in enumerate(listofwords):\n",
    "    print(f\"Place {i}: {word}\")\n",
    "#i could use lambda but given the option not to this felt simpler\n",
    "\n",
    "#i couldnt find your zip example from class, but found a simple one on geeks for geeks\n",
    "alltogetherbaby = zip(listoffun, listofwords)\n",
    "print(list(alltogetherbaby))\n",
    "\n",
    "#mostly i based the code on examples from forums by people asking similar questions, after attempting myself\n",
    "#only for the list did i consult the evil ai after trying myself a few times\n"
   ]
  }
 ],
 "metadata": {
  "kernelspec": {
   "display_name": "base",
   "language": "python",
   "name": "python3"
  },
  "language_info": {
   "codemirror_mode": {
    "name": "ipython",
    "version": 3
   },
   "file_extension": ".py",
   "mimetype": "text/x-python",
   "name": "python",
   "nbconvert_exporter": "python",
   "pygments_lexer": "ipython3",
   "version": "3.12.7"
  }
 },
 "nbformat": 4,
 "nbformat_minor": 2
}
