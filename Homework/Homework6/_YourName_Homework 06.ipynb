{
 "cells": [
  {
   "cell_type": "markdown",
   "metadata": {},
   "source": []
  },
  {
   "cell_type": "markdown",
   "metadata": {},
   "source": [
    "Your name goes here Pleaese"
   ]
  },
  {
   "cell_type": "markdown",
   "metadata": {},
   "source": [
    "## Objective:\n",
    "The objective of this assignment is to practice using Functional Programing.\n",
    "\n",
    "## Instructions:\n",
    "\n",
    "Using everything we learned to day about Functional Programing, lambda and itters create one of each of the following:\n",
    "-  Basic Lambda Function\n",
    "    - Create a lambda function that takes one arguments and returns even or odd.\n",
    "- Advanced lambda Function\n",
    "    - Create a lambda function that takes a list and returns their sum \n",
    "- Sorting with Lambda\n",
    "- Filtering with Lambda - `filter()` \n",
    "- Mapping with Lambda - `map()`\n",
    "- Reducing with Lambda -  `reduce()` \n",
    "- Enumerate with or without Lambda - `enumerate()`\n",
    "- zip with or without lambda (may combine enumerate like in class) - `zip()`\n",
    "\n",
    "Submit the file as a .py \n",
    "\n",
    "\n"
   ]
  },
  {
   "cell_type": "code",
   "execution_count": null,
   "metadata": {},
   "outputs": [
    {
     "name": "stdout",
     "output_type": "stream",
     "text": [
      "The number is odd\n",
      "15 is the sum of this list\n",
      "Lambda sorted list: [5, 4, 3, 2, 1]\n",
      "Lambda filtered list:  [4, 2]\n"
     ]
    }
   ],
   "source": [
    "#tester code\n",
    "even_odd = lambda x: 'The numer is even' if x % 2 == 0 else 'The number is odd'\n",
    "print (even_odd(5))\n",
    "\n",
    "\n",
    "#summing = lambda x: list = [1,2,3,4,5] sum(list)\n",
    "#^attempt #1 \n",
    "summing = lambda list: sum(list) \n",
    "listoffun = [2,4,3,5,1]\n",
    "print(summing(listoffun),'is the sum of this list')\n",
    "\n",
    "\n",
    "#sorted(listoffun)\n",
    "#print('Sorted fun list', listoffun)\n",
    "#figuring out sort function\n",
    "listoffun.sort(key=lambda x: x, reverse=True)\n",
    "print ('Lambda sorted list:', listoffun)\n",
    "\n",
    "#figuring out when and when not to use key\n",
    "filteredlist = list(filter(lambda x: (x % 2 == 0), listoffun))\n",
    "print ('Lambda filtered list: ', filteredlist)\n",
    "\n"
   ]
  }
 ],
 "metadata": {
  "kernelspec": {
   "display_name": "base",
   "language": "python",
   "name": "python3"
  },
  "language_info": {
   "codemirror_mode": {
    "name": "ipython",
    "version": 3
   },
   "file_extension": ".py",
   "mimetype": "text/x-python",
   "name": "python",
   "nbconvert_exporter": "python",
   "pygments_lexer": "ipython3",
   "version": "3.12.7"
  }
 },
 "nbformat": 4,
 "nbformat_minor": 2
}
