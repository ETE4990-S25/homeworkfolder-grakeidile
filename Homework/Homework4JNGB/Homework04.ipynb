{
 "cells": [
  {
   "cell_type": "markdown",
   "id": "94336058-4ebc-4a98-9a56-de67b67d5ce5",
   "metadata": {},
   "source": [
    "# Homework #4\n",
    "\n",
    "Develop a function named decode(message_file). \n",
    "\n",
    "This function should read an encoded message from a .txt file and return its decoded version as a string.\n",
    "\n",
    "Your function must be able to process an input file with the following format:\n",
    "\n",
    "```\n",
    "3 love\n",
    "6 computers\n",
    "2 dogs\n",
    "4 cats\n",
    "1 I\n",
    "5 you\n",
    "```\n",
    "\n",
    "In this file, each line contains a number followed by a word. The task is to decode a hidden message based on the arrangement of these numbers into a \"pyramid\" structure. The numbers are placed into the pyramid in ascending order, with each line of the pyramid having one more number than the line above it. The smallest number is 1, and the numbers increase consecutively, like so:\n",
    "\n",
    "```\n",
    "   1\n",
    "  2 3\n",
    " 4 5 6\n",
    "7 8 9 10\n",
    "```\n",
    "\n",
    "The key to decoding the message is to use the words corresponding to the numbers at the end of each pyramid line (in this example, 1, 3, and 6). You should ignore all the other words. So for the example input file above, the message words are:\n",
    "\n",
    "```\n",
    "1: I\n",
    "3: love\n",
    "6: computers\n",
    "```\n",
    "and your function should return the string \"I love computers\".\n",
    "\n"
   ]
  },
  {
   "cell_type": "code",
   "execution_count": 3,
   "id": "2532f781-eb6b-4dcc-aad7-b1463a8f51a6",
   "metadata": {},
   "outputs": [
    {
     "name": "stdout",
     "output_type": "stream",
     "text": [
      "3 love\n",
      "6 computers\n",
      "2 dogs\n",
      "4 cats\n",
      "1 I\n",
      "5 you\n"
     ]
    },
    {
     "ename": "KeyboardInterrupt",
     "evalue": "",
     "output_type": "error",
     "traceback": [
      "\u001b[1;31m---------------------------------------------------------------------------\u001b[0m",
      "\u001b[1;31mKeyboardInterrupt\u001b[0m                         Traceback (most recent call last)",
      "Cell \u001b[1;32mIn[3], line 29\u001b[0m\n\u001b[0;32m     25\u001b[0m     decoded_message \u001b[38;5;241m=\u001b[39m \u001b[38;5;124m'\u001b[39m\u001b[38;5;124m \u001b[39m\u001b[38;5;124m'\u001b[39m\u001b[38;5;241m.\u001b[39mjoin(number_word_dict[number] \u001b[38;5;28;01mfor\u001b[39;00m number \u001b[38;5;129;01min\u001b[39;00m end_numbers)\n\u001b[0;32m     27\u001b[0m     \u001b[38;5;28;01mreturn\u001b[39;00m decoded_message\n\u001b[1;32m---> 29\u001b[0m decoded_message \u001b[38;5;241m=\u001b[39m decode(\u001b[38;5;124m'\u001b[39m\u001b[38;5;124mMessage.txt\u001b[39m\u001b[38;5;124m'\u001b[39m) \u001b[38;5;66;03m#wont return message, figuring out a diff way to do this function\u001b[39;00m\n\u001b[0;32m     30\u001b[0m \u001b[38;5;28mprint\u001b[39m (decoded_message)\n",
      "Cell \u001b[1;32mIn[3], line 20\u001b[0m, in \u001b[0;36mdecode\u001b[1;34m(contents)\u001b[0m\n\u001b[0;32m     18\u001b[0m start_number \u001b[38;5;241m=\u001b[39m \u001b[38;5;241m1\u001b[39m    \u001b[38;5;66;03m#it wanted me to bubble sort using \"len\" but i have no idea what that is yet so i didnt use it\u001b[39;00m\n\u001b[0;32m     19\u001b[0m incr \u001b[38;5;241m=\u001b[39m \u001b[38;5;241m1\u001b[39m            \u001b[38;5;66;03m#so now im gonna try Jayvees method\u001b[39;00m\n\u001b[1;32m---> 20\u001b[0m \u001b[38;5;28;01mwhile\u001b[39;00m start_number \u001b[38;5;129;01min\u001b[39;00m number_word_dict:\n\u001b[0;32m     21\u001b[0m     end_numbers\u001b[38;5;241m.\u001b[39mappend(start_number)\n\u001b[0;32m     22\u001b[0m     incr \u001b[38;5;241m+\u001b[39m\u001b[38;5;241m=\u001b[39m \u001b[38;5;241m1\u001b[39m\n",
      "\u001b[1;31mKeyboardInterrupt\u001b[0m: "
     ]
    }
   ],
   "source": [
    "#Code goes here (still working on it, not done)\n",
    "\n",
    "filename = 'Message.txt'\n",
    "with open(filename)as f:\n",
    "    contents = f.read()\n",
    "    print (contents)   #hell ya it found the file, coding pro right here (not)\n",
    "\n",
    "def decode(contents):\n",
    "    with open(contents , 'r') as f:\n",
    "        lines = f.readlines()\n",
    "\n",
    "    number_word_dict = {} #asked Jayvee for help here cause i got really confused on how to reorganize them\n",
    "    for line in lines:\n",
    "        number, word = line.split()\n",
    "        number_word_dict[int(number)] = word\n",
    "    \n",
    "    end_numbers = []    #had to ask evil ai how to do this portion, I know append but to make it like a dictionary then append was breaking my brain\n",
    "    start_number = 1    #it wanted me to bubble sort using \"len\" but i have no idea what that is yet so i didnt use it\n",
    "    incr = 1            #so now im gonna try Jayvees method\n",
    "    while start_number in number_word_dict:\n",
    "        end_numbers.append(start_number)\n",
    "        incr += 1\n",
    "        start_number +- incr\n",
    "\n",
    "    decoded_message = ' '.join(number_word_dict[number] for number in end_numbers)\n",
    "\n",
    "    return decoded_message\n",
    "\n",
    "decoded_message = decode('Message.txt') #wont return message, figuring out a diff way to do this function\n",
    "print (decoded_message)"
   ]
  }
 ],
 "metadata": {
  "kernelspec": {
   "display_name": "base",
   "language": "python",
   "name": "python3"
  },
  "language_info": {
   "codemirror_mode": {
    "name": "ipython",
    "version": 3
   },
   "file_extension": ".py",
   "mimetype": "text/x-python",
   "name": "python",
   "nbconvert_exporter": "python",
   "pygments_lexer": "ipython3",
   "version": "3.12.7"
  }
 },
 "nbformat": 4,
 "nbformat_minor": 5
}
