{
 "cells": [
  {
   "cell_type": "markdown",
   "metadata": {},
   "source": [
    "Grace Brisco"
   ]
  },
  {
   "cell_type": "markdown",
   "metadata": {},
   "source": [
    "## Lab Objective:\n",
    "Create a Python script that recursively searches a file system for files with identical names. Perform a comparison on files and output the file paths of identical files.\n",
    "\n",
    "## Required tasks\n",
    "1. A menu\n",
    "    - this should be fairly easy seeing as your games (should) already have a menu system\n",
    "2. Recursive Search\n",
    "    - a recursive search is a search that will travle into a folder and back out.\n",
    "3. Comparison\n",
    "    - I recomend using a check sum comparison operation like MD5 or SHA-256\n",
    "4. Output\n",
    "    - the program will output files and there directories \n",
    "        - this can be done live or after\n",
    "\n",
    "## Instructions:\n",
    "Submit the file as a .py show it running in a .ipynb file\n",
    "\n",
    "\n",
    "Please find some sample code below to get you started\n",
    "\n"
   ]
  },
  {
   "cell_type": "code",
   "execution_count": null,
   "metadata": {},
   "outputs": [
    {
     "name": "stdout",
     "output_type": "stream",
     "text": [
      "\n",
      "--- File Duplicate Finder ---\n",
      "1. Enter directory to search\n",
      "2. Exit\n"
     ]
    }
   ],
   "source": [
    "import os\n",
    "import hashlib\n",
    "\n",
    "def menu():\n",
    "    while True:\n",
    "        print(\"\\n--- File Duplicate Finder ---\")\n",
    "        print(\"1. Enter directory to search\")\n",
    "        print(\"2. Exit\")\n",
    "        choice = input(\"Choose an option: \")\n",
    "\n",
    "def find_duplicates(directory):\n",
    "    # search os.walk(directory):\n",
    "    for root, _, files in os.walk(directory):\n",
    "        for file in files:\n",
    "            file_path = os.path.join(root, file)\n",
    "\n",
    "    # use a dictionary to store file names and paths\n",
    "    # compare files with the same name\n",
    "\n",
    "def get_checksum(file_path):\n",
    "    hash_obj = hashlib.md5()  # Change to hashlib.sha256() if desired\n",
    "    with open(file_path, 'rb') as f:\n",
    "        while chunk := f.read(8192):\n",
    "            hash_obj.update(chunk)\n",
    "    return hash_obj.hexdigest()\n",
    "\n",
    "\n",
    "if __name__ == \"__main__\":\n",
    "    menu()"
   ]
  },
  {
   "cell_type": "code",
   "execution_count": null,
   "metadata": {},
   "outputs": [
    {
     "name": "stdout",
     "output_type": "stream",
     "text": [
      "\n",
      "--- File Duplicate Finder ---\n",
      "1. Enter directory to search\n",
      "2. Exit\n",
      "Error, {directory} does not exist\n",
      "\n",
      "--- File Duplicate Finder ---\n",
      "1. Enter directory to search\n",
      "2. Exit\n",
      "Invalid option\n",
      "\n",
      "--- File Duplicate Finder ---\n",
      "1. Enter directory to search\n",
      "2. Exit\n",
      "Invalid option\n",
      "\n",
      "--- File Duplicate Finder ---\n",
      "1. Enter directory to search\n",
      "2. Exit\n"
     ]
    }
   ],
   "source": [
    "#truthfully just trying to make the first code more functional (#struggling)\n",
    "#chatgpt barely helps so ill use what i can from it\n",
    "#im sorry if this code sucks\n",
    "\n",
    "import os\n",
    "import hashlib\n",
    "\n",
    "def menu():\n",
    "    while True:\n",
    "        print(\"\\n--- File Duplicate Finder ---\")\n",
    "        print(\"1. Enter directory to search\")\n",
    "        print(\"2. Exit\")\n",
    "\n",
    "        choice = input(\"Choose an option: \")\n",
    "\n",
    "        if choice == '1':\n",
    "            directory = input(\"Enter the directory to search for duplicates: \")\n",
    "            if os.path.exists(directory):\n",
    "                find_duplicates(directory)\n",
    "            else:\n",
    "                print('Error, {directory} does not exist')\n",
    "\n",
    "        elif choice == '2':\n",
    "            print('Exiting program')\n",
    "\n",
    "        else:\n",
    "            print ('Invalid option')\n",
    "\n",
    "def find_duplicates(directory):\n",
    "    checksums = {}\n",
    "\n",
    "    for root, _, files in os.walk(directory):\n",
    "        for file in files:\n",
    "            file_path = os.path.join(root, file)\n",
    "\n",
    "        checksum = get_checksum(file_path)\n",
    "\n",
    "        if checksum in checksums:\n",
    "            checksums[checksum].append(file_path)\n",
    "        else:\n",
    "            checksums[checksum] = [file_path]\n",
    "        \n",
    "    duplicates = False\n",
    "    for paths in checksum.values():\n",
    "        if len(paths) >1:\n",
    "            duplicates = True\n",
    "            print ('Duplicate files found')\n",
    "            for path in paths:\n",
    "                print (f'{path}')\n",
    "            print()\n",
    "\n",
    "    if not duplicates:\n",
    "        print ('No duplicate files found.')\n",
    "\n",
    "def get_checksum(file_path):\n",
    "    hash_obj = hashlib.md5()\n",
    "    with open(file_path, 'rb') as f:\n",
    "        hash_obj.update(chunk)\n",
    "    return hash_obj.hexdigest()\n",
    "\n",
    "if __name__ == '__main__':\n",
    "    menu()\n",
    "\n",
    "#i understand the concept, however the application in this sense is super confusing using the os\n",
    "#i cant get it to go past like phase 2 and im not sure why, even when i change the input"
   ]
  }
 ],
 "metadata": {
  "kernelspec": {
   "display_name": "base",
   "language": "python",
   "name": "python3"
  },
  "language_info": {
   "codemirror_mode": {
    "name": "ipython",
    "version": 3
   },
   "file_extension": ".py",
   "mimetype": "text/x-python",
   "name": "python",
   "nbconvert_exporter": "python",
   "pygments_lexer": "ipython3",
   "version": "3.12.7"
  }
 },
 "nbformat": 4,
 "nbformat_minor": 2
}
