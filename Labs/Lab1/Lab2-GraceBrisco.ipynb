{
 "cells": [
  {
   "cell_type": "markdown",
   "id": "0209af47-6b8d-4f34-8292-aa79deef5088",
   "metadata": {},
   "source": [
    "# Lab 2 - Refactoring\n",
    "## Refactoring is:\n",
    "\n",
    "Refactoring is the process of restructuring or rewriting code, while not changing its original functionality. The goal of refactoring is to improve internal code by making many small changes without altering the code's external behavior. \n",
    "\n",
    "It is easier said than done. "
   ]
  },
  {
   "cell_type": "markdown",
   "id": "f470981d-7433-42f0-a742-a9ddeae57056",
   "metadata": {},
   "source": [
    "### Part 1 - Warm-up\n",
    "\n",
    "You will refactor the following code:"
   ]
  },
  {
   "cell_type": "code",
   "execution_count": 2,
   "id": "b817e22e-46ae-4dfe-9a38-c3d3e818168b",
   "metadata": {},
   "outputs": [
    {
     "name": "stdin",
     "output_type": "stream",
     "text": [
      "Enter a number:  4\n"
     ]
    },
    {
     "name": "stdout",
     "output_type": "stream",
     "text": [
      "5 is more than 4\n"
     ]
    }
   ],
   "source": [
    "#stolen from https://realpython.com/python-refactoring/\n",
    "#yes you can go there and look at what they did no do it yourself\n",
    "x = 5\n",
    "value = input(\"Enter a number: \")\n",
    "y = int(value)\n",
    "if x < y:\n",
    "    print(f\"{x} is less than {y}\")\n",
    "elif x == y:\n",
    "    print(f\"{x} is equal to {y}\")\n",
    "else:\n",
    "    print(f\"{x} is more than {y}\")"
   ]
  },
  {
   "cell_type": "code",
   "execution_count": 4,
   "id": "033cf53c-96bc-4174-813d-09ad088787d6",
   "metadata": {},
   "outputs": [
    {
     "name": "stdin",
     "output_type": "stream",
     "text": [
      "Enter a number:  4\n"
     ]
    },
    {
     "name": "stdout",
     "output_type": "stream",
     "text": [
      "5 is\n",
      "more than\n",
      "4\n"
     ]
    }
   ],
   "source": [
    "# put your refactored code here\n",
    "solution = 5\n",
    "yourGuess = int(input(\"Enter a number: \"))\n",
    "print (solution, \"is\")\n",
    "\n",
    "if solution < yourGuess:\n",
    "    print(\"less than\")\n",
    "elif solution > yourGuess:\n",
    "    print(\"more than\")\n",
    "else:\n",
    "    print(\"equal to\")\n",
    "\n",
    "print (f\"{yourGuess}\")"
   ]
  },
  {
   "cell_type": "markdown",
   "id": "bb9edc37-9bd7-4b4a-8ec1-d1465d85be37",
   "metadata": {},
   "source": [
    "## Part 2\n",
    "Refactor the following"
   ]
  },
  {
   "cell_type": "code",
   "execution_count": null,
   "id": "733c4d16-c02c-4058-9cb6-4b751c86dc93",
   "metadata": {},
   "outputs": [],
   "source": [
    "def a(x, y):\n",
    "    if x == \"wizard\":\n",
    "        if y == \"fireball\":\n",
    "            return \"casts fireball\"\n",
    "        elif y == \"lightning\":\n",
    "            return \"casts lightning\"\n",
    "        else:\n",
    "            return \"does nothing\"\n",
    "    elif x == \"warrior\":\n",
    "        if y == \"slash\":\n",
    "            return \"slashes with sword\"\n",
    "        elif y == \"bash\":\n",
    "            return \"bashes with shield\"\n",
    "        else:\n",
    "            return \"does nothing\"\n",
    "    else:\n",
    "        return \"does nothing\"\n",
    "\n",
    "def b(z):\n",
    "    for i in range(10):\n",
    "        if z == \"dragon\":\n",
    "            return \"fights dragon\"\n",
    "        elif z == \"goblin\":\n",
    "            return \"fights goblin\"\n",
    "        elif z == \"orc\":\n",
    "            return \"fights orc\"\n",
    "        else:\n",
    "            return \"does nothing\"\n",
    "\n",
    "def c():\n",
    "    for i in range(5):\n",
    "        print(\"exploring dungeon\")\n",
    "    for j in range(5):\n",
    "        print(\"finding treasure\")\n",
    "\n",
    "\n",
    "print(a(\"wizard\", \"fireball\"))\n",
    "print(a(\"warrior\", \"slash\"))\n",
    "print(b(\"dragon\"))\n",
    "c()\n"
   ]
  },
  {
   "cell_type": "code",
   "execution_count": 5,
   "id": "04940355",
   "metadata": {
    "scrolled": true
   },
   "outputs": [],
   "source": [
    "# put your refactored code here\n",
    "def a(inPlayType, inPlayAttk, inPlayEnemy):\n",
    "\n",
    "    spells = [\"fireball\",\"lightning\"]\n",
    "    attack = [\"slash\",\"bash\"]\n",
    "    enemy = [\"dragon\",\"goblin\",\"orc\"]\n",
    "    \n",
    "    if inPlayType == \"wizard\":\n",
    "        if inPlayAttk in spells:\n",
    "            return \"casts\" + inPlayAttk\n",
    "            if inPlayEnmy in enemy:\n",
    "                return \"on\" + inPlayEnemy\n",
    "        return \"does nothing\"\n",
    "\n",
    "    elif inPlayType == \"warrior\":\n",
    "        if inPlayAttk in attack:\n",
    "            return \"does\" + inPlayAttk\n",
    "            if inPlayEnmy in enemy:\n",
    "                return \"on\" + inPlayEnemy\n",
    "        return \"does nothing\"\n",
    "\n",
    "    return \"does nothing\""
   ]
  },
  {
   "cell_type": "markdown",
   "id": "e6de4349",
   "metadata": {},
   "source": [
    "# Part 3\n",
    "Refactor your partners lab 1 code so it is a clean function. Look at part 4 and see how you can adapt the code to fit project one. "
   ]
  },
  {
   "cell_type": "code",
   "execution_count": null,
   "id": "9f146d0b-3e1c-4548-910c-cd5353ecf2d1",
   "metadata": {},
   "outputs": [],
   "source": [
    "#code from lab 1\n",
    "'''\n",
    "import random\n",
    " print (\"You dare face the mighty Megatron in a fiery game of dice roll?\")\n",
    " print (\"Roll if you're feeling lucky kid!\")\n",
    " def dice_face():\n",
    "    list1 = [1, 2, 3, 4, 5, 6]\n",
    "    return random.choice(list1)\n",
    " input(\"Press Enter to battle Megatron in dice roll...\")\n",
    " user_dice=dice_face()\n",
    " computer_dice=dice_face()\n",
    " list2 = (dice_face(), dice_face(), dice_face(), dice_face(), dice_face())\n",
    " user_dice = list2\n",
    " print (\"You rolled :\", user_dice)\n",
    " list3 = (dice_face(), dice_face(), dice_face(), dice_face(), dice_face())\n",
    " computer_dice = list3\n",
    " print (\"Megatron rolled :\", computer_dice)\n",
    "\n",
    "if list2[0] > list3[0]:\n",
    "    print (\"Owww you injured the mighty Megatron\")\n",
    " elif list2[0] < list3[0]: \n",
    "    print (\"Megatron has gained an advantage\")\n",
    " else: \n",
    "    print (\"No one has advanced in this game\")\n",
    " if list2[1] > list3[1]:\n",
    "    print (\"Owww you injured the mighty Megatron\")\n",
    " elif list2[1] < list3[1]: \n",
    "    print (\"Megatron has gained an advantage\")\n",
    " else: \n",
    "    print (\"No one has advanced in this game\")\n",
    " if list2[2] > list3[2]:\n",
    "    print (\"Owww you injured the mighty Megatron\")\n",
    " elif list2[2] < list3[2]: \n",
    "    print (\"Megatron has gained an advantage\")\n",
    " else:\n",
    "    print (\"No one has advanced in this game\")\n",
    " if list2[3] > list3[3]:\n",
    "    print (\"Owww you injured the mighty Megatron\")\n",
    " elif list2[3] < list3[3]: \n",
    "    print (\"Megatron has gained an advantage\")\n",
    " else:\n",
    "    print (\"No one has advanced in this game\")\n",
    " if list2[4] > list3[4]:\n",
    "    print (\"Owww you injured the mighty Megatron\")\n",
    " elif list2[4] < list3[4]: \n",
    "    print (\"Megatron has gained an advantage\")\n",
    " else:\n",
    "    print (\"No one has advanced in this game\")\n",
    "\n",
    "Finalscore_user = list2[0]+list2[1]+list2[2]+list2[3]+list2[4]\n",
    " Finalscore_computer =list3[0]+list3[1]+list3[2]+list3[3]+list3[4] \n",
    " if Finalscore_user > Finalscore_computer:\n",
    "    print (\"You've won, the Autobots have saved Cybertron!\", Finalscore_user, \n",
    "Finalscore_computer)\n",
    " elif Finalscore_user < Finalscore_computer:\n",
    "    print (\"You've lost, Cybertron has fallen...\", Finalscore_user, \n",
    "Finalscore_computer)\n",
    " else:\n",
    "    print (\"It's a draw, start over!\", Finalscore_user, Finalscore_computer) "
   ]
  },
  {
   "cell_type": "code",
   "execution_count": 6,
   "id": "7b62ed26-c23a-4626-a330-4cc882f17ad8",
   "metadata": {},
   "outputs": [
    {
     "name": "stdin",
     "output_type": "stream",
     "text": [
      "You dare face the mighty Megatron in a fiery game of dice roll? Roll if you're feeling lucky kid! Press Enter to battle Megatron in dice roll... \n"
     ]
    },
    {
     "name": "stdout",
     "output_type": "stream",
     "text": [
      "You rolled:  3 Megatron rolled: 5\n",
      "Megatron has gained an advantage\n"
     ]
    },
    {
     "name": "stdin",
     "output_type": "stream",
     "text": [
      "You dare face the mighty Megatron in a fiery game of dice roll? Roll if you're feeling lucky kid! Press Enter to battle Megatron in dice roll... \n"
     ]
    },
    {
     "name": "stdout",
     "output_type": "stream",
     "text": [
      "You rolled:  1 Megatron rolled: 3\n",
      "Megatron has gained an advantage\n"
     ]
    },
    {
     "name": "stdin",
     "output_type": "stream",
     "text": [
      "You dare face the mighty Megatron in a fiery game of dice roll? Roll if you're feeling lucky kid! Press Enter to battle Megatron in dice roll... \n"
     ]
    },
    {
     "name": "stdout",
     "output_type": "stream",
     "text": [
      "You rolled:  5 Megatron rolled: 2\n",
      "Owww you injured the mighty Megatron\n"
     ]
    },
    {
     "name": "stdin",
     "output_type": "stream",
     "text": [
      "You dare face the mighty Megatron in a fiery game of dice roll? Roll if you're feeling lucky kid! Press Enter to battle Megatron in dice roll... \n"
     ]
    },
    {
     "name": "stdout",
     "output_type": "stream",
     "text": [
      "You rolled:  1 Megatron rolled: 3\n",
      "Megatron has gained an advantage\n"
     ]
    },
    {
     "name": "stdin",
     "output_type": "stream",
     "text": [
      "You dare face the mighty Megatron in a fiery game of dice roll? Roll if you're feeling lucky kid! Press Enter to battle Megatron in dice roll... \n"
     ]
    },
    {
     "name": "stdout",
     "output_type": "stream",
     "text": [
      "You rolled:  3 Megatron rolled: 6\n",
      "Megatron has gained an advantage\n",
      "Your score is : 13\n",
      "Megatron's score is: 19\n",
      "You've lost, Cybertron has fallen...\n"
     ]
    }
   ],
   "source": [
    "# put your refactored code here\n",
    "import random\n",
    "\n",
    "\n",
    "totalplr = 0\n",
    "totalmgn = 0\n",
    "\n",
    "for x in range(5):\n",
    "\n",
    "    input(\"You dare face the mighty Megatron in a fiery game of dice roll? Roll if you're feeling lucky kid! Press Enter to battle Megatron in dice roll...\")\n",
    "    playroll = random.choice([1,2,3,4,5,6])\n",
    "    megaroll = random.choice([1,2,3,4,5,6])\n",
    "\n",
    "    print (\"You rolled: \", playroll , \"Megatron rolled:\", megaroll)\n",
    "    if playroll > megaroll:\n",
    "        print (\"Owww you injured the mighty Megatron\")\n",
    "    elif playroll < megaroll:\n",
    "        print (\"Megatron has gained an advantage\")\n",
    "    else:\n",
    "        print (\"No one has advanced in this game\")\n",
    "\n",
    "    totalplr += playroll\n",
    "    totalmgn += megaroll\n",
    "\n",
    "print (\"Your score is :\", totalplr)\n",
    "print (\"Megatron's score is:\", totalmgn)\n",
    "\n",
    "if totalplr > totalmgn:\n",
    "    print (\"You've won, the Autobots have saved Cybertron!\")\n",
    "elif totalplr < totalmgn:\n",
    "    print (\"You've lost, Cybertron has fallen...\")\n",
    "else:\n",
    "    print (\"It's a draw, start over!\")\n",
    "    "
   ]
  },
  {
   "cell_type": "markdown",
   "id": "e589c6c8-f937-47e0-8db2-a37e03c12336",
   "metadata": {},
   "source": [
    "## Part 4 - take home but start in class                  \n",
    "# Project #1  introduction \n",
    "\n",
    "\n",
    "Your task is to develop a text-based video game focusing on the player profile, inventory system, and combat mechanics. Create a realistic player character with at least 10 inventory items, each with a description and an associated trait. Enjoy the process!\n",
    "\n",
    "Incorporate all the concepts we've covered so far, including files (read and write), JSON, operators, lists, optional tuples, functions, modules, and classes.\n",
    "\n",
    "### Requirements:\n",
    "- **Player Type Selection**: Allow players to choose their character type. Set attributes based on the choice (e.g., wizard: magic = 10, knight: magic = 0).\n",
    "- **Inventory Display**: Implement a function to show the player's inventory.\n",
    "- **Item Details**: Write a function to provide detailed information about an inventory item (e.g., Knife: \"forged in the depths of Polymar\", +5 magic, edged weapon, one-handed).\n",
    "  - Bonus: Calculate bonuses when equipping and unequipping items.\n",
    "- **Inventory Management**: Create functions to add and remove items from the inventory.\n",
    "- **Persistence**: Ensure the game can save and reload the player's character using files.\n",
    "\n",
    "Focus on building the player and inventory system for your text-based adventure game (similar to Zork). The map and gameplay can be developed later.\n",
    "\n",
    "### Game Features:\n",
    "- **Player Profile**: Include player stats.\n",
    "- **Inventory System**: Implement a bag to hold items.\n",
    "- **Items**: Include 10 items, each with a description and trait (e.g., +5 magic).\n",
    "- **Concepts**: Utilize functions, loops, arrays, classes, and constants. You may also use files and structs if desired.\n",
    "- **Player Type Selection**: Allow players to choose their character type and set attributes accordingly (e.g., wizard: magic = 10, knight: magic = 0).\n",
    "- **Inventory Display**: Implement a function to show the player's inventory.\n",
    "- **Code Quality**: Keep your code clean and consider various player needs, as this project will be handed off to a partner for further development.\n",
    "\n"
   ]
  },
  {
   "cell_type": "markdown",
   "id": "1fe3ba5e-722b-4ed8-b36f-c9ebd718bd7d",
   "metadata": {},
   "source": [
    "# Project 1 - Part 1\n",
    "Spend time planning out your code. You may work with your partner to plan out your code. How would you like your game to play? \n",
    "\n",
    "Use a UML planner like: \n",
    "\n",
    "\n",
    "https://miro.com/\n"
   ]
  },
  {
   "cell_type": "code",
   "execution_count": null,
   "id": "3bdce5be-0a31-4cf9-ba17-0f5be8cefc33",
   "metadata": {},
   "outputs": [],
   "source": []
  }
 ],
 "metadata": {
  "kernelspec": {
   "display_name": "Python 3 (ipykernel)",
   "language": "python",
   "name": "python3"
  },
  "language_info": {
   "codemirror_mode": {
    "name": "ipython",
    "version": 3
   },
   "file_extension": ".py",
   "mimetype": "text/x-python",
   "name": "python",
   "nbconvert_exporter": "python",
   "pygments_lexer": "ipython3",
   "version": "3.12.7"
  }
 },
 "nbformat": 4,
 "nbformat_minor": 5
}
