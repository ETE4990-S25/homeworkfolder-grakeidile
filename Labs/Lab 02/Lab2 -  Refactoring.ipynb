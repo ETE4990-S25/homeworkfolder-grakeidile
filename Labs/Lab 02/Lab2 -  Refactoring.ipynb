{
 "cells": [
  {
   "cell_type": "markdown",
   "id": "0209af47-6b8d-4f34-8292-aa79deef5088",
   "metadata": {},
   "source": [
    "# Lab 2 - Refactoring\n",
    "## Refactoring is:\n",
    "\n",
    "Refactoring is the process of restructuring or rewriting code, while not changing its original functionality. The goal of refactoring is to improve internal code by making many small changes without altering the code's external behavior. \n",
    "\n",
    "It is easier said than done. "
   ]
  },
  {
   "cell_type": "markdown",
   "id": "f470981d-7433-42f0-a742-a9ddeae57056",
   "metadata": {},
   "source": [
    "### Part 1 - Warm-up\n",
    "\n",
    "You will refactor the following code:"
   ]
  },
  {
   "cell_type": "code",
   "execution_count": 2,
   "id": "b817e22e-46ae-4dfe-9a38-c3d3e818168b",
   "metadata": {},
   "outputs": [
    {
     "name": "stdout",
     "output_type": "stream",
     "text": [
      "Enter a number:  1\n"
     ]
    },
    {
     "name": "stdout",
     "output_type": "stream",
     "text": [
      "5 is more than 1\n"
     ]
    }
   ],
   "source": [
    "#stolen from https://realpython.com/python-refactoring/\n",
    "#yes you can go there and look at what they did no do it yourself\n",
    "x = 5\n",
    "value = input(\"Enter a number: \")\n",
    "y = int(value)\n",
    "if x < y:\n",
    "    print(f\"{x} is less than {y}\")\n",
    "elif x == y:\n",
    "    print(f\"{x} is equal to {y}\")\n",
    "else:\n",
    "    print(f\"{x} is more than {y}\")"
   ]
  },
  {
   "cell_type": "code",
   "execution_count": null,
   "id": "033cf53c-96bc-4174-813d-09ad088787d6",
   "metadata": {},
   "outputs": [],
   "source": [
    "solution = 5\n",
    "yourGuess = int(input(\"Enter a number: \"))\n",
    "print(solution,\" is\")\n",
    "\n",
    "if solution < yourGuess:\n",
    "    print(\"less than\")\n",
    "elif  solution == yourGuess:\n",
    "    print(\"equal to\")\n",
    "else:\n",
    "    print(\"more than\")\n",
    "\n",
    "print(f\"{yourGuess}\")\n",
    "\n",
    "\n",
    "x = 5\n",
    "y = int(input(\"Enter a number: \"))\n",
    "\n",
    "comparison = \"less than\" if x < y else \"equal to\" if x == y else \"more than\"\n",
    "# name = value if condition else value if condition2 else value2\n",
    "print(f\"{x} is {comparison} {y}\")"
   ]
  },
  {
   "cell_type": "markdown",
   "id": "bb9edc37-9bd7-4b4a-8ec1-d1465d85be37",
   "metadata": {},
   "source": [
    "## Part 2\n",
    "Refactor the following"
   ]
  },
  {
   "cell_type": "code",
   "execution_count": null,
   "id": "733c4d16-c02c-4058-9cb6-4b751c86dc93",
   "metadata": {},
   "outputs": [],
   "source": [
    "def attacks(inCharType, inCharSpell):\n",
    "    #charType=[\"wizard\",\"warrior\"]\n",
    "\n",
    "    wizardSpells= [\"fireball\",\"lightning\",\"cry\"]\n",
    "    mageSpells = \n",
    "    attacks = [\"slash\",\"bash\",\"weep\"]\n",
    "\n",
    "    if inCharType == \"wizard\":\n",
    "        if inCharSpell in spells:\n",
    "            return \"casts \" + inCharSpell\n",
    "    elif inCharType == \"warrior\":\n",
    "        if inCharSpell in attacks:\n",
    "            return inCharType.attack()\n",
    "             \n",
    "    return \"does nothing\"\n",
    "\n",
    "def b(z):\n",
    "    for i in range(10):\n",
    "        if z == \"dragon\":\n",
    "            return \"fights dragon\"\n",
    "        elif z == \"goblin\":\n",
    "            return \"fights goblin\"\n",
    "        elif z == \"orc\":\n",
    "            return \"fights orc\"\n",
    "        elif \n",
    "            z==\n",
    "        else:\n",
    "            return \"does nothing\"   \n",
    "\n",
    "    def c():\n",
    "        for i in range(5):\n",
    "            print(\"exploring dungeon\")\n",
    "        for j in range(5):\n",
    "            print(\"finding treasure\")\n",
    "\n",
    "def main():\n",
    "    print(a(\"wizard\", \"fireball\"))\n",
    "    print(a(\"warrior\", \"slash\"))\n",
    "    print(b(\"dragon\"))\n",
    "    c()\n",
    "main()"
   ]
  },
  {
   "cell_type": "code",
   "execution_count": 9,
   "metadata": {},
   "outputs": [
    {
     "data": {
      "text/plain": [
       "'does nothing'"
      ]
     },
     "execution_count": 9,
     "metadata": {},
     "output_type": "execute_result"
    }
   ],
   "source": [
    "spells = [\"fireball\",\"lightning\",\"slash\",\"bash\"]\n",
    "def tmp(playersClassType, playersCastingSpell):\n",
    "    global spells\n",
    "    if PlayersClassType == \"wizard\":\n",
    "        if playersCastingSpell in spells[0:2]:\n",
    "            return \"casts \" + inCharSpell\n",
    "        return \"does nothing\"\n",
    "tmp(\"wizard\",\"slash\")"
   ]
  },
  {
   "cell_type": "code",
   "execution_count": null,
   "metadata": {},
   "outputs": [],
   "source": [
    "playersClassType == \"wizard\":\n",
    "        if playersCastingSpell in spells[0:2]:\n",
    "            return \"casts \" + inCharSpell\n",
    "        return \"does nothing\"\n",
    "tmp(\"wizard\",\"slash\")"
   ]
  },
  {
   "cell_type": "code",
   "execution_count": 8,
   "metadata": {},
   "outputs": [
    {
     "data": {
      "text/plain": [
       "['fireball', 'lightning']"
      ]
     },
     "execution_count": 8,
     "metadata": {},
     "output_type": "execute_result"
    }
   ],
   "source": [
    "spells[0:2]"
   ]
  },
  {
   "cell_type": "code",
   "execution_count": null,
   "metadata": {},
   "outputs": [],
   "source": [
    "# put your refactored code here"
   ]
  },
  {
   "cell_type": "markdown",
   "metadata": {},
   "source": [
    "# Part 3\n",
    "Refactor your partners lab 1 code so it is a clean function. Look at part 4 and see how you can adapt the code to fit project one. "
   ]
  },
  {
   "cell_type": "code",
   "execution_count": null,
   "metadata": {},
   "outputs": [],
   "source": [
    "# put your refactored code here"
   ]
  },
  {
   "cell_type": "markdown",
   "id": "e589c6c8-f937-47e0-8db2-a37e03c12336",
   "metadata": {},
   "source": [
    "## Part 4 - take home but start in class                  \n",
    "# Project #1  introduction \n",
    "\n",
    "\n",
    "Your task is to develop a text-based video game focusing on the player profile, inventory system, and combat mechanics. Create a realistic player character with at least 10 inventory items, each with a description and an associated trait. Enjoy the process!\n",
    "\n",
    "Incorporate all the concepts we've covered so far, including files (read and write), JSON, operators, lists, optional tuples, functions, modules, and classes.\n",
    "\n",
    "### Requirements:\n",
    "- **Player Type Selection**: Allow players to choose their character type. Set attributes based on the choice (e.g., wizard: magic = 10, knight: magic = 0).\n",
    "- **Inventory Display**: Implement a function to show the player's inventory.\n",
    "- **Item Details**: Write a function to provide detailed information about an inventory item (e.g., Knife: \"forged in the depths of Polymar\", +5 magic, edged weapon, one-handed).\n",
    "  - Bonus: Calculate bonuses when equipping and unequipping items.\n",
    "- **Inventory Management**: Create functions to add and remove items from the inventory.\n",
    "- **Persistence**: Ensure the game can save and reload the player's character using files.\n",
    "\n",
    "Focus on building the player and inventory system for your text-based adventure game (similar to Zork). The map and gameplay can be developed later.\n",
    "\n",
    "### Game Features:\n",
    "- **Player Profile**: Include player stats.\n",
    "- **Inventory System**: Implement a bag to hold items.\n",
    "- **Items**: Include 10 items, each with a description and trait (e.g., +5 magic).\n",
    "- **Concepts**: Utilize functions, loops, arrays, classes, and constants. You may also use files and structs if desired.\n",
    "- **Player Type Selection**: Allow players to choose their character type and set attributes accordingly (e.g., wizard: magic = 10, knight: magic = 0).\n",
    "- **Inventory Display**: Implement a function to show the player's inventory.\n",
    "- **Code Quality**: Keep your code clean and consider various player needs, as this project will be handed off to a partner for further development.\n",
    "\n"
   ]
  },
  {
   "cell_type": "markdown",
   "id": "1fe3ba5e-722b-4ed8-b36f-c9ebd718bd7d",
   "metadata": {},
   "source": [
    "# Project 1 - Part 1\n",
    "Spend time planning out your code. You may work with your partner to plan out your code. How would you like your game to play? \n",
    "\n",
    "Use a UML planner like: \n",
    "\n",
    "\n",
    "https://miro.com/\n"
   ]
  },
  {
   "cell_type": "code",
   "execution_count": null,
   "id": "3bdce5be-0a31-4cf9-ba17-0f5be8cefc33",
   "metadata": {},
   "outputs": [],
   "source": []
  }
 ],
 "metadata": {
  "kernelspec": {
   "display_name": "Python 3",
   "language": "python",
   "name": "python3"
  },
  "language_info": {
   "codemirror_mode": {
    "name": "ipython",
    "version": 3
   },
   "file_extension": ".py",
   "mimetype": "text/x-python",
   "name": "python",
   "nbconvert_exporter": "python",
   "pygments_lexer": "ipython3",
   "version": "3.11.11"
  }
 },
 "nbformat": 4,
 "nbformat_minor": 5
}
