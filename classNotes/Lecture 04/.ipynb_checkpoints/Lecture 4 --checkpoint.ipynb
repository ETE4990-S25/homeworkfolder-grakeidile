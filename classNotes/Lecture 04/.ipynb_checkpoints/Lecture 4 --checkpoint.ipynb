{
 "cells": [
  {
   "cell_type": "code",
   "execution_count": 1,
   "id": "64017c2d",
   "metadata": {},
   "outputs": [
    {
     "name": "stdout",
     "output_type": "stream",
     "text": [
      "you have classes\n"
     ]
    }
   ],
   "source": [
    "classes = [\"math\", \"physics\", \"ETE\"]\n",
    "if classes:\n",
    "    print(\"you have classes\")"
   ]
  },
  {
   "cell_type": "code",
   "execution_count": 3,
   "id": "84e3ee78",
   "metadata": {},
   "outputs": [],
   "source": [
    "abc = []\n",
    "if abc:\n",
    "    print(\"lalala\")"
   ]
  },
  {
   "cell_type": "code",
   "execution_count": 4,
   "id": "9b857e7a",
   "metadata": {},
   "outputs": [],
   "source": [
    "brands = [\"Jeep\", \"BMW\", \"Audi\", \"Kia\"]\n",
    "brands2 = [\"Kia\", \"Dodge\", \"Honda\", \"Tesla\"]\n",
    "    "
   ]
  },
  {
   "cell_type": "code",
   "execution_count": 5,
   "id": "59f46718",
   "metadata": {},
   "outputs": [
    {
     "name": "stdout",
     "output_type": "stream",
     "text": [
      "Kia  is already in brands\n",
      "Adding  Dodge  to brands\n",
      "Adding  Honda  to brands\n",
      "Adding  Tesla  to brands\n"
     ]
    }
   ],
   "source": [
    "for tmp in brands2:\n",
    "    if tmp in brands:\n",
    "        print(tmp, \" is already in brands\")\n",
    "    else:\n",
    "        print(\"Adding \", tmp, \" to brands\")\n",
    "        brands.append(tmp)"
   ]
  },
  {
   "cell_type": "code",
   "execution_count": 6,
   "id": "415eb515",
   "metadata": {},
   "outputs": [
    {
     "data": {
      "text/plain": [
       "['Jeep', 'BMW', 'Audi', 'Kia', 'Dodge', 'Honda', 'Tesla']"
      ]
     },
     "execution_count": 6,
     "metadata": {},
     "output_type": "execute_result"
    }
   ],
   "source": [
    "brands"
   ]
  },
  {
   "cell_type": "markdown",
   "id": "14bac848",
   "metadata": {},
   "source": [
    "# User Input"
   ]
  },
  {
   "cell_type": "code",
   "execution_count": 7,
   "id": "d3488a70",
   "metadata": {},
   "outputs": [
    {
     "name": "stdin",
     "output_type": "stream",
     "text": [
      "How old are you?  4\n"
     ]
    },
    {
     "name": "stdout",
     "output_type": "stream",
     "text": [
      "<class 'str'>\n"
     ]
    }
   ],
   "source": [
    "age = input(\"How old are you? \")\n",
    "print(type(age))"
   ]
  },
  {
   "cell_type": "code",
   "execution_count": 9,
   "id": "47cfcc37",
   "metadata": {},
   "outputs": [
    {
     "name": "stdin",
     "output_type": "stream",
     "text": [
      "How old are you?  12\n"
     ]
    },
    {
     "name": "stdout",
     "output_type": "stream",
     "text": [
      "<class 'int'>\n"
     ]
    }
   ],
   "source": [
    "age = int(input(\"How old are you? \"))\n",
    "print(type(age))"
   ]
  },
  {
   "cell_type": "markdown",
   "id": "1d269bfe",
   "metadata": {},
   "source": [
    "# Modulo"
   ]
  },
  {
   "cell_type": "code",
   "execution_count": 10,
   "id": "fb233907",
   "metadata": {},
   "outputs": [
    {
     "name": "stdout",
     "output_type": "stream",
     "text": [
      "5\n",
      "6\n",
      "3\n"
     ]
    }
   ],
   "source": [
    "print(5%13)\n",
    "print(6%13)\n",
    "print(3%6)"
   ]
  },
  {
   "cell_type": "code",
   "execution_count": 11,
   "id": "880077b6",
   "metadata": {},
   "outputs": [
    {
     "name": "stdout",
     "output_type": "stream",
     "text": [
      "\n",
      "The number 12 is even.\n"
     ]
    }
   ],
   "source": [
    "if age % 2 == 0:\n",
    "    print(\"\\nThe number \" + str(age) + \" is even.\")\n",
    "else:\n",
    "    print(\"\\nThe number \" + str(age) + \" is odd.\")"
   ]
  },
  {
   "cell_type": "markdown",
   "id": "cac1bc09",
   "metadata": {},
   "source": [
    "# Flags"
   ]
  },
  {
   "cell_type": "code",
   "execution_count": 12,
   "id": "4b498647",
   "metadata": {},
   "outputs": [
    {
     "name": "stdin",
     "output_type": "stream",
     "text": [
      "you are stuck forever a\n"
     ]
    },
    {
     "name": "stdout",
     "output_type": "stream",
     "text": [
      "a\n"
     ]
    },
    {
     "name": "stdin",
     "output_type": "stream",
     "text": [
      "you are stuck forever a\n"
     ]
    },
    {
     "name": "stdout",
     "output_type": "stream",
     "text": [
      "a\n"
     ]
    },
    {
     "name": "stdin",
     "output_type": "stream",
     "text": [
      "you are stuck forever a\n"
     ]
    },
    {
     "name": "stdout",
     "output_type": "stream",
     "text": [
      "a\n"
     ]
    },
    {
     "name": "stdin",
     "output_type": "stream",
     "text": [
      "you are stuck forever a\n"
     ]
    },
    {
     "name": "stdout",
     "output_type": "stream",
     "text": [
      "a\n"
     ]
    },
    {
     "name": "stdin",
     "output_type": "stream",
     "text": [
      "you are stuck forever quit\n"
     ]
    }
   ],
   "source": [
    "active = True\n",
    "while active:\n",
    "    message = input(\"you are stuck forever\")\n",
    "    if message == 'quit':\n",
    "        active = False\n",
    "    else:\n",
    "        print(message)"
   ]
  },
  {
   "cell_type": "code",
   "execution_count": 13,
   "id": "79bef2d7",
   "metadata": {},
   "outputs": [
    {
     "name": "stdout",
     "output_type": "stream",
     "text": [
      "1\n",
      "3\n",
      "5\n",
      "7\n",
      "9\n"
     ]
    }
   ],
   "source": [
    "current_number = 0\n",
    "while current_number < 10:\n",
    "    current_number +=1 # wont work\n",
    "    \n",
    "    if current_number % 2 == 0:\n",
    "        continue \n",
    "    print(current_number)\n"
   ]
  },
  {
   "cell_type": "code",
   "execution_count": 14,
   "id": "4526dcec",
   "metadata": {},
   "outputs": [
    {
     "name": "stdout",
     "output_type": "stream",
     "text": [
      "1\n",
      "3\n",
      "5\n",
      "7\n",
      "9\n"
     ]
    }
   ],
   "source": [
    "for current_number in range(1,10):\n",
    "    if current_number % 2 == 0:\n",
    "        continue\n",
    "    print(current_number)"
   ]
  },
  {
   "cell_type": "code",
   "execution_count": 16,
   "id": "44f4209b",
   "metadata": {},
   "outputs": [
    {
     "name": "stdout",
     "output_type": "stream",
     "text": [
      "you now have  ['A real car', 'A real car']\n"
     ]
    }
   ],
   "source": [
    "brands = [\"A real car\",\"subaru\", \"subaru\", \"subaru\", \"subaru\",\"A real car\"]\n",
    "while \"subaru\" in brands:\n",
    "    brands.remove(\"subaru\")\n",
    "print(\"you now have \", brands)"
   ]
  },
  {
   "cell_type": "markdown",
   "id": "b0eb5017",
   "metadata": {},
   "source": [
    "    Even numbers are always divisible by two, so if the modulo of a number and two is zero (here, if number % 2 == 0) the number is even. Otherwise, it’s odd."
   ]
  },
  {
   "cell_type": "markdown",
   "id": "d7973409",
   "metadata": {},
   "source": [
    "# Dictionary"
   ]
  },
  {
   "cell_type": "markdown",
   "id": "f91484ae",
   "metadata": {},
   "source": [
    "    Python's dictionaries allow you to connect information together. they allow you to modify and access all the information at one time in a dictionary. Like a list a dictionary can store almost anything. "
   ]
  },
  {
   "cell_type": "code",
   "execution_count": 17,
   "id": "fad65690",
   "metadata": {},
   "outputs": [],
   "source": [
    "#Simple Dictionary\n",
    "student = {}"
   ]
  },
  {
   "cell_type": "markdown",
   "id": "fad3dd43",
   "metadata": {},
   "source": [
    "    It is normal to start with an empty dictionary normaly you will be storing data that is eather user-supplied or that will be filled automaticly by other code. (Think a drone)"
   ]
  },
  {
   "cell_type": "code",
   "execution_count": 18,
   "id": "334744da",
   "metadata": {},
   "outputs": [
    {
     "name": "stdout",
     "output_type": "stream",
     "text": [
      "Senior\n",
      "3.8\n"
     ]
    }
   ],
   "source": [
    "student = {'grade':'Senior', 'GPA': 3.8}\n",
    "print(student['grade'])\n",
    "print(student['GPA'])"
   ]
  },
  {
   "cell_type": "code",
   "execution_count": 20,
   "id": "db6605bc",
   "metadata": {},
   "outputs": [
    {
     "ename": "KeyError",
     "evalue": "0",
     "output_type": "error",
     "traceback": [
      "\u001b[0;31m---------------------------------------------------------------------------\u001b[0m",
      "\u001b[0;31mKeyError\u001b[0m                                  Traceback (most recent call last)",
      "Cell \u001b[0;32mIn[20], line 1\u001b[0m\n\u001b[0;32m----> 1\u001b[0m \u001b[38;5;28mprint\u001b[39m(\u001b[38;5;28mtype\u001b[39m(\u001b[43mstudent\u001b[49m\u001b[43m[\u001b[49m\u001b[38;5;241;43m0\u001b[39;49m\u001b[43m]\u001b[49m))\n\u001b[1;32m      2\u001b[0m \u001b[38;5;28mprint\u001b[39m(\u001b[38;5;28mtype\u001b[39m(student))\n",
      "\u001b[0;31mKeyError\u001b[0m: 0"
     ]
    }
   ],
   "source": [
    "print(type(student['grade']))\n",
    "#print(type(student[0])) # this wont work \n",
    "print(type(student))"
   ]
  },
  {
   "cell_type": "markdown",
   "id": "5b016c8f",
   "metadata": {},
   "source": [
    "    A dictionary is a collection of key-value pairs. The key is connected to a value. The value can be a dictionary, number, string, list. You can add new key-value pairs to a dictionaries after you create the dictionary. "
   ]
  },
  {
   "cell_type": "code",
   "execution_count": 21,
   "id": "c7043a35",
   "metadata": {},
   "outputs": [
    {
     "name": "stdout",
     "output_type": "stream",
     "text": [
      "False\n"
     ]
    }
   ],
   "source": [
    "student['backpack'] = True\n",
    "student['backpack_empty'] = False\n",
    "print(student['backpack_empty'])"
   ]
  },
  {
   "cell_type": "code",
   "execution_count": 22,
   "id": "e6a11700",
   "metadata": {},
   "outputs": [
    {
     "name": "stdout",
     "output_type": "stream",
     "text": [
      "{'grade': 'Senior', 'GPA': 3.8, 'backpack': True, 'backpack_empty': False}\n"
     ]
    }
   ],
   "source": [
    "print(student)"
   ]
  },
  {
   "cell_type": "markdown",
   "id": "6f648cfe",
   "metadata": {},
   "source": [
    "    Note: a Key may not be in the same order you place them in a dictionary. For Python it does not affect the way the dictonary works"
   ]
  },
  {
   "cell_type": "code",
   "execution_count": 23,
   "id": "69938146",
   "metadata": {},
   "outputs": [],
   "source": [
    "student['backpack'] = True"
   ]
  },
  {
   "cell_type": "code",
   "execution_count": 24,
   "id": "2f33d0ae",
   "metadata": {},
   "outputs": [],
   "source": [
    "student['GPA'] = student['GPA'] + 0.1"
   ]
  },
  {
   "cell_type": "code",
   "execution_count": 25,
   "id": "fd783751",
   "metadata": {},
   "outputs": [],
   "source": [
    "if student['GPA'] >= 2.0:\n",
    "    student['pass'] = True\n",
    "elif student['GPA'] < 2.0:\n",
    "    student['pass'] = True\n",
    "else:\n",
    "    student['pass'] = False"
   ]
  },
  {
   "cell_type": "markdown",
   "id": "33378181",
   "metadata": {},
   "source": [
    "## Removing Key-Value Pairs"
   ]
  },
  {
   "cell_type": "code",
   "execution_count": 28,
   "id": "bb08cd99",
   "metadata": {},
   "outputs": [
    {
     "name": "stdout",
     "output_type": "stream",
     "text": [
      "{'grade': 'Senior', 'backpack': True, 'backpack_empty': False, 'pass': True}\n"
     ]
    },
    {
     "ename": "KeyError",
     "evalue": "'GPA'",
     "output_type": "error",
     "traceback": [
      "\u001b[0;31m---------------------------------------------------------------------------\u001b[0m",
      "\u001b[0;31mKeyError\u001b[0m                                  Traceback (most recent call last)",
      "Cell \u001b[0;32mIn[28], line 3\u001b[0m\n\u001b[1;32m      1\u001b[0m \u001b[38;5;28mprint\u001b[39m(student)\n\u001b[0;32m----> 3\u001b[0m \u001b[38;5;28;01mdel\u001b[39;00m \u001b[43mstudent\u001b[49m\u001b[43m[\u001b[49m\u001b[38;5;124;43m\"\u001b[39;49m\u001b[38;5;124;43mGPA\u001b[39;49m\u001b[38;5;124;43m\"\u001b[39;49m\u001b[43m]\u001b[49m \n\u001b[1;32m      4\u001b[0m \u001b[38;5;28mprint\u001b[39m(student)\n",
      "\u001b[0;31mKeyError\u001b[0m: 'GPA'"
     ]
    }
   ],
   "source": [
    "print(student)\n",
    "\n",
    "del student[\"GPA\"] \n",
    "print(student)"
   ]
  },
  {
   "cell_type": "code",
   "execution_count": 29,
   "id": "0ceea6cb",
   "metadata": {},
   "outputs": [
    {
     "name": "stdout",
     "output_type": "stream",
     "text": [
      "True\n",
      "{'grade': 'Senior', 'backpack': True, 'backpack_empty': False}\n"
     ]
    }
   ],
   "source": [
    "passing = student.pop('pass')\n",
    "print(passing)\n",
    "print(student)"
   ]
  },
  {
   "cell_type": "markdown",
   "id": "6c5a7f5a",
   "metadata": {},
   "source": [
    "## Lets make it more complicated"
   ]
  },
  {
   "cell_type": "code",
   "execution_count": 30,
   "id": "677d7be7",
   "metadata": {},
   "outputs": [],
   "source": [
    "favorite_languages = {\n",
    "    'Dad': 'python',\n",
    "    'Mom': 'french',\n",
    "    'Sister': 'english',\n",
    "    'Wife': 'spanish',\n",
    "}"
   ]
  },
  {
   "cell_type": "code",
   "execution_count": 31,
   "id": "8963c0cd",
   "metadata": {},
   "outputs": [
    {
     "name": "stdout",
     "output_type": "stream",
     "text": [
      "{'Dad': 'python', 'Mom': 'french', 'Sister': 'english', 'Wife': 'spanish'}\n"
     ]
    }
   ],
   "source": [
    "print(favorite_languages)"
   ]
  },
  {
   "cell_type": "code",
   "execution_count": 33,
   "id": "2a3ef5f8",
   "metadata": {},
   "outputs": [
    {
     "name": "stdout",
     "output_type": "stream",
     "text": [
      "{'favorite_languages': {'Dad': 'python', 'Mom': 'french', 'Sister': 'english', 'Wife': 'spanish'}}\n"
     ]
    }
   ],
   "source": [
    "temp = {}\n",
    "temp[\"favorite_languages\"] = favorite_languages \n",
    "print(temp)"
   ]
  },
  {
   "cell_type": "code",
   "execution_count": 34,
   "id": "482dc6a6-8fe9-4b68-af85-944f7f9ceec4",
   "metadata": {},
   "outputs": [],
   "source": [
    "favorite_languages[\"Dad\"] = \"yay\""
   ]
  },
  {
   "cell_type": "code",
   "execution_count": 35,
   "id": "e5a2c894-d2f9-4c09-ac70-d1b6af8bc464",
   "metadata": {},
   "outputs": [
    {
     "name": "stdout",
     "output_type": "stream",
     "text": [
      "{'favorite_languages': {'Dad': 'yay', 'Mom': 'french', 'Sister': 'english', 'Wife': 'spanish'}}\n"
     ]
    }
   ],
   "source": [
    "print(temp)"
   ]
  },
  {
   "cell_type": "markdown",
   "id": "3ed289eb",
   "metadata": {},
   "source": [
    "## Looping"
   ]
  },
  {
   "cell_type": "code",
   "execution_count": null,
   "id": "9606a986",
   "metadata": {
    "scrolled": true
   },
   "outputs": [],
   "source": [
    "for key, value in student.items():\n",
    "    print(\"\\nKey:\" + key)\n",
    "    print(\"Value:\"+ str(value))  #wont run why?"
   ]
  },
  {
   "cell_type": "code",
   "execution_count": null,
   "id": "c314a82c",
   "metadata": {},
   "outputs": [],
   "source": [
    "for key in student.keys():\n",
    "    print(\"\\nKey:\" + key)"
   ]
  },
  {
   "cell_type": "code",
   "execution_count": null,
   "id": "0e88301a",
   "metadata": {},
   "outputs": [],
   "source": [
    "for value in student.values():\n",
    "    print(\"\\nKey:\" + str(value))"
   ]
  },
  {
   "cell_type": "code",
   "execution_count": null,
   "id": "b820d928",
   "metadata": {},
   "outputs": [],
   "source": [
    "for key in student: #will this run?\n",
    "    print(\"\\nKey:\" + key)"
   ]
  },
  {
   "cell_type": "code",
   "execution_count": null,
   "id": "038b41b2",
   "metadata": {},
   "outputs": [],
   "source": [
    "for key, value in temp: #wont run Why?\n",
    "    print(\"\\nKey:\" + key)\n",
    "    print(\"Value:\"+ value) #wont run Why?"
   ]
  },
  {
   "cell_type": "code",
   "execution_count": null,
   "id": "86dde876",
   "metadata": {},
   "outputs": [],
   "source": [
    "student_list = []\n",
    "\n",
    "for student_number in range(100):\n",
    "    new_student = {'id': student_number, 'grade':'Senior', 'GPA': 3.8}\n",
    "    student_list.append(new_student)\n",
    "\n",
    "for student in student_list[:5]:\n",
    "    print(student)"
   ]
  },
  {
   "cell_type": "code",
   "execution_count": null,
   "id": "0c58a35f",
   "metadata": {},
   "outputs": [],
   "source": [
    "for student in student_list[:3]:\n",
    "    student['GPA'] = 0.0\n",
    "    \n",
    "for student in student_list[:5]:\n",
    "    print(student)\n",
    "\n",
    "print(student_list[:5])"
   ]
  },
  {
   "cell_type": "code",
   "execution_count": null,
   "id": "5b0b2cb6",
   "metadata": {},
   "outputs": [],
   "source": [
    "def powers ():\n",
    "    active = True\n",
    "    responses = {}\n",
    "    while active:\n",
    "        name = input('\\nYo whas you name:? ')\n",
    "        response = input(\"do you like dunken donuts ? \")\n",
    "        responses[name] = response \n",
    "        again = input(\"again? (yes/no)\")\n",
    "        if again == 'no':\n",
    "            active = False\n",
    "            print('\\n-- results --')\n",
    "    for name, response in responses.items():\n",
    "        print(name + \" likes dunken donuts \" + response)\n",
    "\n",
    "    "
   ]
  },
  {
   "cell_type": "code",
   "execution_count": null,
   "id": "7db9e0c6",
   "metadata": {},
   "outputs": [],
   "source": [
    "powers()"
   ]
  },
  {
   "cell_type": "markdown",
   "id": "d168793e",
   "metadata": {},
   "source": [
    "## Refresh ... Kinda"
   ]
  },
  {
   "cell_type": "code",
   "execution_count": null,
   "id": "8caca614",
   "metadata": {},
   "outputs": [],
   "source": [
    "def describe_car(car, car_speed):\n",
    "\n",
    "print(\"\\nI have a \" + car + \".\")\n",
    "print(\"It is a \" + car_speed + \"'s name is \" + car.title() + \".\")"
   ]
  }
 ],
 "metadata": {
  "kernelspec": {
   "display_name": "Python 3 (ipykernel)",
   "language": "python",
   "name": "python3"
  },
  "language_info": {
   "codemirror_mode": {
    "name": "ipython",
    "version": 3
   },
   "file_extension": ".py",
   "mimetype": "text/x-python",
   "name": "python",
   "nbconvert_exporter": "python",
   "pygments_lexer": "ipython3",
   "version": "3.11.2"
  }
 },
 "nbformat": 4,
 "nbformat_minor": 5
}
