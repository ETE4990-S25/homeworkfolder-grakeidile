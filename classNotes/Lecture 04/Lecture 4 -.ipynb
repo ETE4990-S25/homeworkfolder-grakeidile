{
 "cells": [
  {
   "cell_type": "code",
   "execution_count": 1,
   "id": "64017c2d",
   "metadata": {},
   "outputs": [
    {
     "name": "stdout",
     "output_type": "stream",
     "text": [
      "you have classes\n"
     ]
    }
   ],
   "source": [
    "classes = [\"math\", \"physics\", \"ETE\"]\n",
    "if classes:\n",
    "    print(\"you have classes\")"
   ]
  },
  {
   "cell_type": "code",
   "execution_count": 3,
   "id": "84e3ee78",
   "metadata": {},
   "outputs": [],
   "source": [
    "abc = []\n",
    "if abc:\n",
    "    print(\"lalala\")"
   ]
  },
  {
   "cell_type": "code",
   "execution_count": 4,
   "id": "9b857e7a",
   "metadata": {},
   "outputs": [],
   "source": [
    "brands = [\"Jeep\", \"BMW\", \"Audi\", \"Kia\"]\n",
    "brands2 = [\"Kia\", \"Dodge\", \"Honda\", \"Tesla\"]\n",
    "    "
   ]
  },
  {
   "cell_type": "code",
   "execution_count": 5,
   "id": "59f46718",
   "metadata": {},
   "outputs": [
    {
     "name": "stdout",
     "output_type": "stream",
     "text": [
      "Kia  is already in brands\n",
      "Adding  Dodge  to brands\n",
      "Adding  Honda  to brands\n",
      "Adding  Tesla  to brands\n"
     ]
    }
   ],
   "source": [
    "for tmp in brands2:\n",
    "    if tmp in brands:\n",
    "        print(tmp, \" is already in brands\")\n",
    "    else:\n",
    "        print(\"Adding \", tmp, \" to brands\")\n",
    "        brands.append(tmp)"
   ]
  },
  {
   "cell_type": "code",
   "execution_count": 6,
   "id": "415eb515",
   "metadata": {},
   "outputs": [
    {
     "data": {
      "text/plain": [
       "['Jeep', 'BMW', 'Audi', 'Kia', 'Dodge', 'Honda', 'Tesla']"
      ]
     },
     "execution_count": 6,
     "metadata": {},
     "output_type": "execute_result"
    }
   ],
   "source": [
    "brands"
   ]
  },
  {
   "cell_type": "markdown",
   "id": "14bac848",
   "metadata": {},
   "source": [
    "# User Input"
   ]
  },
  {
   "cell_type": "code",
   "execution_count": 7,
   "id": "d3488a70",
   "metadata": {},
   "outputs": [
    {
     "name": "stdin",
     "output_type": "stream",
     "text": [
      "How old are you?  4\n"
     ]
    },
    {
     "name": "stdout",
     "output_type": "stream",
     "text": [
      "<class 'str'>\n"
     ]
    }
   ],
   "source": [
    "age = input(\"How old are you? \")\n",
    "print(type(age))"
   ]
  },
  {
   "cell_type": "code",
   "execution_count": 9,
   "id": "47cfcc37",
   "metadata": {},
   "outputs": [
    {
     "name": "stdin",
     "output_type": "stream",
     "text": [
      "How old are you?  12\n"
     ]
    },
    {
     "name": "stdout",
     "output_type": "stream",
     "text": [
      "<class 'int'>\n"
     ]
    }
   ],
   "source": [
    "age = int(input(\"How old are you? \"))\n",
    "print(type(age))"
   ]
  },
  {
   "cell_type": "markdown",
   "id": "1d269bfe",
   "metadata": {},
   "source": [
    "# Modulo"
   ]
  },
  {
   "cell_type": "code",
   "execution_count": 10,
   "id": "fb233907",
   "metadata": {},
   "outputs": [
    {
     "name": "stdout",
     "output_type": "stream",
     "text": [
      "5\n",
      "6\n",
      "3\n"
     ]
    }
   ],
   "source": [
    "print(5%13)\n",
    "print(6%13)\n",
    "print(3%6)"
   ]
  },
  {
   "cell_type": "code",
   "execution_count": 11,
   "id": "880077b6",
   "metadata": {},
   "outputs": [
    {
     "name": "stdout",
     "output_type": "stream",
     "text": [
      "\n",
      "The number 12 is even.\n"
     ]
    }
   ],
   "source": [
    "if age % 2 == 0:\n",
    "    print(\"\\nThe number \" + str(age) + \" is even.\")\n",
    "else:\n",
    "    print(\"\\nThe number \" + str(age) + \" is odd.\")"
   ]
  },
  {
   "cell_type": "markdown",
   "id": "cac1bc09",
   "metadata": {},
   "source": [
    "# Flags"
   ]
  },
  {
   "cell_type": "code",
   "execution_count": 12,
   "id": "4b498647",
   "metadata": {},
   "outputs": [
    {
     "name": "stdin",
     "output_type": "stream",
     "text": [
      "you are stuck forever a\n"
     ]
    },
    {
     "name": "stdout",
     "output_type": "stream",
     "text": [
      "a\n"
     ]
    },
    {
     "name": "stdin",
     "output_type": "stream",
     "text": [
      "you are stuck forever a\n"
     ]
    },
    {
     "name": "stdout",
     "output_type": "stream",
     "text": [
      "a\n"
     ]
    },
    {
     "name": "stdin",
     "output_type": "stream",
     "text": [
      "you are stuck forever a\n"
     ]
    },
    {
     "name": "stdout",
     "output_type": "stream",
     "text": [
      "a\n"
     ]
    },
    {
     "name": "stdin",
     "output_type": "stream",
     "text": [
      "you are stuck forever a\n"
     ]
    },
    {
     "name": "stdout",
     "output_type": "stream",
     "text": [
      "a\n"
     ]
    },
    {
     "name": "stdin",
     "output_type": "stream",
     "text": [
      "you are stuck forever quit\n"
     ]
    }
   ],
   "source": [
    "active = True\n",
    "while active:\n",
    "    message = input(\"you are stuck forever\")\n",
    "    if message == 'quit':\n",
    "        active = False\n",
    "    else:\n",
    "        print(message)"
   ]
  },
  {
   "cell_type": "code",
   "execution_count": 13,
   "id": "79bef2d7",
   "metadata": {},
   "outputs": [
    {
     "name": "stdout",
     "output_type": "stream",
     "text": [
      "1\n",
      "3\n",
      "5\n",
      "7\n",
      "9\n"
     ]
    }
   ],
   "source": [
    "current_number = 0\n",
    "while current_number < 10:\n",
    "    current_number +=1 # wont work\n",
    "    \n",
    "    if current_number % 2 == 0:\n",
    "        continue \n",
    "    print(current_number)\n"
   ]
  },
  {
   "cell_type": "code",
   "execution_count": 14,
   "id": "4526dcec",
   "metadata": {},
   "outputs": [
    {
     "name": "stdout",
     "output_type": "stream",
     "text": [
      "1\n",
      "3\n",
      "5\n",
      "7\n",
      "9\n"
     ]
    }
   ],
   "source": [
    "#for int i =bla bla bal\n",
    "for current_number in range(1,10):\n",
    "    if current_number % 2 == 0:\n",
    "        continue\n",
    "    print(current_number)"
   ]
  },
  {
   "cell_type": "code",
   "execution_count": 16,
   "id": "44f4209b",
   "metadata": {},
   "outputs": [
    {
     "name": "stdout",
     "output_type": "stream",
     "text": [
      "you now have  ['A real car', 'A real car']\n"
     ]
    }
   ],
   "source": [
    "brands = [\"A real car\",\"subaru\", \"subaru\", \"subaru\", \"subaru\",\"A real car\"]\n",
    "while \"subaru\" in brands:\n",
    "    brands.remove(\"subaru\")\n",
    "print(\"you now have \", brands)"
   ]
  },
  {
   "cell_type": "markdown",
   "id": "b0eb5017",
   "metadata": {},
   "source": [
    "    Even numbers are always divisible by two, so if the modulo of a number and two is zero (here, if number % 2 == 0) the number is even. Otherwise, it’s odd."
   ]
  },
  {
   "cell_type": "markdown",
   "id": "d7973409",
   "metadata": {},
   "source": [
    "# Dictionary"
   ]
  },
  {
   "cell_type": "markdown",
   "id": "f91484ae",
   "metadata": {},
   "source": [
    "    Python's dictionaries allow you to connect information together. they allow you to modify and access all the information at one time in a dictionary. Like a list a dictionary can store almost anything. "
   ]
  },
  {
   "cell_type": "code",
   "execution_count": 17,
   "id": "fad65690",
   "metadata": {},
   "outputs": [],
   "source": [
    "#Simple Dictionary\n",
    "student = {}"
   ]
  },
  {
   "cell_type": "markdown",
   "id": "fad3dd43",
   "metadata": {},
   "source": [
    "    It is normal to start with an empty dictionary normaly you will be storing data that is eather user-supplied or that will be filled automaticly by other code. (Think a drone)"
   ]
  },
  {
   "cell_type": "code",
   "execution_count": 57,
   "id": "334744da",
   "metadata": {},
   "outputs": [
    {
     "name": "stdout",
     "output_type": "stream",
     "text": [
      "Senior\n",
      "3.8\n"
     ]
    }
   ],
   "source": [
    "student = {'grade':'Senior', 'GPA': 3.8}\n",
    "print(student['grade'])\n",
    "print(student['GPA'])"
   ]
  },
  {
   "cell_type": "code",
   "execution_count": 58,
   "id": "db6605bc",
   "metadata": {},
   "outputs": [
    {
     "name": "stdout",
     "output_type": "stream",
     "text": [
      "<class 'str'>\n",
      "<class 'dict'>\n"
     ]
    }
   ],
   "source": [
    "print(type(student['grade']))\n",
    "#print(type(student[0])) # this wont work \n",
    "print(type(student))"
   ]
  },
  {
   "cell_type": "markdown",
   "id": "5b016c8f",
   "metadata": {},
   "source": [
    "    A dictionary is a collection of key-value pairs. The key is connected to a value. The value can be a dictionary, number, string, list. You can add new key-value pairs to a dictionaries after you create the dictionary. "
   ]
  },
  {
   "cell_type": "code",
   "execution_count": 59,
   "id": "c7043a35",
   "metadata": {},
   "outputs": [
    {
     "name": "stdout",
     "output_type": "stream",
     "text": [
      "False\n"
     ]
    }
   ],
   "source": [
    "student['backpack'] = True\n",
    "student['backpack_empty'] = False\n",
    "print(student['backpack_empty'])"
   ]
  },
  {
   "cell_type": "code",
   "execution_count": 60,
   "id": "e6a11700",
   "metadata": {},
   "outputs": [
    {
     "name": "stdout",
     "output_type": "stream",
     "text": [
      "{'grade': 'Senior', 'GPA': 3.8, 'backpack': True, 'backpack_empty': False}\n"
     ]
    }
   ],
   "source": [
    "print(student)"
   ]
  },
  {
   "cell_type": "markdown",
   "id": "6f648cfe",
   "metadata": {},
   "source": [
    "    Note: a Key may not be in the same order you place them in a dictionary. For Python it does not affect the way the dictonary works"
   ]
  },
  {
   "cell_type": "code",
   "execution_count": 61,
   "id": "69938146",
   "metadata": {},
   "outputs": [],
   "source": [
    "student['backpack'] = True"
   ]
  },
  {
   "cell_type": "code",
   "execution_count": 62,
   "id": "2f33d0ae",
   "metadata": {},
   "outputs": [],
   "source": [
    "student['GPA'] = student['GPA'] + 0.1"
   ]
  },
  {
   "cell_type": "code",
   "execution_count": 63,
   "id": "fd783751",
   "metadata": {},
   "outputs": [],
   "source": [
    "if student['GPA'] >= 2.0:\n",
    "    student['pass'] = True\n",
    "elif student['GPA'] < 2.0:\n",
    "    student['pass'] = True\n",
    "else:\n",
    "    student['pass'] = False"
   ]
  },
  {
   "cell_type": "markdown",
   "id": "33378181",
   "metadata": {},
   "source": [
    "## Removing Key-Value Pairs"
   ]
  },
  {
   "cell_type": "code",
   "execution_count": 64,
   "id": "bb08cd99",
   "metadata": {},
   "outputs": [
    {
     "name": "stdout",
     "output_type": "stream",
     "text": [
      "{'grade': 'Senior', 'GPA': 3.9, 'backpack': True, 'backpack_empty': False, 'pass': True}\n",
      "{'grade': 'Senior', 'backpack': True, 'backpack_empty': False, 'pass': True}\n"
     ]
    }
   ],
   "source": [
    "print(student)\n",
    "\n",
    "del student[\"GPA\"] \n",
    "print(student)"
   ]
  },
  {
   "cell_type": "code",
   "execution_count": 65,
   "id": "0ceea6cb",
   "metadata": {},
   "outputs": [
    {
     "name": "stdout",
     "output_type": "stream",
     "text": [
      "True\n",
      "{'grade': 'Senior', 'backpack': True, 'backpack_empty': False}\n"
     ]
    }
   ],
   "source": [
    "passing = student.pop('pass')\n",
    "print(passing)\n",
    "print(student)"
   ]
  },
  {
   "cell_type": "markdown",
   "id": "6c5a7f5a",
   "metadata": {},
   "source": [
    "## Lets make it more complicated"
   ]
  },
  {
   "cell_type": "code",
   "execution_count": 2,
   "id": "677d7be7",
   "metadata": {},
   "outputs": [],
   "source": [
    "favorite_languages = {\n",
    "    'Dad': 'python',\n",
    "    'Mom': 'French',\n",
    "    'Sister': 'English',\n",
    "    'Wife': 'Spanish',\n",
    "}"
   ]
  },
  {
   "cell_type": "code",
   "execution_count": 3,
   "id": "8963c0cd",
   "metadata": {},
   "outputs": [
    {
     "name": "stdout",
     "output_type": "stream",
     "text": [
      "{'Dad': 'python', 'Mom': 'French', 'Sister': 'English', 'Wife': 'Spanish'}\n"
     ]
    }
   ],
   "source": [
    "print(favorite_languages)"
   ]
  },
  {
   "cell_type": "code",
   "execution_count": 4,
   "id": "2a3ef5f8",
   "metadata": {},
   "outputs": [
    {
     "name": "stdout",
     "output_type": "stream",
     "text": [
      "{'favorite_languages': {'Dad': 'python', 'Mom': 'French', 'Sister': 'English', 'Wife': 'Spanish'}}\n"
     ]
    }
   ],
   "source": [
    "temp = {}\n",
    "temp[\"favorite_languages\"] = favorite_languages \n",
    "print(temp)"
   ]
  },
  {
   "cell_type": "code",
   "execution_count": 69,
   "id": "482dc6a6-8fe9-4b68-af85-944f7f9ceec4",
   "metadata": {},
   "outputs": [],
   "source": [
    "favorite_languages[\"Dad\"] = \"yay\""
   ]
  },
  {
   "cell_type": "code",
   "execution_count": 7,
   "id": "bc77a197-93b2-41bf-87a8-bb8f3eb42500",
   "metadata": {},
   "outputs": [
    {
     "ename": "AttributeError",
     "evalue": "'dict' object has no attribute 'remove'",
     "output_type": "error",
     "traceback": [
      "\u001b[0;31m---------------------------------------------------------------------------\u001b[0m",
      "\u001b[0;31mAttributeError\u001b[0m                            Traceback (most recent call last)",
      "Cell \u001b[0;32mIn[7], line 1\u001b[0m\n\u001b[0;32m----> 1\u001b[0m \u001b[43mtemp\u001b[49m\u001b[43m[\u001b[49m\u001b[38;5;124;43m\"\u001b[39;49m\u001b[38;5;124;43mfavorite_languages\u001b[39;49m\u001b[38;5;124;43m\"\u001b[39;49m\u001b[43m]\u001b[49m\u001b[38;5;241;43m.\u001b[39;49m\u001b[43mremove\u001b[49m(\u001b[38;5;124m'\u001b[39m\u001b[38;5;124mDad\u001b[39m\u001b[38;5;124m'\u001b[39m)\n",
      "\u001b[0;31mAttributeError\u001b[0m: 'dict' object has no attribute 'remove'"
     ]
    }
   ],
   "source": [
    "for i in "
   ]
  },
  {
   "cell_type": "code",
   "execution_count": 6,
   "id": "e5a2c894-d2f9-4c09-ac70-d1b6af8bc464",
   "metadata": {},
   "outputs": [
    {
     "name": "stdout",
     "output_type": "stream",
     "text": [
      "{'favorite_languages': {'Dad': 'python', 'Mom': 'French', 'Sister': 'English', 'Wife': 'Spanish'}}\n",
      "{'Dad': 'python', 'Mom': 'French', 'Sister': 'English', 'Wife': 'Spanish'}\n"
     ]
    }
   ],
   "source": [
    "print(temp)\n",
    "print(favorite_languages)"
   ]
  },
  {
   "cell_type": "markdown",
   "id": "3ed289eb",
   "metadata": {},
   "source": [
    "## Looping"
   ]
  },
  {
   "cell_type": "code",
   "execution_count": 71,
   "id": "5a465721-fc0a-4c58-929a-fd52cc2390bb",
   "metadata": {},
   "outputs": [
    {
     "ename": "TypeError",
     "evalue": "can only concatenate str (not \"tuple\") to str",
     "output_type": "error",
     "traceback": [
      "\u001b[0;31m---------------------------------------------------------------------------\u001b[0m",
      "\u001b[0;31mTypeError\u001b[0m                                 Traceback (most recent call last)",
      "Cell \u001b[0;32mIn[71], line 2\u001b[0m\n\u001b[1;32m      1\u001b[0m \u001b[38;5;28;01mfor\u001b[39;00m key \u001b[38;5;129;01min\u001b[39;00m student\u001b[38;5;241m.\u001b[39mitems(): \u001b[38;5;66;03m#wont work\u001b[39;00m\n\u001b[0;32m----> 2\u001b[0m     \u001b[38;5;28mprint\u001b[39m(\u001b[38;5;124;43m\"\u001b[39;49m\u001b[38;5;130;43;01m\\n\u001b[39;49;00m\u001b[38;5;124;43mKey:\u001b[39;49m\u001b[38;5;124;43m\"\u001b[39;49m\u001b[43m \u001b[49m\u001b[38;5;241;43m+\u001b[39;49m\u001b[43m \u001b[49m\u001b[43mkey\u001b[49m)\n\u001b[1;32m      3\u001b[0m     \u001b[38;5;28mprint\u001b[39m(\u001b[38;5;124m\"\u001b[39m\u001b[38;5;124mValue:\u001b[39m\u001b[38;5;124m\"\u001b[39m\u001b[38;5;241m+\u001b[39m \u001b[38;5;28mstr\u001b[39m(value)) \n",
      "\u001b[0;31mTypeError\u001b[0m: can only concatenate str (not \"tuple\") to str"
     ]
    }
   ],
   "source": [
    "for key in student.items(): #wont work\n",
    "    print(\"\\nKey:\" + key)\n",
    "    print(\"Value:\"+ str(value)) "
   ]
  },
  {
   "cell_type": "code",
   "execution_count": 74,
   "id": "e3c0316b-352c-4027-98b6-adba1b140864",
   "metadata": {},
   "outputs": [
    {
     "name": "stdout",
     "output_type": "stream",
     "text": [
      "{'grade': 'Senior', 'backpack': True, 'backpack_empty': False}\n",
      "\n",
      "Key:grade\n",
      "Value:Senior\n",
      "\n",
      "Key:backpack\n",
      "Value:True\n",
      "\n",
      "Key:backpack_empty\n",
      "Value:False\n"
     ]
    }
   ],
   "source": [
    "print(student)\n",
    "for tempvalue in student.items():\n",
    "    print(\"\\nKey:\" + tempvalue[0])\n",
    "    print(\"Value:\"+ str(tempvalue[1])) "
   ]
  },
  {
   "cell_type": "code",
   "execution_count": 75,
   "id": "9606a986",
   "metadata": {
    "scrolled": true
   },
   "outputs": [
    {
     "name": "stdout",
     "output_type": "stream",
     "text": [
      "\n",
      "Key:grade\n",
      "Value:Senior\n",
      "\n",
      "Key:backpack\n",
      "Value:True\n",
      "\n",
      "Key:backpack_empty\n",
      "Value:False\n"
     ]
    }
   ],
   "source": [
    "for key, value in student.items():\n",
    "    print(\"\\nKey:\" + key)\n",
    "    print(\"Value:\"+ str(value))  "
   ]
  },
  {
   "cell_type": "code",
   "execution_count": 76,
   "id": "c314a82c",
   "metadata": {},
   "outputs": [
    {
     "name": "stdout",
     "output_type": "stream",
     "text": [
      "\n",
      "Key:grade\n",
      "\n",
      "Key:backpack\n",
      "\n",
      "Key:backpack_empty\n"
     ]
    }
   ],
   "source": [
    "for key in student.keys():\n",
    "    print(\"\\nKey:\" + key)"
   ]
  },
  {
   "cell_type": "code",
   "execution_count": 79,
   "id": "0e88301a",
   "metadata": {},
   "outputs": [
    {
     "name": "stdout",
     "output_type": "stream",
     "text": [
      "\n",
      "Key: Senior\n",
      "\n",
      "Key: True\n",
      "\n",
      "Key: False\n"
     ]
    }
   ],
   "source": [
    "for value in student.values():\n",
    "    print(\"\\nKey: \" + str(value))"
   ]
  },
  {
   "cell_type": "code",
   "execution_count": 80,
   "id": "b820d928",
   "metadata": {},
   "outputs": [
    {
     "name": "stdout",
     "output_type": "stream",
     "text": [
      "\n",
      "Values: grade\n",
      "\n",
      "Values: backpack\n",
      "\n",
      "Values: backpack_empty\n"
     ]
    }
   ],
   "source": [
    "for key in student: #will this run?\n",
    "    print(\"\\nValues: \" + key)"
   ]
  },
  {
   "cell_type": "code",
   "execution_count": 82,
   "id": "038b41b2",
   "metadata": {},
   "outputs": [
    {
     "name": "stdout",
     "output_type": "stream",
     "text": [
      "{'favorite_languages': {'Dad': 'yay', 'Mom': 'French', 'Sister': 'English', 'Wife': 'Spanish'}}\n",
      "\n",
      "Key:favorite_languages\n",
      "{'Dad': 'yay', 'Mom': 'French', 'Sister': 'English', 'Wife': 'Spanish'}\n"
     ]
    }
   ],
   "source": [
    "print(temp)\n",
    "for key, value in temp.items(): # won't run Why?\n",
    "    print(\"\\nKey:\" + key)\n",
    "    print(value)\n",
    "    #print(\"Value:\"+ value)"
   ]
  },
  {
   "cell_type": "code",
   "execution_count": 83,
   "id": "0e8f36b5-fa43-4310-ac8c-dffdab6a7c19",
   "metadata": {},
   "outputs": [
    {
     "name": "stdout",
     "output_type": "stream",
     "text": [
      "{'Dad': 'yay', 'Mom': 'French', 'Sister': 'English', 'Wife': 'Spanish'}\n",
      "\n",
      "Key:Dad\n",
      "Value:yay\n",
      "\n",
      "Key:Mom\n",
      "Value:French\n",
      "\n",
      "Key:Sister\n",
      "Value:English\n",
      "\n",
      "Key:Wife\n",
      "Value:Spanish\n"
     ]
    }
   ],
   "source": [
    "print(temp['favorite_languages'])\n",
    "for key, value in temp['favorite_languages'].items(): \n",
    "    print(\"\\nKey:\" + key)\n",
    "    print(\"Value:\"+ value) "
   ]
  },
  {
   "cell_type": "code",
   "execution_count": 88,
   "id": "d5f807ea-7dca-479d-8b79-65137f0c337f",
   "metadata": {},
   "outputs": [
    {
     "name": "stdout",
     "output_type": "stream",
     "text": [
      "yay\n",
      "\n",
      "Key:y\n",
      "Value:a\n",
      "French\n",
      "\n",
      "Key:F\n",
      "Value:r\n",
      "English\n",
      "\n",
      "Key:E\n",
      "Value:n\n",
      "Spanish\n",
      "\n",
      "Key:S\n",
      "Value:p\n"
     ]
    },
    {
     "ename": "ValueError",
     "evalue": "too many values to unpack (expected 2)",
     "output_type": "error",
     "traceback": [
      "\u001b[0;31m---------------------------------------------------------------------------\u001b[0m",
      "\u001b[0;31mValueError\u001b[0m                                Traceback (most recent call last)",
      "Cell \u001b[0;32mIn[88], line 6\u001b[0m\n\u001b[1;32m      3\u001b[0m     \u001b[38;5;28mprint\u001b[39m(\u001b[38;5;124m\"\u001b[39m\u001b[38;5;130;01m\\n\u001b[39;00m\u001b[38;5;124mKey:\u001b[39m\u001b[38;5;124m\"\u001b[39m \u001b[38;5;241m+\u001b[39m tempValue[\u001b[38;5;241m0\u001b[39m])\n\u001b[1;32m      4\u001b[0m     \u001b[38;5;28mprint\u001b[39m(\u001b[38;5;124m\"\u001b[39m\u001b[38;5;124mValue:\u001b[39m\u001b[38;5;124m\"\u001b[39m\u001b[38;5;241m+\u001b[39m \u001b[38;5;28mstr\u001b[39m(tempValue[\u001b[38;5;241m1\u001b[39m])) \n\u001b[0;32m----> 6\u001b[0m \u001b[38;5;28;01mfor\u001b[39;00m key, value \u001b[38;5;129;01min\u001b[39;00m temp[\u001b[38;5;124m'\u001b[39m\u001b[38;5;124mfavorite_languages\u001b[39m\u001b[38;5;124m'\u001b[39m]\u001b[38;5;241m.\u001b[39mvalues(): \n\u001b[1;32m      7\u001b[0m     \u001b[38;5;28mprint\u001b[39m(\u001b[38;5;124m\"\u001b[39m\u001b[38;5;130;01m\\n\u001b[39;00m\u001b[38;5;124mKey:\u001b[39m\u001b[38;5;124m\"\u001b[39m \u001b[38;5;241m+\u001b[39m key)\n\u001b[1;32m      8\u001b[0m     \u001b[38;5;28mprint\u001b[39m(\u001b[38;5;124m\"\u001b[39m\u001b[38;5;124mValue:\u001b[39m\u001b[38;5;124m\"\u001b[39m\u001b[38;5;241m+\u001b[39m value) \n",
      "\u001b[0;31mValueError\u001b[0m: too many values to unpack (expected 2)"
     ]
    }
   ],
   "source": [
    "for tempValue in temp['favorite_languages'].values(): #wont work as writen.\n",
    "                #temp['favorite_languages'].items()\n",
    "    print(tempValue)\n",
    "    print(\"\\nKey:\" + tempValue[0])\n",
    "    print(\"Value:\"+ str(tempValue[1])) \n",
    "\n",
    "for key, value in temp['favorite_languages'].values(): \n",
    "    print(\"\\nKey:\" + key)\n",
    "    print(\"Value:\"+ value) "
   ]
  },
  {
   "cell_type": "markdown",
   "id": "98de845a-7dea-4504-95f3-0b9dede4044a",
   "metadata": {},
   "source": [
    "## Lets create a new list of students a populate it"
   ]
  },
  {
   "cell_type": "code",
   "execution_count": 91,
   "id": "86dde876",
   "metadata": {},
   "outputs": [
    {
     "name": "stdout",
     "output_type": "stream",
     "text": [
      "{'id': 0, 'grade': 'Senior', 'GPA': 3.8}\n",
      "{'id': 1, 'grade': 'Senior', 'GPA': 3.8}\n",
      "{'id': 2, 'grade': 'Senior', 'GPA': 3.8}\n",
      "{'id': 3, 'grade': 'Senior', 'GPA': 3.8}\n",
      "{'id': 4, 'grade': 'Senior', 'GPA': 3.8}\n"
     ]
    }
   ],
   "source": [
    "student_list = []\n",
    "\n",
    "for student_number in range(100):\n",
    "    new_student = {'id': student_number, 'grade':'Senior', 'GPA': 3.8}\n",
    "    student_list.append(new_student)\n",
    "\n",
    "for student in student_list[:5]:\n",
    "    print(student)"
   ]
  },
  {
   "cell_type": "markdown",
   "id": "78fec860-92e1-4326-ad6c-4c4ac77bb2b6",
   "metadata": {},
   "source": [
    "#### Now perform slicing"
   ]
  },
  {
   "cell_type": "code",
   "execution_count": 45,
   "id": "0c58a35f",
   "metadata": {},
   "outputs": [
    {
     "name": "stdout",
     "output_type": "stream",
     "text": [
      "{'id': 0, 'grade': 'Senior', 'GPA': 0.0}\n",
      "{'id': 1, 'grade': 'Senior', 'GPA': 0.0}\n",
      "{'id': 2, 'grade': 'Senior', 'GPA': 0.0}\n",
      "{'id': 3, 'grade': 'Senior', 'GPA': 3.8}\n",
      "{'id': 4, 'grade': 'Senior', 'GPA': 3.8}\n",
      "[{'id': 0, 'grade': 'Senior', 'GPA': 0.0}, {'id': 1, 'grade': 'Senior', 'GPA': 0.0}, {'id': 2, 'grade': 'Senior', 'GPA': 0.0}, {'id': 3, 'grade': 'Senior', 'GPA': 3.8}, {'id': 4, 'grade': 'Senior', 'GPA': 3.8}]\n"
     ]
    }
   ],
   "source": [
    "for student in student_list[:3]:\n",
    "    student['GPA'] = 0.0\n",
    "    \n",
    "for student in student_list[:5]:\n",
    "    print(student)\n",
    "\n",
    "print(student_list[:5])"
   ]
  },
  {
   "cell_type": "code",
   "execution_count": 98,
   "id": "0a6b4f89-36c4-43dc-9e41-098a6d0920f6",
   "metadata": {},
   "outputs": [
    {
     "name": "stdout",
     "output_type": "stream",
     "text": [
      "\n",
      "Key:id\n",
      "Value:0\n",
      "\n",
      "Key:grade\n",
      "Value:Senior\n",
      "\n",
      "Key:GPA\n",
      "Value:3.8\n",
      "\n",
      "Key:id\n",
      "Value:1\n",
      "\n",
      "Key:grade\n",
      "Value:Senior\n",
      "\n",
      "Key:GPA\n",
      "Value:3.8\n",
      "\n",
      "Key:id\n",
      "Value:2\n",
      "\n",
      "Key:grade\n",
      "Value:Senior\n",
      "\n",
      "Key:GPA\n",
      "Value:3.8\n",
      "\n",
      "Key:id\n",
      "Value:3\n",
      "\n",
      "Key:grade\n",
      "Value:Senior\n",
      "\n",
      "Key:GPA\n",
      "Value:3.8\n",
      "\n",
      "Key:id\n",
      "Value:4\n",
      "\n",
      "Key:grade\n",
      "Value:Senior\n",
      "\n",
      "Key:GPA\n",
      "Value:3.8\n",
      "\n",
      "Key:id\n",
      "Value:5\n",
      "\n",
      "Key:grade\n",
      "Value:Senior\n",
      "\n",
      "Key:GPA\n",
      "Value:3.8\n",
      "\n",
      "Key:id\n",
      "Value:6\n",
      "\n",
      "Key:grade\n",
      "Value:Senior\n",
      "\n",
      "Key:GPA\n",
      "Value:3.8\n",
      "\n",
      "Key:id\n",
      "Value:7\n",
      "\n",
      "Key:grade\n",
      "Value:Senior\n",
      "\n",
      "Key:GPA\n",
      "Value:3.8\n",
      "\n",
      "Key:id\n",
      "Value:8\n",
      "\n",
      "Key:grade\n",
      "Value:Senior\n",
      "\n",
      "Key:GPA\n",
      "Value:3.8\n",
      "\n",
      "Key:id\n",
      "Value:9\n",
      "\n",
      "Key:grade\n",
      "Value:Senior\n",
      "\n",
      "Key:GPA\n",
      "Value:3.8\n",
      "\n",
      "Key:id\n",
      "Value:10\n",
      "\n",
      "Key:grade\n",
      "Value:Senior\n",
      "\n",
      "Key:GPA\n",
      "Value:3.8\n",
      "\n",
      "Key:id\n",
      "Value:11\n",
      "\n",
      "Key:grade\n",
      "Value:Senior\n",
      "\n",
      "Key:GPA\n",
      "Value:3.8\n",
      "\n",
      "Key:id\n",
      "Value:12\n",
      "\n",
      "Key:grade\n",
      "Value:Senior\n",
      "\n",
      "Key:GPA\n",
      "Value:3.8\n",
      "\n",
      "Key:id\n",
      "Value:13\n",
      "\n",
      "Key:grade\n",
      "Value:Senior\n",
      "\n",
      "Key:GPA\n",
      "Value:3.8\n",
      "\n",
      "Key:id\n",
      "Value:14\n",
      "\n",
      "Key:grade\n",
      "Value:Senior\n",
      "\n",
      "Key:GPA\n",
      "Value:3.8\n",
      "\n",
      "Key:id\n",
      "Value:15\n",
      "\n",
      "Key:grade\n",
      "Value:Senior\n",
      "\n",
      "Key:GPA\n",
      "Value:3.8\n",
      "\n",
      "Key:id\n",
      "Value:16\n",
      "\n",
      "Key:grade\n",
      "Value:Senior\n",
      "\n",
      "Key:GPA\n",
      "Value:3.8\n",
      "\n",
      "Key:id\n",
      "Value:17\n",
      "\n",
      "Key:grade\n",
      "Value:Senior\n",
      "\n",
      "Key:GPA\n",
      "Value:3.8\n",
      "\n",
      "Key:id\n",
      "Value:18\n",
      "\n",
      "Key:grade\n",
      "Value:Senior\n",
      "\n",
      "Key:GPA\n",
      "Value:3.8\n",
      "\n",
      "Key:id\n",
      "Value:19\n",
      "\n",
      "Key:grade\n",
      "Value:Senior\n",
      "\n",
      "Key:GPA\n",
      "Value:3.8\n",
      "\n",
      "Key:id\n",
      "Value:20\n",
      "\n",
      "Key:grade\n",
      "Value:Senior\n",
      "\n",
      "Key:GPA\n",
      "Value:3.8\n",
      "\n",
      "Key:id\n",
      "Value:21\n",
      "\n",
      "Key:grade\n",
      "Value:Senior\n",
      "\n",
      "Key:GPA\n",
      "Value:3.8\n",
      "\n",
      "Key:id\n",
      "Value:22\n",
      "\n",
      "Key:grade\n",
      "Value:Senior\n",
      "\n",
      "Key:GPA\n",
      "Value:3.8\n",
      "\n",
      "Key:id\n",
      "Value:23\n",
      "\n",
      "Key:grade\n",
      "Value:Senior\n",
      "\n",
      "Key:GPA\n",
      "Value:3.8\n",
      "\n",
      "Key:id\n",
      "Value:24\n",
      "\n",
      "Key:grade\n",
      "Value:Senior\n",
      "\n",
      "Key:GPA\n",
      "Value:3.8\n",
      "\n",
      "Key:id\n",
      "Value:25\n",
      "\n",
      "Key:grade\n",
      "Value:Senior\n",
      "\n",
      "Key:GPA\n",
      "Value:3.8\n",
      "\n",
      "Key:id\n",
      "Value:26\n",
      "\n",
      "Key:grade\n",
      "Value:Senior\n",
      "\n",
      "Key:GPA\n",
      "Value:3.8\n",
      "\n",
      "Key:id\n",
      "Value:27\n",
      "\n",
      "Key:grade\n",
      "Value:Senior\n",
      "\n",
      "Key:GPA\n",
      "Value:3.8\n",
      "\n",
      "Key:id\n",
      "Value:28\n",
      "\n",
      "Key:grade\n",
      "Value:Senior\n",
      "\n",
      "Key:GPA\n",
      "Value:3.8\n",
      "\n",
      "Key:id\n",
      "Value:29\n",
      "\n",
      "Key:grade\n",
      "Value:Senior\n",
      "\n",
      "Key:GPA\n",
      "Value:3.8\n",
      "\n",
      "Key:id\n",
      "Value:30\n",
      "\n",
      "Key:grade\n",
      "Value:Senior\n",
      "\n",
      "Key:GPA\n",
      "Value:3.8\n",
      "\n",
      "Key:id\n",
      "Value:31\n",
      "\n",
      "Key:grade\n",
      "Value:Senior\n",
      "\n",
      "Key:GPA\n",
      "Value:3.8\n",
      "\n",
      "Key:id\n",
      "Value:32\n",
      "\n",
      "Key:grade\n",
      "Value:Senior\n",
      "\n",
      "Key:GPA\n",
      "Value:3.8\n",
      "\n",
      "Key:id\n",
      "Value:33\n",
      "\n",
      "Key:grade\n",
      "Value:Senior\n",
      "\n",
      "Key:GPA\n",
      "Value:3.8\n",
      "\n",
      "Key:id\n",
      "Value:34\n",
      "\n",
      "Key:grade\n",
      "Value:Senior\n",
      "\n",
      "Key:GPA\n",
      "Value:3.8\n",
      "\n",
      "Key:id\n",
      "Value:35\n",
      "\n",
      "Key:grade\n",
      "Value:Senior\n",
      "\n",
      "Key:GPA\n",
      "Value:3.8\n",
      "\n",
      "Key:id\n",
      "Value:36\n",
      "\n",
      "Key:grade\n",
      "Value:Senior\n",
      "\n",
      "Key:GPA\n",
      "Value:3.8\n",
      "\n",
      "Key:id\n",
      "Value:37\n",
      "\n",
      "Key:grade\n",
      "Value:Senior\n",
      "\n",
      "Key:GPA\n",
      "Value:3.8\n",
      "\n",
      "Key:id\n",
      "Value:38\n",
      "\n",
      "Key:grade\n",
      "Value:Senior\n",
      "\n",
      "Key:GPA\n",
      "Value:3.8\n",
      "\n",
      "Key:id\n",
      "Value:39\n",
      "\n",
      "Key:grade\n",
      "Value:Senior\n",
      "\n",
      "Key:GPA\n",
      "Value:3.8\n",
      "\n",
      "Key:id\n",
      "Value:40\n",
      "\n",
      "Key:grade\n",
      "Value:Senior\n",
      "\n",
      "Key:GPA\n",
      "Value:3.8\n",
      "\n",
      "Key:id\n",
      "Value:41\n",
      "\n",
      "Key:grade\n",
      "Value:Senior\n",
      "\n",
      "Key:GPA\n",
      "Value:3.8\n",
      "\n",
      "Key:id\n",
      "Value:42\n",
      "\n",
      "Key:grade\n",
      "Value:Senior\n",
      "\n",
      "Key:GPA\n",
      "Value:3.8\n",
      "\n",
      "Key:id\n",
      "Value:43\n",
      "\n",
      "Key:grade\n",
      "Value:Senior\n",
      "\n",
      "Key:GPA\n",
      "Value:3.8\n",
      "\n",
      "Key:id\n",
      "Value:44\n",
      "\n",
      "Key:grade\n",
      "Value:Senior\n",
      "\n",
      "Key:GPA\n",
      "Value:3.8\n",
      "\n",
      "Key:id\n",
      "Value:45\n",
      "\n",
      "Key:grade\n",
      "Value:Senior\n",
      "\n",
      "Key:GPA\n",
      "Value:3.8\n",
      "\n",
      "Key:id\n",
      "Value:46\n",
      "\n",
      "Key:grade\n",
      "Value:Senior\n",
      "\n",
      "Key:GPA\n",
      "Value:3.8\n",
      "\n",
      "Key:id\n",
      "Value:47\n",
      "\n",
      "Key:grade\n",
      "Value:Senior\n",
      "\n",
      "Key:GPA\n",
      "Value:3.8\n",
      "\n",
      "Key:id\n",
      "Value:48\n",
      "\n",
      "Key:grade\n",
      "Value:Senior\n",
      "\n",
      "Key:GPA\n",
      "Value:3.8\n",
      "\n",
      "Key:id\n",
      "Value:49\n",
      "\n",
      "Key:grade\n",
      "Value:Senior\n",
      "\n",
      "Key:GPA\n",
      "Value:3.8\n",
      "\n",
      "Key:id\n",
      "Value:50\n",
      "\n",
      "Key:grade\n",
      "Value:Senior\n",
      "\n",
      "Key:GPA\n",
      "Value:3.8\n",
      "\n",
      "Key:id\n",
      "Value:51\n",
      "\n",
      "Key:grade\n",
      "Value:Senior\n",
      "\n",
      "Key:GPA\n",
      "Value:3.8\n",
      "\n",
      "Key:id\n",
      "Value:52\n",
      "\n",
      "Key:grade\n",
      "Value:Senior\n",
      "\n",
      "Key:GPA\n",
      "Value:3.8\n",
      "\n",
      "Key:id\n",
      "Value:53\n",
      "\n",
      "Key:grade\n",
      "Value:Senior\n",
      "\n",
      "Key:GPA\n",
      "Value:3.8\n",
      "\n",
      "Key:id\n",
      "Value:54\n",
      "\n",
      "Key:grade\n",
      "Value:Senior\n",
      "\n",
      "Key:GPA\n",
      "Value:3.8\n",
      "\n",
      "Key:id\n",
      "Value:55\n",
      "\n",
      "Key:grade\n",
      "Value:Senior\n",
      "\n",
      "Key:GPA\n",
      "Value:3.8\n",
      "\n",
      "Key:id\n",
      "Value:56\n",
      "\n",
      "Key:grade\n",
      "Value:Senior\n",
      "\n",
      "Key:GPA\n",
      "Value:3.8\n",
      "\n",
      "Key:id\n",
      "Value:57\n",
      "\n",
      "Key:grade\n",
      "Value:Senior\n",
      "\n",
      "Key:GPA\n",
      "Value:3.8\n",
      "\n",
      "Key:id\n",
      "Value:58\n",
      "\n",
      "Key:grade\n",
      "Value:Senior\n",
      "\n",
      "Key:GPA\n",
      "Value:3.8\n",
      "\n",
      "Key:id\n",
      "Value:59\n",
      "\n",
      "Key:grade\n",
      "Value:Senior\n",
      "\n",
      "Key:GPA\n",
      "Value:3.8\n",
      "\n",
      "Key:id\n",
      "Value:60\n",
      "\n",
      "Key:grade\n",
      "Value:Senior\n",
      "\n",
      "Key:GPA\n",
      "Value:3.8\n",
      "\n",
      "Key:id\n",
      "Value:61\n",
      "\n",
      "Key:grade\n",
      "Value:Senior\n",
      "\n",
      "Key:GPA\n",
      "Value:3.8\n",
      "\n",
      "Key:id\n",
      "Value:62\n",
      "\n",
      "Key:grade\n",
      "Value:Senior\n",
      "\n",
      "Key:GPA\n",
      "Value:3.8\n",
      "\n",
      "Key:id\n",
      "Value:63\n",
      "\n",
      "Key:grade\n",
      "Value:Senior\n",
      "\n",
      "Key:GPA\n",
      "Value:3.8\n",
      "\n",
      "Key:id\n",
      "Value:64\n",
      "\n",
      "Key:grade\n",
      "Value:Senior\n",
      "\n",
      "Key:GPA\n",
      "Value:3.8\n",
      "\n",
      "Key:id\n",
      "Value:65\n",
      "\n",
      "Key:grade\n",
      "Value:Senior\n",
      "\n",
      "Key:GPA\n",
      "Value:3.8\n",
      "\n",
      "Key:id\n",
      "Value:66\n",
      "\n",
      "Key:grade\n",
      "Value:Senior\n",
      "\n",
      "Key:GPA\n",
      "Value:3.8\n",
      "\n",
      "Key:id\n",
      "Value:67\n",
      "\n",
      "Key:grade\n",
      "Value:Senior\n",
      "\n",
      "Key:GPA\n",
      "Value:3.8\n",
      "\n",
      "Key:id\n",
      "Value:68\n",
      "\n",
      "Key:grade\n",
      "Value:Senior\n",
      "\n",
      "Key:GPA\n",
      "Value:3.8\n",
      "\n",
      "Key:id\n",
      "Value:69\n",
      "\n",
      "Key:grade\n",
      "Value:Senior\n",
      "\n",
      "Key:GPA\n",
      "Value:3.8\n",
      "\n",
      "Key:id\n",
      "Value:70\n",
      "\n",
      "Key:grade\n",
      "Value:Senior\n",
      "\n",
      "Key:GPA\n",
      "Value:3.8\n",
      "\n",
      "Key:id\n",
      "Value:71\n",
      "\n",
      "Key:grade\n",
      "Value:Senior\n",
      "\n",
      "Key:GPA\n",
      "Value:3.8\n",
      "\n",
      "Key:id\n",
      "Value:72\n",
      "\n",
      "Key:grade\n",
      "Value:Senior\n",
      "\n",
      "Key:GPA\n",
      "Value:3.8\n",
      "\n",
      "Key:id\n",
      "Value:73\n",
      "\n",
      "Key:grade\n",
      "Value:Senior\n",
      "\n",
      "Key:GPA\n",
      "Value:3.8\n",
      "\n",
      "Key:id\n",
      "Value:74\n",
      "\n",
      "Key:grade\n",
      "Value:Senior\n",
      "\n",
      "Key:GPA\n",
      "Value:3.8\n",
      "\n",
      "Key:id\n",
      "Value:75\n",
      "\n",
      "Key:grade\n",
      "Value:Senior\n",
      "\n",
      "Key:GPA\n",
      "Value:3.8\n",
      "\n",
      "Key:id\n",
      "Value:76\n",
      "\n",
      "Key:grade\n",
      "Value:Senior\n",
      "\n",
      "Key:GPA\n",
      "Value:3.8\n",
      "\n",
      "Key:id\n",
      "Value:77\n",
      "\n",
      "Key:grade\n",
      "Value:Senior\n",
      "\n",
      "Key:GPA\n",
      "Value:3.8\n",
      "\n",
      "Key:id\n",
      "Value:78\n",
      "\n",
      "Key:grade\n",
      "Value:Senior\n",
      "\n",
      "Key:GPA\n",
      "Value:3.8\n",
      "\n",
      "Key:id\n",
      "Value:79\n",
      "\n",
      "Key:grade\n",
      "Value:Senior\n",
      "\n",
      "Key:GPA\n",
      "Value:3.8\n",
      "\n",
      "Key:id\n",
      "Value:80\n",
      "\n",
      "Key:grade\n",
      "Value:Senior\n",
      "\n",
      "Key:GPA\n",
      "Value:3.8\n",
      "\n",
      "Key:id\n",
      "Value:81\n",
      "\n",
      "Key:grade\n",
      "Value:Senior\n",
      "\n",
      "Key:GPA\n",
      "Value:3.8\n",
      "\n",
      "Key:id\n",
      "Value:82\n",
      "\n",
      "Key:grade\n",
      "Value:Senior\n",
      "\n",
      "Key:GPA\n",
      "Value:3.8\n",
      "\n",
      "Key:id\n",
      "Value:83\n",
      "\n",
      "Key:grade\n",
      "Value:Senior\n",
      "\n",
      "Key:GPA\n",
      "Value:3.8\n",
      "\n",
      "Key:id\n",
      "Value:84\n",
      "\n",
      "Key:grade\n",
      "Value:Senior\n",
      "\n",
      "Key:GPA\n",
      "Value:3.8\n",
      "\n",
      "Key:id\n",
      "Value:85\n",
      "\n",
      "Key:grade\n",
      "Value:Senior\n",
      "\n",
      "Key:GPA\n",
      "Value:3.8\n",
      "\n",
      "Key:id\n",
      "Value:86\n",
      "\n",
      "Key:grade\n",
      "Value:Senior\n",
      "\n",
      "Key:GPA\n",
      "Value:3.8\n",
      "\n",
      "Key:id\n",
      "Value:87\n",
      "\n",
      "Key:grade\n",
      "Value:Senior\n",
      "\n",
      "Key:GPA\n",
      "Value:3.8\n",
      "\n",
      "Key:id\n",
      "Value:88\n",
      "\n",
      "Key:grade\n",
      "Value:Senior\n",
      "\n",
      "Key:GPA\n",
      "Value:3.8\n",
      "\n",
      "Key:id\n",
      "Value:89\n",
      "\n",
      "Key:grade\n",
      "Value:Senior\n",
      "\n",
      "Key:GPA\n",
      "Value:3.8\n",
      "\n",
      "Key:id\n",
      "Value:90\n",
      "\n",
      "Key:grade\n",
      "Value:Senior\n",
      "\n",
      "Key:GPA\n",
      "Value:3.8\n",
      "\n",
      "Key:id\n",
      "Value:91\n",
      "\n",
      "Key:grade\n",
      "Value:Senior\n",
      "\n",
      "Key:GPA\n",
      "Value:3.8\n",
      "\n",
      "Key:id\n",
      "Value:92\n",
      "\n",
      "Key:grade\n",
      "Value:Senior\n",
      "\n",
      "Key:GPA\n",
      "Value:3.8\n",
      "\n",
      "Key:id\n",
      "Value:93\n",
      "\n",
      "Key:grade\n",
      "Value:Senior\n",
      "\n",
      "Key:GPA\n",
      "Value:3.8\n",
      "\n",
      "Key:id\n",
      "Value:94\n",
      "\n",
      "Key:grade\n",
      "Value:Senior\n",
      "\n",
      "Key:GPA\n",
      "Value:3.8\n",
      "\n",
      "Key:id\n",
      "Value:95\n",
      "\n",
      "Key:grade\n",
      "Value:Senior\n",
      "\n",
      "Key:GPA\n",
      "Value:3.8\n",
      "\n",
      "Key:id\n",
      "Value:96\n",
      "\n",
      "Key:grade\n",
      "Value:Senior\n",
      "\n",
      "Key:GPA\n",
      "Value:3.8\n",
      "\n",
      "Key:id\n",
      "Value:97\n",
      "\n",
      "Key:grade\n",
      "Value:Senior\n",
      "\n",
      "Key:GPA\n",
      "Value:3.8\n",
      "\n",
      "Key:id\n",
      "Value:98\n",
      "\n",
      "Key:grade\n",
      "Value:Senior\n",
      "\n",
      "Key:GPA\n",
      "Value:3.8\n",
      "\n",
      "Key:id\n",
      "Value:99\n",
      "\n",
      "Key:grade\n",
      "Value:Senior\n",
      "\n",
      "Key:GPA\n",
      "Value:3.8\n"
     ]
    }
   ],
   "source": [
    "for dict in student_list:\n",
    "    for key, value in dict.items():\n",
    "        print(\"\\nKey:\" + key)\n",
    "        print(\"Value:\"+ str(value)) "
   ]
  },
  {
   "cell_type": "markdown",
   "id": "2606bf86-a71e-41b9-85cd-df148fab6b98",
   "metadata": {},
   "source": [
    "### Putting it all together"
   ]
  },
  {
   "cell_type": "code",
   "execution_count": 107,
   "id": "5b0b2cb6",
   "metadata": {},
   "outputs": [],
   "source": [
    "def powers ():\n",
    "    active = True\n",
    "    responses = {}\n",
    "    while active:\n",
    "        name = input('\\nWhat is you name:? ')\n",
    "        response = input(\"do you like donuts ? \")\n",
    "        responses[name] = response \n",
    "        again = input(\"again? (yes/no)\")\n",
    "        if again == 'no':\n",
    "            active = False\n",
    "            print('\\n-- results --')\n",
    "    for name, response in responses.items():\n",
    "        print(name + \" likes donuts \" + response)\n",
    "    print(responses)\n",
    "\n",
    "    "
   ]
  },
  {
   "cell_type": "code",
   "execution_count": 109,
   "id": "b86a2eca-5a9f-494b-b1e8-73f0f50e50bc",
   "metadata": {},
   "outputs": [
    {
     "name": "stdin",
     "output_type": "stream",
     "text": [
      "\n",
      "What is you name:?  12\n",
      "do you like donuts ?  2\n",
      "again? (yes/no) no\n"
     ]
    },
    {
     "name": "stdout",
     "output_type": "stream",
     "text": [
      "\n",
      "-- results --\n",
      "12 likes donuts 2\n",
      "{'12': '2'}\n"
     ]
    }
   ],
   "source": [
    "powers()"
   ]
  },
  {
   "cell_type": "code",
   "execution_count": null,
   "id": "5518b038-a7e7-45af-ac1d-e99fe5ee84ed",
   "metadata": {},
   "outputs": [],
   "source": []
  },
  {
   "cell_type": "markdown",
   "id": "d168793e",
   "metadata": {},
   "source": [
    "## Refresh ... Kinda"
   ]
  },
  {
   "cell_type": "code",
   "execution_count": null,
   "id": "8caca614",
   "metadata": {},
   "outputs": [],
   "source": [
    "def describe_car(car, car_speed):\n",
    "\n",
    "print(\"\\nI have a \" + car + \".\")\n",
    "print(\"It is a \" + car_speed + \"'s name is \" + car.title() + \".\")"
   ]
  }
 ],
 "metadata": {
  "kernelspec": {
   "display_name": "Python 3 (ipykernel)",
   "language": "python",
   "name": "python3"
  },
  "language_info": {
   "codemirror_mode": {
    "name": "ipython",
    "version": 3
   },
   "file_extension": ".py",
   "mimetype": "text/x-python",
   "name": "python",
   "nbconvert_exporter": "python",
   "pygments_lexer": "ipython3",
   "version": "3.11.2"
  }
 },
 "nbformat": 4,
 "nbformat_minor": 5
}
