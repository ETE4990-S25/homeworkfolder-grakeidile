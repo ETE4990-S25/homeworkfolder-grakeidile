{
 "cells": [
  {
   "cell_type": "markdown",
   "id": "4e51d199",
   "metadata": {},
   "source": [
    "# Lists"
   ]
  },
  {
   "cell_type": "markdown",
   "id": "711f0284",
   "metadata": {},
   "source": [
    "Refresher: What Is a List? \n",
    "\n",
    "A list is a collection of items.  A list can include anything you want and do not need to be related in any way.\n",
    "\n",
    "Lists are normaly more than one element."
   ]
  },
  {
   "cell_type": "code",
   "execution_count": 1,
   "id": "fb7cf5e5",
   "metadata": {},
   "outputs": [],
   "source": [
    "aList = [1, 2, 3, \"word1\", \"word2\"]"
   ]
  },
  {
   "cell_type": "code",
   "execution_count": 2,
   "id": "214b3c8f",
   "metadata": {},
   "outputs": [
    {
     "name": "stdout",
     "output_type": "stream",
     "text": [
      "[1, 2, 3, 'word1', 'word2']\n"
     ]
    }
   ],
   "source": [
    "print(aList)"
   ]
  },
  {
   "cell_type": "markdown",
   "id": "162f0827",
   "metadata": {},
   "source": [
    "## Accessing Elements in a List\n",
    "\n",
    "Since lists are a collection of elements you want to access the information in that list. To do that you use what is called the index.\n",
    "\n",
    "In python Lists start at index 0 "
   ]
  },
  {
   "cell_type": "code",
   "execution_count": 3,
   "id": "f4dfdab4",
   "metadata": {},
   "outputs": [
    {
     "name": "stdout",
     "output_type": "stream",
     "text": [
      "1\n"
     ]
    }
   ],
   "source": [
    "print(aList[0])"
   ]
  },
  {
   "cell_type": "markdown",
   "id": "2ca703ac",
   "metadata": {},
   "source": [
    "You are able to perform all the same action of a list as you would just using the information at that indexed location"
   ]
  },
  {
   "cell_type": "code",
   "execution_count": 4,
   "id": "5162a58d",
   "metadata": {},
   "outputs": [
    {
     "data": {
      "text/plain": [
       "'Word1'"
      ]
     },
     "execution_count": 4,
     "metadata": {},
     "output_type": "execute_result"
    }
   ],
   "source": [
    "aList[3].title()"
   ]
  },
  {
   "cell_type": "code",
   "execution_count": 5,
   "id": "c40e93cb",
   "metadata": {
    "scrolled": true
   },
   "outputs": [
    {
     "data": {
      "text/plain": [
       "5"
      ]
     },
     "execution_count": 5,
     "metadata": {},
     "output_type": "execute_result"
    }
   ],
   "source": [
    "aList[1] + aList[2]"
   ]
  },
  {
   "cell_type": "code",
   "execution_count": 6,
   "id": "030501c7",
   "metadata": {},
   "outputs": [
    {
     "ename": "TypeError",
     "evalue": "unsupported operand type(s) for +: 'int' and 'str'",
     "output_type": "error",
     "traceback": [
      "\u001b[0;31m---------------------------------------------------------------------------\u001b[0m",
      "\u001b[0;31mTypeError\u001b[0m                                 Traceback (most recent call last)",
      "Cell \u001b[0;32mIn[6], line 1\u001b[0m\n\u001b[0;32m----> 1\u001b[0m \u001b[43maList\u001b[49m\u001b[43m[\u001b[49m\u001b[38;5;241;43m1\u001b[39;49m\u001b[43m]\u001b[49m\u001b[43m \u001b[49m\u001b[38;5;241;43m+\u001b[39;49m\u001b[43m \u001b[49m\u001b[43maList\u001b[49m\u001b[43m[\u001b[49m\u001b[38;5;241;43m3\u001b[39;49m\u001b[43m]\u001b[49m\n",
      "\u001b[0;31mTypeError\u001b[0m: unsupported operand type(s) for +: 'int' and 'str'"
     ]
    }
   ],
   "source": [
    "aList[1] + aList[3]"
   ]
  },
  {
   "cell_type": "code",
   "execution_count": 7,
   "id": "b54d6ad6",
   "metadata": {
    "scrolled": true
   },
   "outputs": [
    {
     "data": {
      "text/plain": [
       "'word2word1'"
      ]
     },
     "execution_count": 7,
     "metadata": {},
     "output_type": "execute_result"
    }
   ],
   "source": [
    "aList[4] + aList[3]"
   ]
  },
  {
   "cell_type": "code",
   "execution_count": 8,
   "id": "df8914ab",
   "metadata": {},
   "outputs": [
    {
     "name": "stdout",
     "output_type": "stream",
     "text": [
      "word2\n"
     ]
    }
   ],
   "source": [
    "print(aList[-1])"
   ]
  },
  {
   "cell_type": "code",
   "execution_count": 10,
   "id": "024dc928",
   "metadata": {},
   "outputs": [
    {
     "name": "stdout",
     "output_type": "stream",
     "text": [
      "My list contains the following at index 3: word1 word1\n"
     ]
    }
   ],
   "source": [
    "print(\"My list contains the following at index 3:\", aList[3], aList[3])"
   ]
  },
  {
   "cell_type": "markdown",
   "id": "024853db",
   "metadata": {},
   "source": [
    "# Testing Multiple conditions\n",
    "\n",
    "The if-elif-else chain is widly use. \n",
    "\n",
    "An if-elif-else is looking to satisfy one condition and once found it skips the rest of the tests. \n",
    "\n",
    "\n"
   ]
  },
  {
   "cell_type": "code",
   "execution_count": 16,
   "id": "3779970b",
   "metadata": {},
   "outputs": [],
   "source": [
    "brands = [ [\"Jeep\", \"BMW\"], \"Audi\", \"Kia\"]"
   ]
  },
  {
   "cell_type": "code",
   "execution_count": 17,
   "id": "73ce7bb7",
   "metadata": {},
   "outputs": [
    {
     "name": "stdout",
     "output_type": "stream",
     "text": [
      "Jeep is in brands\n"
     ]
    }
   ],
   "source": [
    "if \"BMW\" in brands:\n",
    "    print(\"BMW is in brands\")\n",
    "elif \"Jeep\" in brands:\n",
    "    print (\"Jeep is in brands\")\n",
    "else:\n",
    "    print (\"Audi is in brands\")\n"
   ]
  },
  {
   "cell_type": "markdown",
   "id": "40240b10",
   "metadata": {},
   "source": [
    "Sometimes we need to check if there are more than one condition. \n",
    "\n",
    "To do this you remove the elif or else blocks. This helps when looking for more than one condition to be True."
   ]
  },
  {
   "cell_type": "code",
   "execution_count": 18,
   "id": "01d40bf6",
   "metadata": {},
   "outputs": [
    {
     "name": "stdout",
     "output_type": "stream",
     "text": [
      "BMW is in brands\n",
      "Jeep is in brands\n",
      "Audi is in brands\n"
     ]
    }
   ],
   "source": [
    "if \"BMW\" in brands:\n",
    "    print(\"BMW is in brands\")\n",
    "if \"Jeep\" in brands:\n",
    "    print (\"Jeep is in brands\")\n",
    "if \"Audi\" in brands:\n",
    "    print (\"Audi is in brands\")\n",
    "\n"
   ]
  },
  {
   "cell_type": "markdown",
   "id": "8fa21725",
   "metadata": {},
   "source": [
    "As you can see all of the if statments have been ran."
   ]
  },
  {
   "cell_type": "code",
   "execution_count": 21,
   "id": "79b962c3",
   "metadata": {},
   "outputs": [
    {
     "name": "stdout",
     "output_type": "stream",
     "text": [
      "BMW is in brands Jeep is in brands Subaru is not in brans "
     ]
    }
   ],
   "source": [
    "if \"BMW\" in brands:\n",
    "    print(\"BMW is in brands\", end = \" \")\n",
    "if \"Jeep\" in brands:\n",
    "    print (\"Jeep is in brands\", end = \" \")\n",
    "if \"Subaru\" in brands:\n",
    "    print (\"Subaru is in brands\")\n",
    "else:\n",
    "    print(\"Subaru is not in brans\", end = \" \")\n",
    "\n"
   ]
  },
  {
   "cell_type": "markdown",
   "id": "8fe54cce",
   "metadata": {},
   "source": [
    "## Changing, Adding, and Removing Elements\n",
    "\n",
    "Lists that you create will be dynamic. You will add, remove, and minipulate the list.\n",
    "\n",
    "## Modifying a List\n",
    "Modifying a list is very simple. The syntax for modifying is the same as accessing the list."
   ]
  },
  {
   "cell_type": "code",
   "execution_count": 86,
   "id": "fb4826da",
   "metadata": {},
   "outputs": [],
   "source": [
    "brands = [\"BMW\", \"Jeep\", \"Audi\", \"Kia\"]"
   ]
  },
  {
   "cell_type": "code",
   "execution_count": 23,
   "id": "bfb1403e",
   "metadata": {},
   "outputs": [
    {
     "ename": "IndexError",
     "evalue": "list assignment index out of range",
     "output_type": "error",
     "traceback": [
      "\u001b[0;31m---------------------------------------------------------------------------\u001b[0m",
      "\u001b[0;31mIndexError\u001b[0m                                Traceback (most recent call last)",
      "Cell \u001b[0;32mIn[23], line 1\u001b[0m\n\u001b[0;32m----> 1\u001b[0m \u001b[43mbrands\u001b[49m\u001b[43m[\u001b[49m\u001b[38;5;241;43m7\u001b[39;49m\u001b[43m]\u001b[49m \u001b[38;5;241m=\u001b[39m \u001b[38;5;124m\"\u001b[39m\u001b[38;5;124mHonda\u001b[39m\u001b[38;5;124m\"\u001b[39m\n",
      "\u001b[0;31mIndexError\u001b[0m: list assignment index out of range"
     ]
    }
   ],
   "source": [
    "brands[7] = \"Honda\""
   ]
  },
  {
   "cell_type": "code",
   "execution_count": 63,
   "id": "163b7da0",
   "metadata": {},
   "outputs": [],
   "source": [
    "brands = []\n",
    "#brands.count(1)"
   ]
  },
  {
   "cell_type": "code",
   "execution_count": 47,
   "id": "63dea023",
   "metadata": {},
   "outputs": [
    {
     "ename": "NameError",
     "evalue": "name 'brands' is not defined",
     "output_type": "error",
     "traceback": [
      "\u001b[0;31m---------------------------------------------------------------------------\u001b[0m",
      "\u001b[0;31mNameError\u001b[0m                                 Traceback (most recent call last)",
      "Cell \u001b[0;32mIn[47], line 1\u001b[0m\n\u001b[0;32m----> 1\u001b[0m \u001b[38;5;28mprint\u001b[39m(\u001b[43mbrands\u001b[49m)\n",
      "\u001b[0;31mNameError\u001b[0m: name 'brands' is not defined"
     ]
    }
   ],
   "source": [
    "print(brands)"
   ]
  },
  {
   "cell_type": "code",
   "execution_count": 64,
   "id": "ba20696f",
   "metadata": {},
   "outputs": [],
   "source": [
    "brands.append(\"Honda\")"
   ]
  },
  {
   "cell_type": "code",
   "execution_count": 65,
   "id": "dc1b3fb7",
   "metadata": {},
   "outputs": [],
   "source": [
    "brands.append(\"BMW\")\n",
    "brands.append(\"Jeep\")\n",
    "brands.append(\"Audi\")"
   ]
  },
  {
   "cell_type": "markdown",
   "id": "8b6646db",
   "metadata": {},
   "source": [
    "While the above code looks a little strange this is very common way to build a list because we often won't know the data that will be sent to us. \n",
    "\n",
    "## Inserting\n",
    "Another way to add information to a list is by Inserting the elements"
   ]
  },
  {
   "cell_type": "code",
   "execution_count": 77,
   "id": "440156f6",
   "metadata": {},
   "outputs": [
    {
     "data": {
      "text/plain": [
       "['Honda',\n",
       " 'BMW',\n",
       " 'Jeep',\n",
       " 'hello',\n",
       " 'Toyota',\n",
       " 'Toyota',\n",
       " 'Toyota',\n",
       " 'Toyota',\n",
       " 'Toyota',\n",
       " 'Toyota',\n",
       " 'Toyota',\n",
       " 'Toyota',\n",
       " 'Audi']"
      ]
     },
     "execution_count": 77,
     "metadata": {},
     "output_type": "execute_result"
    }
   ],
   "source": [
    "brands.insert(3, \"Toyota\")\n",
    "brands[3]= \"hello\"\n",
    "brands"
   ]
  },
  {
   "cell_type": "markdown",
   "id": "b25e2d67",
   "metadata": {},
   "source": [
    "## Removing\n",
    "There are many ways to remove an item from a list. \n",
    "    \n",
    "    Note: While obvious remember once an item has been removed it can no longer be accessed\n",
    "\n",
    "### If you know the index: \n"
   ]
  },
  {
   "cell_type": "code",
   "execution_count": 49,
   "id": "458dd758",
   "metadata": {},
   "outputs": [
    {
     "ename": "SyntaxError",
     "evalue": "cannot delete function call (381286226.py, line 1)",
     "output_type": "error",
     "traceback": [
      "\u001b[0;36m  Cell \u001b[0;32mIn[49], line 1\u001b[0;36m\u001b[0m\n\u001b[0;31m    del brands()\u001b[0m\n\u001b[0m        ^\u001b[0m\n\u001b[0;31mSyntaxError\u001b[0m\u001b[0;31m:\u001b[0m cannot delete function call\n"
     ]
    }
   ],
   "source": [
    "del brands()"
   ]
  },
  {
   "cell_type": "markdown",
   "id": "6aadabb9",
   "metadata": {},
   "source": [
    "### Using the pop() Method\n",
    "\n",
    "The pop() Method will remove an item from the list then allow you to use it. \n",
    "\n",
    "The pop method removes the last item in the list but lets you work with that item after removing it. \n",
    "\n",
    "Think of a pez despenser, and the candy pops out of the stack. In a list the tops of the stack is the last item of the list. "
   ]
  },
  {
   "cell_type": "code",
   "execution_count": 60,
   "id": "47e0e1ef",
   "metadata": {},
   "outputs": [],
   "source": [
    "brands = [[\"BMW\", \"Jeep\"], \"Audi\", \"Kia\"]"
   ]
  },
  {
   "cell_type": "code",
   "execution_count": 58,
   "id": "c338afb6",
   "metadata": {},
   "outputs": [
    {
     "ename": "IndexError",
     "evalue": "pop index out of range",
     "output_type": "error",
     "traceback": [
      "\u001b[0;31m---------------------------------------------------------------------------\u001b[0m",
      "\u001b[0;31mIndexError\u001b[0m                                Traceback (most recent call last)",
      "Cell \u001b[0;32mIn[58], line 1\u001b[0m\n\u001b[0;32m----> 1\u001b[0m popped_brands \u001b[38;5;241m=\u001b[39m \u001b[43mbrands\u001b[49m\u001b[38;5;241;43m.\u001b[39;49m\u001b[43mpop\u001b[49m\u001b[43m(\u001b[49m\u001b[38;5;241;43m2\u001b[39;49m\u001b[43m)\u001b[49m\n\u001b[1;32m      2\u001b[0m \u001b[38;5;28mprint\u001b[39m(brands)\n\u001b[1;32m      3\u001b[0m \u001b[38;5;28mprint\u001b[39m(popped_brands)\n",
      "\u001b[0;31mIndexError\u001b[0m: pop index out of range"
     ]
    }
   ],
   "source": [
    "popped_brands = brands.pop(2)\n",
    "print(brands)\n",
    "print(popped_brands)"
   ]
  },
  {
   "cell_type": "code",
   "execution_count": 62,
   "id": "6a4dd0c9",
   "metadata": {},
   "outputs": [
    {
     "name": "stdout",
     "output_type": "stream",
     "text": [
      "<class 'list'>\n"
     ]
    }
   ],
   "source": [
    "#popped_brands = brands.pop(1) # you can also pop at an index\n",
    "#print(popped_brands)\n",
    "print(type(brands[0]))\n"
   ]
  },
  {
   "cell_type": "markdown",
   "id": "bfe0e9a6",
   "metadata": {},
   "source": [
    "## Removing by item value\n",
    "\n",
    "you may not know the location of an item you want to remove but you know its value."
   ]
  },
  {
   "cell_type": "code",
   "execution_count": 88,
   "id": "dea84d72",
   "metadata": {},
   "outputs": [
    {
     "name": "stdout",
     "output_type": "stream",
     "text": [
      "['BMW', 'Jeep', 'Audi', 'Kia']\n"
     ]
    }
   ],
   "source": [
    "#brands.remove(\"Toyota\")\n",
    "print(brands) #what do you think happens if I do this again?"
   ]
  },
  {
   "cell_type": "code",
   "execution_count": 113,
   "id": "91223c87-a3f9-44eb-8d6f-075d4244e10d",
   "metadata": {},
   "outputs": [],
   "source": [
    "brands = [[\"BMW\", \"Jeep\"], \"Audi\", \"Kia\"]"
   ]
  },
  {
   "cell_type": "code",
   "execution_count": 95,
   "id": "94eef281",
   "metadata": {},
   "outputs": [
    {
     "data": {
      "text/plain": [
       "['Audi', 'Kia']"
      ]
     },
     "execution_count": 95,
     "metadata": {},
     "output_type": "execute_result"
    }
   ],
   "source": [
    "disliked_brands = [\"BMW\", \"Jeep\"]\n",
    "brands.remove(disliked_brands)\n",
    "brands"
   ]
  },
  {
   "cell_type": "markdown",
   "id": "b06bd980-ac10-46d1-b89e-016af1f6983b",
   "metadata": {},
   "source": [
    "# Will this work?"
   ]
  },
  {
   "cell_type": "code",
   "execution_count": 100,
   "id": "8083aed0-beaf-4a8d-8514-b042742371d9",
   "metadata": {},
   "outputs": [],
   "source": [
    "brands = [\"BMW\", \"Jeep\", \"Audi\", \"Kia\"]"
   ]
  },
  {
   "cell_type": "code",
   "execution_count": 101,
   "id": "0a146ade-819a-4ec8-9fbc-970abb7a9c15",
   "metadata": {},
   "outputs": [
    {
     "ename": "ValueError",
     "evalue": "list.remove(x): x not in list",
     "output_type": "error",
     "traceback": [
      "\u001b[0;31m---------------------------------------------------------------------------\u001b[0m",
      "\u001b[0;31mValueError\u001b[0m                                Traceback (most recent call last)",
      "Cell \u001b[0;32mIn[101], line 2\u001b[0m\n\u001b[1;32m      1\u001b[0m disliked_brands \u001b[38;5;241m=\u001b[39m [\u001b[38;5;124m\"\u001b[39m\u001b[38;5;124mBMW\u001b[39m\u001b[38;5;124m\"\u001b[39m, \u001b[38;5;124m\"\u001b[39m\u001b[38;5;124mJeep\u001b[39m\u001b[38;5;124m\"\u001b[39m]\n\u001b[0;32m----> 2\u001b[0m \u001b[43mbrands\u001b[49m\u001b[38;5;241;43m.\u001b[39;49m\u001b[43mremove\u001b[49m\u001b[43m(\u001b[49m\u001b[43mdisliked_brands\u001b[49m\u001b[43m)\u001b[49m\n",
      "\u001b[0;31mValueError\u001b[0m: list.remove(x): x not in list"
     ]
    }
   ],
   "source": [
    "disliked_brands = [\"BMW\", \"Jeep\"]\n",
    "brands.remove(disliked_brands)"
   ]
  },
  {
   "cell_type": "code",
   "execution_count": 99,
   "id": "4911f7ec-4e71-42c7-9746-5a45565c243c",
   "metadata": {},
   "outputs": [
    {
     "name": "stdout",
     "output_type": "stream",
     "text": [
      "<class 'tuple'>\n"
     ]
    }
   ],
   "source": [
    "disliked_brands\n",
    "print(type(disliked_brands))"
   ]
  },
  {
   "cell_type": "code",
   "execution_count": 105,
   "id": "246dcd80",
   "metadata": {},
   "outputs": [],
   "source": [
    "def disliked_brands (aList):\n",
    "    global brands\n",
    "    for i in aList:\n",
    "        brands.remove(i)"
   ]
  },
  {
   "cell_type": "code",
   "execution_count": 107,
   "id": "21c13cb7",
   "metadata": {},
   "outputs": [
    {
     "ename": "ValueError",
     "evalue": "list.remove(x): x not in list",
     "output_type": "error",
     "traceback": [
      "\u001b[0;31m---------------------------------------------------------------------------\u001b[0m",
      "\u001b[0;31mValueError\u001b[0m                                Traceback (most recent call last)",
      "Cell \u001b[0;32mIn[107], line 2\u001b[0m\n\u001b[1;32m      1\u001b[0m brands \u001b[38;5;241m=\u001b[39m [\u001b[38;5;124m\"\u001b[39m\u001b[38;5;124mBMW\u001b[39m\u001b[38;5;124m\"\u001b[39m, \u001b[38;5;124m\"\u001b[39m\u001b[38;5;124mJeep\u001b[39m\u001b[38;5;124m\"\u001b[39m, \u001b[38;5;124m\"\u001b[39m\u001b[38;5;124mAudi\u001b[39m\u001b[38;5;124m\"\u001b[39m, \u001b[38;5;124m\"\u001b[39m\u001b[38;5;124mKia\u001b[39m\u001b[38;5;124m\"\u001b[39m]\n\u001b[0;32m----> 2\u001b[0m \u001b[43mdisliked_brands\u001b[49m\u001b[43m(\u001b[49m\u001b[43m[\u001b[49m\u001b[38;5;124;43m\"\u001b[39;49m\u001b[38;5;124;43mJ\u001b[39;49m\u001b[38;5;124;43m\"\u001b[39;49m\u001b[43m,\u001b[49m\u001b[38;5;124;43m\"\u001b[39;49m\u001b[38;5;124;43mBMW\u001b[39;49m\u001b[38;5;124;43m\"\u001b[39;49m\u001b[43m]\u001b[49m\u001b[43m)\u001b[49m\n\u001b[1;32m      3\u001b[0m \u001b[38;5;28mprint\u001b[39m(brands)\n",
      "Cell \u001b[0;32mIn[105], line 4\u001b[0m, in \u001b[0;36mdisliked_brands\u001b[0;34m(aList)\u001b[0m\n\u001b[1;32m      2\u001b[0m \u001b[38;5;28;01mglobal\u001b[39;00m brands\n\u001b[1;32m      3\u001b[0m \u001b[38;5;28;01mfor\u001b[39;00m i \u001b[38;5;129;01min\u001b[39;00m aList:\n\u001b[0;32m----> 4\u001b[0m     \u001b[43mbrands\u001b[49m\u001b[38;5;241;43m.\u001b[39;49m\u001b[43mremove\u001b[49m\u001b[43m(\u001b[49m\u001b[43mi\u001b[49m\u001b[43m)\u001b[49m\n",
      "\u001b[0;31mValueError\u001b[0m: list.remove(x): x not in list"
     ]
    }
   ],
   "source": [
    "brands = [\"BMW\", \"Jeep\", \"Audi\", \"Kia\"]\n",
    "disliked_brands([\"J\",\"BMW\"])\n",
    "print(brands)"
   ]
  },
  {
   "cell_type": "markdown",
   "id": "6081f4ab",
   "metadata": {},
   "source": [
    "# Organizing a List\n",
    "\n",
    "Often you will need to organize a list due to not being able to control its order. This is called Sorting."
   ]
  },
  {
   "cell_type": "code",
   "execution_count": 108,
   "id": "2cd04018",
   "metadata": {},
   "outputs": [
    {
     "name": "stdout",
     "output_type": "stream",
     "text": [
      "[1, 2, 3, 4, 6, 7]\n"
     ]
    }
   ],
   "source": [
    "favorite_numbers = [2, 4, 7, 1, 6, 3]\n",
    "\n",
    "favorite_numbers.sort()\n",
    "print(favorite_numbers)"
   ]
  },
  {
   "cell_type": "code",
   "execution_count": 109,
   "id": "8a2464df",
   "metadata": {},
   "outputs": [
    {
     "name": "stdout",
     "output_type": "stream",
     "text": [
      "[7, 6, 4, 3, 2, 1]\n"
     ]
    }
   ],
   "source": [
    "favorite_numbers.sort(reverse=True) #the sort method also takes arguments\n",
    "print(favorite_numbers)"
   ]
  },
  {
   "cell_type": "code",
   "execution_count": 110,
   "id": "0c66299e",
   "metadata": {},
   "outputs": [
    {
     "name": "stdout",
     "output_type": "stream",
     "text": [
      "this is temporarily sorted: [1, 2, 3, 4, 6, 7]\n",
      "[7, 6, 4, 3, 2, 1]\n"
     ]
    }
   ],
   "source": [
    "print(\"this is temporarily sorted:\", sorted(favorite_numbers))\n",
    "print(favorite_numbers)"
   ]
  },
  {
   "cell_type": "code",
   "execution_count": 111,
   "id": "70386573",
   "metadata": {},
   "outputs": [
    {
     "name": "stdout",
     "output_type": "stream",
     "text": [
      "[3, 6, 1, 7, 4, 2]\n"
     ]
    }
   ],
   "source": [
    "favorite_numbers = [2, 4, 7, 1, 6, 3]\n",
    "favorite_numbers.reverse()\n",
    "print(favorite_numbers)"
   ]
  },
  {
   "cell_type": "markdown",
   "id": "ece1c0cf",
   "metadata": {},
   "source": [
    "## Length of a list\n",
    "\n",
    "to quickly find the length of a list use use the len"
   ]
  },
  {
   "cell_type": "code",
   "execution_count": 115,
   "id": "147b2525",
   "metadata": {},
   "outputs": [
    {
     "name": "stdout",
     "output_type": "stream",
     "text": [
      "6\n",
      "3\n"
     ]
    },
    {
     "data": {
      "text/plain": [
       "[['BMW', 'Jeep'], 'Audi', 'Kia']"
      ]
     },
     "execution_count": 115,
     "metadata": {},
     "output_type": "execute_result"
    }
   ],
   "source": [
    "print(len(favorite_numbers))\n",
    "print(len(brands))\n",
    "brands"
   ]
  },
  {
   "cell_type": "markdown",
   "id": "c2e17dd9",
   "metadata": {},
   "source": [
    "Knowing the length of you list will help you to reduce the odds of reciving an index Error"
   ]
  },
  {
   "cell_type": "code",
   "execution_count": 116,
   "id": "9ed359c7",
   "metadata": {},
   "outputs": [
    {
     "ename": "IndexError",
     "evalue": "list index out of range",
     "output_type": "error",
     "traceback": [
      "\u001b[0;31m---------------------------------------------------------------------------\u001b[0m",
      "\u001b[0;31mIndexError\u001b[0m                                Traceback (most recent call last)",
      "Cell \u001b[0;32mIn[116], line 1\u001b[0m\n\u001b[0;32m----> 1\u001b[0m \u001b[38;5;28mprint\u001b[39m(\u001b[43mfavorite_numbers\u001b[49m\u001b[43m[\u001b[49m\u001b[38;5;241;43m6\u001b[39;49m\u001b[43m]\u001b[49m)\n",
      "\u001b[0;31mIndexError\u001b[0m: list index out of range"
     ]
    }
   ],
   "source": [
    "print(favorite_numbers[6])"
   ]
  },
  {
   "cell_type": "markdown",
   "id": "2d3ad6bd",
   "metadata": {},
   "source": [
    "## Other ways to create a List"
   ]
  },
  {
   "cell_type": "code",
   "execution_count": 117,
   "id": "9a35b76d",
   "metadata": {},
   "outputs": [
    {
     "name": "stdout",
     "output_type": "stream",
     "text": [
      "[1, 2, 3, 4, 5]\n"
     ]
    }
   ],
   "source": [
    "numbers = list(range(1,6)) #if we need a quick list of numbers you can use this\n",
    "print(numbers)"
   ]
  },
  {
   "cell_type": "code",
   "execution_count": 118,
   "id": "f8c0d4e6",
   "metadata": {},
   "outputs": [
    {
     "name": "stdout",
     "output_type": "stream",
     "text": [
      "[1, 4, 7, 10, 13]\n"
     ]
    }
   ],
   "source": [
    "numbers = list(range(1,14,3)) # Or you can perfrom the following (Start, end, add)\n",
    "print(numbers)"
   ]
  },
  {
   "cell_type": "code",
   "execution_count": 119,
   "id": "4e422ca6",
   "metadata": {},
   "outputs": [
    {
     "ename": "TypeError",
     "evalue": "can't multiply sequence by non-int of type 'list'",
     "output_type": "error",
     "traceback": [
      "\u001b[0;31m---------------------------------------------------------------------------\u001b[0m",
      "\u001b[0;31mTypeError\u001b[0m                                 Traceback (most recent call last)",
      "Cell \u001b[0;32mIn[119], line 1\u001b[0m\n\u001b[0;32m----> 1\u001b[0m numbers \u001b[38;5;241m=\u001b[39m \u001b[43mnumbers\u001b[49m\u001b[38;5;241;43m*\u001b[39;49m\u001b[43mnumbers\u001b[49m\n",
      "\u001b[0;31mTypeError\u001b[0m: can't multiply sequence by non-int of type 'list'"
     ]
    }
   ],
   "source": [
    "numbers = numbers*numbers"
   ]
  },
  {
   "cell_type": "code",
   "execution_count": 120,
   "id": "2f421c79",
   "metadata": {},
   "outputs": [
    {
     "ename": "TypeError",
     "evalue": "unsupported operand type(s) for ** or pow(): 'list' and 'int'",
     "output_type": "error",
     "traceback": [
      "\u001b[0;31m---------------------------------------------------------------------------\u001b[0m",
      "\u001b[0;31mTypeError\u001b[0m                                 Traceback (most recent call last)",
      "Cell \u001b[0;32mIn[120], line 1\u001b[0m\n\u001b[0;32m----> 1\u001b[0m squares \u001b[38;5;241m=\u001b[39m \u001b[43mnumbers\u001b[49m\u001b[38;5;241;43m*\u001b[39;49m\u001b[38;5;241;43m*\u001b[39;49m\u001b[38;5;241;43m2\u001b[39;49m \n",
      "\u001b[0;31mTypeError\u001b[0m: unsupported operand type(s) for ** or pow(): 'list' and 'int'"
     ]
    }
   ],
   "source": [
    "squares = numbers**2 "
   ]
  },
  {
   "cell_type": "code",
   "execution_count": 121,
   "id": "67b0660d",
   "metadata": {},
   "outputs": [
    {
     "name": "stdout",
     "output_type": "stream",
     "text": [
      "[1, 4, 9, 16, 25, 36, 49, 64, 81, 100]\n"
     ]
    }
   ],
   "source": [
    "squares = []\n",
    "for i in range(1,11):\n",
    "    squares.append(i**2) # what is wrong here\n",
    "print(squares)"
   ]
  },
  {
   "cell_type": "markdown",
   "id": "10d25828",
   "metadata": {},
   "source": [
    "## Simple operators"
   ]
  },
  {
   "cell_type": "code",
   "execution_count": 122,
   "id": "3b2f9d2d",
   "metadata": {},
   "outputs": [
    {
     "name": "stdout",
     "output_type": "stream",
     "text": [
      "1\n",
      "13\n",
      "35\n"
     ]
    }
   ],
   "source": [
    "\n",
    "print(min(numbers))\n",
    "print(max(numbers))\n",
    "print(sum(numbers))"
   ]
  },
  {
   "cell_type": "code",
   "execution_count": 123,
   "id": "3c9ba4f8",
   "metadata": {},
   "outputs": [
    {
     "name": "stdout",
     "output_type": "stream",
     "text": [
      "[1, 4, 9, 16, 25, 36, 49, 64, 81, 100]\n"
     ]
    }
   ],
   "source": [
    "square = [i**2 for i in range(1,11)] # here is another way to perform the same action as above\n",
    "print(square)"
   ]
  },
  {
   "cell_type": "markdown",
   "id": "b5aac10a",
   "metadata": {},
   "source": [
    "# Slicing a list\n",
    "To make a slice of a list all you need to do is include the index of the list."
   ]
  },
  {
   "cell_type": "code",
   "execution_count": 124,
   "id": "d522021f",
   "metadata": {},
   "outputs": [
    {
     "data": {
      "text/plain": [
       "[16, 25]"
      ]
     },
     "execution_count": 124,
     "metadata": {},
     "output_type": "execute_result"
    }
   ],
   "source": [
    "square[3:5]"
   ]
  },
  {
   "cell_type": "code",
   "execution_count": 126,
   "id": "ea67df90",
   "metadata": {},
   "outputs": [
    {
     "data": {
      "text/plain": [
       "[4, 9, 16, 25, 36, 49, 64, 81, 100]"
      ]
     },
     "execution_count": 126,
     "metadata": {},
     "output_type": "execute_result"
    }
   ],
   "source": [
    "square[1:]"
   ]
  },
  {
   "cell_type": "code",
   "execution_count": 128,
   "id": "4fa2e1b8",
   "metadata": {},
   "outputs": [
    {
     "ename": "SyntaxError",
     "evalue": "invalid syntax (1956145150.py, line 1)",
     "output_type": "error",
     "traceback": [
      "\u001b[0;36m  Cell \u001b[0;32mIn[128], line 1\u001b[0;36m\u001b[0m\n\u001b[0;31m    square[[1:3],[5:7]] #will not work\u001b[0m\n\u001b[0m             ^\u001b[0m\n\u001b[0;31mSyntaxError\u001b[0m\u001b[0;31m:\u001b[0m invalid syntax\n"
     ]
    }
   ],
   "source": [
    "square[1:3,5:7] #will not work "
   ]
  },
  {
   "cell_type": "markdown",
   "id": "383a2aa7",
   "metadata": {},
   "source": [
    "As you can see above we do not recive the end index."
   ]
  },
  {
   "cell_type": "markdown",
   "id": "f7a84aa3",
   "metadata": {},
   "source": [
    "## Copying a list\n",
    "In many cases you will need to copy a list as you do not want to edit an exsiting list (or posible tuple) so you will need to copy the contents."
   ]
  },
  {
   "cell_type": "code",
   "execution_count": 129,
   "id": "ef6c4b75",
   "metadata": {},
   "outputs": [
    {
     "name": "stdout",
     "output_type": "stream",
     "text": [
      "[1, 4, 9, 16, 25, 36, 49, 64, 81, 100]\n"
     ]
    }
   ],
   "source": [
    "print(square)\n",
    "bak_square = square"
   ]
  },
  {
   "cell_type": "code",
   "execution_count": 130,
   "id": "d0fad1d6",
   "metadata": {},
   "outputs": [
    {
     "name": "stdout",
     "output_type": "stream",
     "text": [
      "[1, 0, 9, 16, 25, 36, 49, 64, 81, 100]\n"
     ]
    }
   ],
   "source": [
    "bak_square[1] = 0 # will this work?\n",
    "print(square)"
   ]
  },
  {
   "cell_type": "code",
   "execution_count": 131,
   "id": "bee70f55",
   "metadata": {},
   "outputs": [
    {
     "data": {
      "text/plain": [
       "True"
      ]
     },
     "execution_count": 131,
     "metadata": {},
     "output_type": "execute_result"
    }
   ],
   "source": [
    "bak_square is square"
   ]
  },
  {
   "cell_type": "markdown",
   "id": "064c6ee4",
   "metadata": {},
   "source": [
    "As you can see from above bak_square is square to make it more clear."
   ]
  },
  {
   "cell_type": "code",
   "execution_count": 132,
   "id": "f2830162",
   "metadata": {},
   "outputs": [
    {
     "data": {
      "text/plain": [
       "'0x106bde980'"
      ]
     },
     "execution_count": 132,
     "metadata": {},
     "output_type": "execute_result"
    }
   ],
   "source": [
    "hex(id(bak_square))"
   ]
  },
  {
   "cell_type": "code",
   "execution_count": 133,
   "id": "0b65dc2c",
   "metadata": {},
   "outputs": [
    {
     "data": {
      "text/plain": [
       "'0x106bde980'"
      ]
     },
     "execution_count": 133,
     "metadata": {},
     "output_type": "execute_result"
    }
   ],
   "source": [
    "hex(id(square))"
   ]
  },
  {
   "cell_type": "code",
   "execution_count": 134,
   "id": "44824171",
   "metadata": {},
   "outputs": [
    {
     "data": {
      "text/plain": [
       "False"
      ]
     },
     "execution_count": 134,
     "metadata": {},
     "output_type": "execute_result"
    }
   ],
   "source": [
    "bac_square = square[:]\n",
    "bac_square is square"
   ]
  },
  {
   "cell_type": "code",
   "execution_count": 135,
   "id": "d4146943",
   "metadata": {},
   "outputs": [
    {
     "name": "stdout",
     "output_type": "stream",
     "text": [
      "[1, 0, 9, 16, 25, 36, 49, 64, 81, 100, 'hello']\n"
     ]
    }
   ],
   "source": [
    "bac_square.append(\"hello\")\n",
    "print(bac_square)"
   ]
  },
  {
   "cell_type": "code",
   "execution_count": 136,
   "id": "cea80bfb",
   "metadata": {},
   "outputs": [
    {
     "name": "stdout",
     "output_type": "stream",
     "text": [
      "[1, 0, 9, 16, 25, 36, 49, 64, 81, 100]\n"
     ]
    }
   ],
   "source": [
    "print(square)"
   ]
  },
  {
   "cell_type": "code",
   "execution_count": 137,
   "id": "55bc0c7d",
   "metadata": {},
   "outputs": [
    {
     "ename": "SyntaxError",
     "evalue": "invalid syntax (899543486.py, line 1)",
     "output_type": "error",
     "traceback": [
      "\u001b[0;36m  Cell \u001b[0;32mIn[137], line 1\u001b[0;36m\u001b[0m\n\u001b[0;31m    del square[] = 0\u001b[0m\n\u001b[0m               ^\u001b[0m\n\u001b[0;31mSyntaxError\u001b[0m\u001b[0;31m:\u001b[0m invalid syntax\n"
     ]
    }
   ],
   "source": [
    "del square[] = 0"
   ]
  },
  {
   "cell_type": "code",
   "execution_count": 140,
   "id": "56b0e8e0-2311-4246-868f-97adfa0a2c46",
   "metadata": {},
   "outputs": [
    {
     "name": "stdout",
     "output_type": "stream",
     "text": [
      "[NbConvertApp] Converting notebook Lecture 3 - Lists.ipynb to script\n",
      "[NbConvertApp] Writing 6969 bytes to Lecture 3 - Lists.py\n"
     ]
    }
   ],
   "source": [
    "!jupyter nbconvert --to script Lecture\\ 3\\ -\\ Lists.ipynb"
   ]
  },
  {
   "cell_type": "code",
   "execution_count": null,
   "id": "69c8454e-38fe-4e5e-9df0-ab15971c367f",
   "metadata": {},
   "outputs": [],
   "source": []
  }
 ],
 "metadata": {
  "celltoolbar": "Raw Cell Format",
  "kernelspec": {
   "display_name": "Python 3 (ipykernel)",
   "language": "python",
   "name": "python3"
  },
  "language_info": {
   "codemirror_mode": {
    "name": "ipython",
    "version": 3
   },
   "file_extension": ".py",
   "mimetype": "text/x-python",
   "name": "python",
   "nbconvert_exporter": "python",
   "pygments_lexer": "ipython3",
   "version": "3.11.2"
  }
 },
 "nbformat": 4,
 "nbformat_minor": 5
}
