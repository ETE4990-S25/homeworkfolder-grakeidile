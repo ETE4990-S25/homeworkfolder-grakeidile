{
 "cells": [
  {
   "cell_type": "markdown",
   "id": "eed8d60f-8121-43ca-8e73-bd508922d2d4",
   "metadata": {},
   "source": [
    "Write a function that takes in a list and will remove those items from another list. You may not use my numbers."
   ]
  },
  {
   "cell_type": "code",
   "execution_count": 13,
   "id": "ee2f35d1-d265-413b-9902-047ad5d95a63",
   "metadata": {},
   "outputs": [
    {
     "name": "stdout",
     "output_type": "stream",
     "text": [
      "this is A list: [1, 6, 3, 1]\n",
      "this is B list before: [1, 2, 3, 4, 5, 6, 7, 8, 9]\n",
      "this is B list: [2, 4, 5, 7, 8, 9]\n",
      "this is B list after: [2, 4, 5, 7, 8, 9]\n"
     ]
    }
   ],
   "source": [
    "#SAMPLE CODE Do not code here"
   ]
  },
  {
   "cell_type": "code",
   "execution_count": null,
   "id": "f0b04266-44e2-4ba7-9159-58290324cde7",
   "metadata": {},
   "outputs": [],
   "source": [
    "#Function goes here\n"
   ]
  },
  {
   "cell_type": "code",
   "execution_count": null,
   "id": "4b72f717-3d60-489f-ad51-15a926fe36c6",
   "metadata": {},
   "outputs": [],
   "source": [
    "#call your function here"
   ]
  },
  {
   "cell_type": "markdown",
   "id": "69b7ff73-e6ec-457e-b24d-0eb269a1effb",
   "metadata": {},
   "source": [
    "Write a function that take in a list and will remove those items from a list WITHOUT changing the origional list. "
   ]
  },
  {
   "cell_type": "code",
   "execution_count": 10,
   "id": "497191e9-5794-4810-84dc-08525ef7ca4a",
   "metadata": {},
   "outputs": [
    {
     "name": "stdout",
     "output_type": "stream",
     "text": [
      "this is A list: [1, 6, 3, 1]\n",
      "this is B list before: [1, 2, 3, 4, 5, 6, 7, 8, 9]\n",
      "this is B list: [2, 4, 5, 7, 8, 9]\n",
      "this is B list after: [1, 2, 3, 4, 5, 6, 7, 8, 9]\n"
     ]
    }
   ],
   "source": [
    "# SAMPLE CODE  DO not code here\n"
   ]
  },
  {
   "cell_type": "code",
   "execution_count": null,
   "id": "ba4be0b9-b082-4d04-9171-e11fb2e6d71a",
   "metadata": {},
   "outputs": [],
   "source": [
    "#Your code goes here"
   ]
  }
 ],
 "metadata": {
  "kernelspec": {
   "display_name": "Python 3 (ipykernel)",
   "language": "python",
   "name": "python3"
  },
  "language_info": {
   "codemirror_mode": {
    "name": "ipython",
    "version": 3
   },
   "file_extension": ".py",
   "mimetype": "text/x-python",
   "name": "python",
   "nbconvert_exporter": "python",
   "pygments_lexer": "ipython3",
   "version": "3.11.2"
  }
 },
 "nbformat": 4,
 "nbformat_minor": 5
}
