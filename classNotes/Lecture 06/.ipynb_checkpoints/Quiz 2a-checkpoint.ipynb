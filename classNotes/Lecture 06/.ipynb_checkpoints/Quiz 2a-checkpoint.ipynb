{
 "cells": [
  {
   "cell_type": "markdown",
   "id": "eed8d60f-8121-43ca-8e73-bd508922d2d4",
   "metadata": {},
   "source": [
    "Write a function that takes in a list and will remove those items from another list. "
   ]
  },
  {
   "cell_type": "code",
   "execution_count": null,
   "id": "eca34682-d31c-44b2-be4e-b9be2a3566d3",
   "metadata": {},
   "outputs": [],
   "source": []
  },
  {
   "cell_type": "code",
   "execution_count": 13,
   "id": "ee2f35d1-d265-413b-9902-047ad5d95a63",
   "metadata": {},
   "outputs": [],
   "source": [
    "def remove_List(aList, bList):\n",
    "    for i in aList:\n",
    "        if i in bList:\n",
    "            bList.remove(i)\n",
    "    print (\"this is B list: \" + str(bList))"
   ]
  },
  {
   "cell_type": "code",
   "execution_count": 14,
   "id": "3a512351-4f6d-4eb0-a0a0-83338d108c39",
   "metadata": {},
   "outputs": [
    {
     "name": "stdout",
     "output_type": "stream",
     "text": [
      "this is A list: [1, 6, 3, 1]\n",
      "this is B list before: [1, 2, 3, 4, 5, 6, 7, 8, 9]\n",
      "this is B list: [2, 4, 5, 7, 8, 9]\n",
      "this is B list after[2, 4, 5, 7, 8, 9]\n"
     ]
    }
   ],
   "source": [
    "a_list = [1,6,3,1]\n",
    "b_list = [*range(1,10,1)]\n",
    "print (\"this is A list: \"+ str(a_list))\n",
    "print(\"this is B list before: \"+ str(b_list))\n",
    "remove_List(a_list,b_list)\n",
    "\n",
    "print (\"this is B list after\" + str(b_list))"
   ]
  },
  {
   "cell_type": "code",
   "execution_count": 15,
   "id": "f0b04266-44e2-4ba7-9159-58290324cde7",
   "metadata": {},
   "outputs": [],
   "source": [
    "#code goes here\n"
   ]
  },
  {
   "cell_type": "code",
   "execution_count": 16,
   "id": "ed63f43e-7d39-4b34-9c8f-21470b85e59f",
   "metadata": {},
   "outputs": [
    {
     "name": "stdout",
     "output_type": "stream",
     "text": [
      "this is A list: [1, 6, 3, 1]\n",
      "this is B list before: [1, 2, 3, 4, 5, 6, 7, 8, 9]\n",
      "this is B list: [2, 4, 5, 7, 8, 9]\n",
      "this is B list after[1, 2, 3, 4, 5, 6, 7, 8, 9]\n"
     ]
    }
   ],
   "source": [
    "a_list = [1,6,3,1]\n",
    "b_list = [*range(1,10,1)]\n",
    "\n",
    "print (\"this is A list: \"+ str(a_list))\n",
    "print(\"this is B list before: \"+ str(b_list))\n",
    "      \n",
    "remove_List(a_list[:],b_list[:])\n",
    "\n",
    "print (\"this is B list after\" + str(b_list))"
   ]
  },
  {
   "cell_type": "code",
   "execution_count": null,
   "id": "14d6bd8f-c7f6-4a07-9f0a-c174200fab51",
   "metadata": {},
   "outputs": [],
   "source": []
  }
 ],
 "metadata": {
  "kernelspec": {
   "display_name": "Python 3 (ipykernel)",
   "language": "python",
   "name": "python3"
  },
  "language_info": {
   "codemirror_mode": {
    "name": "ipython",
    "version": 3
   },
   "file_extension": ".py",
   "mimetype": "text/x-python",
   "name": "python",
   "nbconvert_exporter": "python",
   "pygments_lexer": "ipython3",
   "version": "3.11.2"
  }
 },
 "nbformat": 4,
 "nbformat_minor": 5
}
