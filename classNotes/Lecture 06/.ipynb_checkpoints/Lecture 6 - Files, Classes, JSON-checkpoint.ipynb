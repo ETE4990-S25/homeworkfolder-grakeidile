{
 "cells": [
  {
   "cell_type": "markdown",
   "id": "65f75d29",
   "metadata": {},
   "source": [
    "# Files\n",
    "Files are important to saving data and will make your programs more useful.\n",
    "\n",
    "## Reading a File"
   ]
  },
  {
   "cell_type": "code",
   "execution_count": 3,
   "id": "f4808cfa",
   "metadata": {},
   "outputs": [
    {
     "data": {
      "text/plain": [
       "'b'"
      ]
     },
     "execution_count": 3,
     "metadata": {},
     "output_type": "execute_result"
    }
   ],
   "source": [
    "with open('car_list.txt') as file:\n",
    "    contents = file.read()\n",
    "   # print(contents)\n",
    "contents[6]"
   ]
  },
  {
   "cell_type": "code",
   "execution_count": 4,
   "id": "3b5a2c0f",
   "metadata": {},
   "outputs": [
    {
     "ename": "IndexError",
     "evalue": "list index out of range",
     "output_type": "error",
     "traceback": [
      "\u001b[0;31m---------------------------------------------------------------------------\u001b[0m",
      "\u001b[0;31mIndexError\u001b[0m                                Traceback (most recent call last)",
      "Cell \u001b[0;32mIn[4], line 8\u001b[0m\n\u001b[1;32m      6\u001b[0m    \u001b[38;5;66;03m# print(lines) \u001b[39;00m\n\u001b[1;32m      7\u001b[0m     aList\u001b[38;5;241m.\u001b[39mappend(lines)\n\u001b[0;32m----> 8\u001b[0m \u001b[38;5;28mprint\u001b[39m(\u001b[43maList\u001b[49m\u001b[43m[\u001b[49m\u001b[38;5;241;43m3\u001b[39;49m\u001b[43m]\u001b[49m)\n\u001b[1;32m     10\u001b[0m     \u001b[38;5;66;03m#    aList.append(lines)\u001b[39;00m\n",
      "\u001b[0;31mIndexError\u001b[0m: list index out of range"
     ]
    }
   ],
   "source": [
    "#filename = 'cars.txt' \n",
    "aList=[]\n",
    "filename = 'car_list.txt' \n",
    "with open(filename) as file:\n",
    "    lines = file.readlines()\n",
    "   # print(lines) \n",
    "    aList.append(lines)\n",
    "print(aList[3])\n",
    "\n",
    "    #    aList.append(lines)"
   ]
  },
  {
   "cell_type": "code",
   "execution_count": 5,
   "id": "82a27b15",
   "metadata": {},
   "outputs": [
    {
     "name": "stdout",
     "output_type": "stream",
     "text": [
      "\"Audi\",\n"
     ]
    }
   ],
   "source": [
    "#filename = 'cars.txt'\n",
    "filename = 'car_list.txt' \n",
    "aList = []\n",
    "with open(filename) as file:\n",
    "    lines = file.readlines()\n",
    "    for line in lines:\n",
    "        aList.append(line.strip())\n",
    "print(aList[4])\n",
    "    #\n",
    "    #    aList.append(lines)"
   ]
  },
  {
   "cell_type": "code",
   "execution_count": 35,
   "id": "9247f823",
   "metadata": {},
   "outputs": [
    {
     "data": {
      "text/plain": [
       "'Aston Martin\\n'"
      ]
     },
     "execution_count": 35,
     "metadata": {},
     "output_type": "execute_result"
    }
   ],
   "source": [
    "filename = 'cars.txt'\n",
    "#filename = 'car_list.txt'\n",
    "with open(filename) as file:\n",
    "    lines = [line.rstrip(\"\\n\") for line in file]\n",
    "\"\"\"    for line in file:\n",
    "        lines2 = line.rstrip('\\n')\n",
    "        print(lines2)\"\"\"\n",
    "#print(lines2)\n",
    "lines[2]"
   ]
  },
  {
   "cell_type": "markdown",
   "id": "00f16a1b",
   "metadata": {},
   "source": [
    "The open functions allows us to open the file and access it. The open function needs the name of the file you want to open\n",
    "```python\n",
    "open()\n",
    "```\n",
    "The keyword with closes the file once it is access the information in the file. You could Open() and close() the file if you need to do more with the file. Note: if you do not close a file this could lead to corruption or lost data.\n",
    "```python\n",
    " with\n",
    " close()\n",
    "```\n",
    "Note: The .read() method adds a line at the end of the file. if you do not desire this line use the .rstrip()\n",
    "```python\n",
    "contents = file.read()\n",
    "print(contents.rstrip())\n",
    "```\n",
    "To open a file from a directory other then the current you need to provide a file path. \n",
    "IMPORTANT: Windows uses the backslash(\\) insted of the forward slash (/) \n",
    "```python\n",
    "with open('file_path/filename.txt') as file_object:\n",
    "with open('/home/users/files/filename.txt') as file object\n",
    "with open('C:\\Users\\name\\files\\filename.txt')as file object\n",
    "```"
   ]
  },
  {
   "cell_type": "code",
   "execution_count": 36,
   "id": "435ff122",
   "metadata": {},
   "outputs": [
    {
     "name": "stdout",
     "output_type": "stream",
     "text": [
      "['Abarth', 'Alfa Romeo', 'Aston Martin', 'Audi', 'Bentley', 'BMW', 'Bugatti', 'Cadillac', 'Chevrolet', 'Chrysler', 'Citroën', 'Dacia', 'Daewoo', 'Daihatsu', 'Dodge', 'Donkervoort', 'DS', 'Ferrari', 'Fiat', 'Fisker', 'Ford', 'Honda', 'Hummer', 'Hyundai', 'Infiniti', 'Iveco', 'Jaguar', 'Jeep', 'Kia', 'KTM', 'Lada', 'Lamborghini', 'Lancia', 'Land Rover', 'Landwind', 'Lexus', 'Lotus', 'Maserati', 'Maybach', 'Mazda', 'McLaren', 'Mercedes-Benz', 'MG', 'Mini', 'Mitsubishi', 'Morgan', 'Nissan', 'Opel', 'Peugeot', 'Porsche', 'Renault', 'Rolls-Royce', 'Rover', 'Saab', 'Seat', 'Skoda', 'Smart', 'SsangYong', 'Subaru', 'Suzuki', 'Tesla', 'Toyota', 'Volkswagen', 'Volvo']\n"
     ]
    },
    {
     "data": {
      "text/plain": [
       "'Bentley'"
      ]
     },
     "execution_count": 36,
     "metadata": {},
     "output_type": "execute_result"
    }
   ],
   "source": [
    "import ast\n",
    "\n",
    "with open('car_list.txt', 'r') as f:\n",
    "    mylist = ast.literal_eval(f.read())\n",
    "print(mylist)\n",
    "mylist[4]"
   ]
  },
  {
   "cell_type": "markdown",
   "id": "f0873c17",
   "metadata": {},
   "source": [
    "## Writing to a file\n",
    "### writing to an Empty file"
   ]
  },
  {
   "cell_type": "code",
   "execution_count": 37,
   "id": "d93895f7",
   "metadata": {},
   "outputs": [],
   "source": [
    "filename = 'programing.txt'\n",
    "with open(filename,'w') as f:\n",
    "    f.write(\"TADA!\")\n",
    "    f.write(\"WOW\")"
   ]
  },
  {
   "cell_type": "code",
   "execution_count": 41,
   "id": "d67f6a4e",
   "metadata": {},
   "outputs": [],
   "source": [
    "filename = 'programing.txt'\n",
    "with open(filename,'w') as f:\n",
    "    f.write(\"TADA!\\n\")\n",
    "    f.write(\"WOW\\n\")"
   ]
  },
  {
   "cell_type": "markdown",
   "id": "9871bdfc",
   "metadata": {},
   "source": [
    "### Appending a file"
   ]
  },
  {
   "cell_type": "code",
   "execution_count": 42,
   "id": "45a18585",
   "metadata": {},
   "outputs": [],
   "source": [
    "filename = 'programing.txt'\n",
    "with open(filename, 'a') as f:\n",
    "    f.write(\"now you can see my magic\\n\")"
   ]
  },
  {
   "cell_type": "code",
   "execution_count": null,
   "id": "b16fd223",
   "metadata": {},
   "outputs": [],
   "source": [
    "filename = 'programing.txt'# wont run\n",
    "with open(filename,'a') as f:\n",
    "    for i in range(5):\n",
    "        text = 'line number:' + str(i) + '\\n'\n",
    "        f.write(text)"
   ]
  },
  {
   "cell_type": "code",
   "execution_count": 43,
   "id": "60699dcf",
   "metadata": {},
   "outputs": [],
   "source": [
    "filename = 'programing.txt'\n",
    "with open(filename,'a') as f:\n",
    "    for i in mylist:\n",
    "        f.write(i + '\\n')"
   ]
  },
  {
   "cell_type": "markdown",
   "id": "ee4420f4",
   "metadata": {},
   "source": [
    "# Classes \n",
    "\n",
    "Object-oriented programming the most effective approaches to writing software\n",
    "\n",
    "Classes are the things\n",
    "Objects are what you create from those things\n",
    "\n",
    "\n",
    "An object created from a class is called instantiation. This is called an instances of a class"
   ]
  },
  {
   "cell_type": "code",
   "execution_count": 45,
   "id": "64204642",
   "metadata": {},
   "outputs": [],
   "source": [
    "class Student(object):\n",
    "    \"\"\"Create a simple model of a student\"\"\"\n",
    "    def __init__(self, name, age, gpa):\n",
    "        \"\"\"Initialize name, age, and gpa attributes.\"\"\"\n",
    "        self.name = name\n",
    "        self.age = age\n",
    "        self.gpa = gpa\n",
    "    \n",
    "    def study(self):\n",
    "        \"\"\"Increase GPA due to studying\"\"\"\n",
    "        print(self.name.title() +  ' has now studyed')\n",
    "        self.gpa += 0.1\n",
    "    \n",
    "    def get_older(self):\n",
    "        \"\"\"Age the student\"\"\"\n",
    "        print(self.name.title() + ', It has been a good year')\n",
    "        self.age += 1"
   ]
  },
  {
   "cell_type": "markdown",
   "id": "017de06d",
   "metadata": {},
   "source": [
    " OK there is a lot here so lets take it step by step\n",
    " \n",
    "```python\n",
    "def __init__() # _ _init_ _ () \n",
    "```\n",
    "\n",
    "The ___init___ method is a special method ran when a new instance of a class is created\n",
    "\n",
    "- The self parameter is required, and it must come first. \n",
    "    - Python automaticly passes the self argument.\n",
    "    - Every method in a class passes self, allowing the instance access to the attributes and methods in the class.\n",
    "\n",
    "```python\n",
    "    self.name = name\n",
    "```\n",
    "\n",
    "Any variable self is available to every method in the class think automatic global self.name = name takes the value stored in the parameter (passed value) name and stores it in the variable name (self.name).\n"
   ]
  },
  {
   "cell_type": "code",
   "execution_count": 46,
   "id": "d954606d",
   "metadata": {},
   "outputs": [],
   "source": [
    "billy = Student('billy', 28, 2.6)"
   ]
  },
  {
   "cell_type": "code",
   "execution_count": 48,
   "id": "886d203c-255c-4993-b63f-bc5b250c417c",
   "metadata": {},
   "outputs": [
    {
     "data": {
      "text/plain": [
       "__main__.Student"
      ]
     },
     "execution_count": 48,
     "metadata": {},
     "output_type": "execute_result"
    }
   ],
   "source": [
    "type(billy)"
   ]
  },
  {
   "cell_type": "code",
   "execution_count": 47,
   "id": "da77ea7a",
   "metadata": {},
   "outputs": [
    {
     "data": {
      "text/plain": [
       "'billy'"
      ]
     },
     "execution_count": 47,
     "metadata": {},
     "output_type": "execute_result"
    }
   ],
   "source": [
    "billy.name"
   ]
  },
  {
   "cell_type": "code",
   "execution_count": 49,
   "id": "d5dbe87c",
   "metadata": {},
   "outputs": [
    {
     "name": "stdout",
     "output_type": "stream",
     "text": [
      "Billy has now studyed\n"
     ]
    }
   ],
   "source": [
    "billy.study()"
   ]
  },
  {
   "cell_type": "code",
   "execution_count": 50,
   "id": "00422b9a",
   "metadata": {},
   "outputs": [
    {
     "data": {
      "text/plain": [
       "2.7"
      ]
     },
     "execution_count": 50,
     "metadata": {},
     "output_type": "execute_result"
    }
   ],
   "source": [
    "billy.gpa"
   ]
  },
  {
   "cell_type": "code",
   "execution_count": 51,
   "id": "44015f3f",
   "metadata": {},
   "outputs": [
    {
     "name": "stdout",
     "output_type": "stream",
     "text": [
      "Billy, It has been a good year\n"
     ]
    }
   ],
   "source": [
    "billy.get_older()"
   ]
  },
  {
   "cell_type": "code",
   "execution_count": 52,
   "id": "84c68ceb",
   "metadata": {},
   "outputs": [],
   "source": [
    "tod = Student('tod', 45, 3.7)"
   ]
  },
  {
   "cell_type": "code",
   "execution_count": 53,
   "id": "39a6f031",
   "metadata": {},
   "outputs": [
    {
     "data": {
      "text/plain": [
       "'tod'"
      ]
     },
     "execution_count": 53,
     "metadata": {},
     "output_type": "execute_result"
    }
   ],
   "source": [
    "tod.name"
   ]
  },
  {
   "cell_type": "markdown",
   "id": "3897da40",
   "metadata": {},
   "source": [
    "    Just like a variable you can change the instance's values"
   ]
  },
  {
   "cell_type": "code",
   "execution_count": 54,
   "id": "e92165f1",
   "metadata": {},
   "outputs": [],
   "source": [
    "tod.age = 12"
   ]
  },
  {
   "cell_type": "code",
   "execution_count": 55,
   "id": "8e92fda3",
   "metadata": {},
   "outputs": [
    {
     "data": {
      "text/plain": [
       "12"
      ]
     },
     "execution_count": 55,
     "metadata": {},
     "output_type": "execute_result"
    }
   ],
   "source": [
    "tod.age"
   ]
  },
  {
   "cell_type": "markdown",
   "id": "3c702508",
   "metadata": {},
   "source": [
    "Say we do not want to allow a user to just change the value we have something called a getter and a setter methods"
   ]
  },
  {
   "cell_type": "code",
   "execution_count": 33,
   "id": "ac0963ba",
   "metadata": {},
   "outputs": [],
   "source": [
    "class Student(object):\n",
    "    \"\"\"Create a simple model of a student\"\"\"\n",
    "    def __init__(self, name, age, gpa):\n",
    "        \"\"\"Initialize name, age, and gpa attributes.\"\"\"\n",
    "        self.name = name\n",
    "        self._age = age\n",
    "        self.gpa = gpa\n",
    "    \n",
    "    def study(self):\n",
    "        \"\"\"Increase GPA due to studying\"\"\"\n",
    "        print(self.name.title() +  ' has now studyed')\n",
    "        self.gpa += 0.1\n",
    "    \n",
    "    def get_older(self):\n",
    "        \"\"\"Age the student\"\"\"\n",
    "        print(self.name.title() + ', It has been a good year')\n",
    "        self._age += 1\n",
    "        \n",
    "    @property #this is a property of the object\n",
    "    def age(self):\n",
    "        print('Getting value')\n",
    "        return self._age\n",
    " \n",
    "    # setting the values\n",
    "    @age.setter\n",
    "    def student_age(self, value):\n",
    "        print('Setting age to ' + str(value))\n",
    "        self._age = value #underscore is just consitered private."
   ]
  },
  {
   "cell_type": "code",
   "execution_count": 34,
   "id": "8265f4b0",
   "metadata": {},
   "outputs": [],
   "source": [
    "tod = Student('tod', 45, 3.7)"
   ]
  },
  {
   "cell_type": "code",
   "execution_count": 35,
   "id": "31e7859d",
   "metadata": {
    "scrolled": true
   },
   "outputs": [
    {
     "name": "stdout",
     "output_type": "stream",
     "text": [
      "Tod, It has been a good year\n"
     ]
    }
   ],
   "source": [
    "tod.get_older()"
   ]
  },
  {
   "cell_type": "code",
   "execution_count": 36,
   "id": "84b520d4",
   "metadata": {},
   "outputs": [
    {
     "name": "stdout",
     "output_type": "stream",
     "text": [
      "Getting value\n"
     ]
    },
    {
     "data": {
      "text/plain": [
       "46"
      ]
     },
     "execution_count": 36,
     "metadata": {},
     "output_type": "execute_result"
    }
   ],
   "source": [
    "tod.student_age"
   ]
  },
  {
   "cell_type": "code",
   "execution_count": 37,
   "id": "a5271ddf",
   "metadata": {},
   "outputs": [
    {
     "ename": "SyntaxError",
     "evalue": "invalid syntax (2217142854.py, line 1)",
     "output_type": "error",
     "traceback": [
      "\u001b[0;36m  Cell \u001b[0;32mIn[37], line 1\u001b[0;36m\u001b[0m\n\u001b[0;31m    tod.\u001b[0m\n\u001b[0m        ^\u001b[0m\n\u001b[0;31mSyntaxError\u001b[0m\u001b[0;31m:\u001b[0m invalid syntax\n"
     ]
    }
   ],
   "source": [
    "tod."
   ]
  },
  {
   "cell_type": "code",
   "execution_count": 38,
   "id": "f1de3e75",
   "metadata": {},
   "outputs": [
    {
     "name": "stdout",
     "output_type": "stream",
     "text": [
      "Getting value\n"
     ]
    },
    {
     "data": {
      "text/plain": [
       "46"
      ]
     },
     "execution_count": 38,
     "metadata": {},
     "output_type": "execute_result"
    }
   ],
   "source": [
    "tod.student_age"
   ]
  },
  {
   "cell_type": "code",
   "execution_count": 39,
   "id": "b9a25407",
   "metadata": {},
   "outputs": [
    {
     "name": "stdout",
     "output_type": "stream",
     "text": [
      "Getting value\n"
     ]
    },
    {
     "data": {
      "text/plain": [
       "46"
      ]
     },
     "execution_count": 39,
     "metadata": {},
     "output_type": "execute_result"
    }
   ],
   "source": [
    "tod.age"
   ]
  },
  {
   "cell_type": "code",
   "execution_count": 40,
   "id": "913ba4eb",
   "metadata": {},
   "outputs": [
    {
     "data": {
      "text/plain": [
       "46"
      ]
     },
     "execution_count": 40,
     "metadata": {},
     "output_type": "execute_result"
    }
   ],
   "source": [
    "tod._age"
   ]
  },
  {
   "cell_type": "markdown",
   "id": "2ba950b7",
   "metadata": {},
   "source": [
    "# Inheritance\n",
    "    Inheritance is when one class inherits all the attributes and methods from the class before it\n",
    "    this is allso called a child class"
   ]
  },
  {
   "cell_type": "code",
   "execution_count": 66,
   "id": "7fbbf7cf",
   "metadata": {},
   "outputs": [],
   "source": [
    "class BadStudent():\n",
    "    \"\"\" represents the aspects of a student but specific to a bad student\"\"\"\n",
    "    def __init__(self, name, age, gpa, probation):\n",
    "        \"\"\"Initialize attributes of the parent class\"\"\"\n",
    "        super().__init__(name, age, gpa)\n",
    "        self._probation = probation"
   ]
  },
  {
   "cell_type": "code",
   "execution_count": 67,
   "id": "47f84cb2",
   "metadata": {},
   "outputs": [],
   "source": [
    "class VeryBad(Student, BadStudent):\n",
    "    def __init__(self, name, age, gpa, probation):\n",
    "        print('stuff')"
   ]
  },
  {
   "cell_type": "code",
   "execution_count": 69,
   "id": "12660b11",
   "metadata": {},
   "outputs": [
    {
     "ename": "TypeError",
     "evalue": "object.__init__() takes exactly one argument (the instance to initialize)",
     "output_type": "error",
     "traceback": [
      "\u001b[0;31m---------------------------------------------------------------------------\u001b[0m",
      "\u001b[0;31mTypeError\u001b[0m                                 Traceback (most recent call last)",
      "Cell \u001b[0;32mIn[69], line 1\u001b[0m\n\u001b[0;32m----> 1\u001b[0m bill \u001b[38;5;241m=\u001b[39m \u001b[43mBadStudent\u001b[49m\u001b[43m(\u001b[49m\u001b[38;5;124;43m'\u001b[39;49m\u001b[38;5;124;43mbill\u001b[39;49m\u001b[38;5;124;43m'\u001b[39;49m\u001b[43m,\u001b[49m\u001b[43m \u001b[49m\u001b[38;5;241;43m12\u001b[39;49m\u001b[43m,\u001b[49m\u001b[43m \u001b[49m\u001b[38;5;241;43m1.0\u001b[39;49m\u001b[43m,\u001b[49m\u001b[43m \u001b[49m\u001b[38;5;28;43;01mTrue\u001b[39;49;00m\u001b[43m)\u001b[49m \n\u001b[1;32m      2\u001b[0m \u001b[38;5;66;03m# what do we need to change from bad student to make this work\u001b[39;00m\n",
      "Cell \u001b[0;32mIn[66], line 5\u001b[0m, in \u001b[0;36mBadStudent.__init__\u001b[0;34m(self, name, age, gpa, probation)\u001b[0m\n\u001b[1;32m      3\u001b[0m \u001b[38;5;28;01mdef\u001b[39;00m \u001b[38;5;21m__init__\u001b[39m(\u001b[38;5;28mself\u001b[39m, name, age, gpa, probation):\n\u001b[1;32m      4\u001b[0m \u001b[38;5;250m    \u001b[39m\u001b[38;5;124;03m\"\"\"Initialize attributes of the parent class\"\"\"\u001b[39;00m\n\u001b[0;32m----> 5\u001b[0m     \u001b[38;5;28;43msuper\u001b[39;49m\u001b[43m(\u001b[49m\u001b[43m)\u001b[49m\u001b[38;5;241;43m.\u001b[39;49m\u001b[38;5;21;43m__init__\u001b[39;49m\u001b[43m(\u001b[49m\u001b[43mname\u001b[49m\u001b[43m,\u001b[49m\u001b[43m \u001b[49m\u001b[43mage\u001b[49m\u001b[43m,\u001b[49m\u001b[43m \u001b[49m\u001b[43mgpa\u001b[49m\u001b[43m)\u001b[49m\n\u001b[1;32m      6\u001b[0m     \u001b[38;5;28mself\u001b[39m\u001b[38;5;241m.\u001b[39m_probation \u001b[38;5;241m=\u001b[39m probation\n",
      "\u001b[0;31mTypeError\u001b[0m: object.__init__() takes exactly one argument (the instance to initialize)"
     ]
    }
   ],
   "source": [
    "bill = BadStudent('bill', 12, 1.0, True) \n",
    "# what do we need to change from bad student to make this work"
   ]
  },
  {
   "cell_type": "code",
   "execution_count": 64,
   "id": "bf455d6f-5c35-40e0-b33f-3786efaf74ec",
   "metadata": {},
   "outputs": [
    {
     "name": "stdout",
     "output_type": "stream",
     "text": [
      "stuff\n"
     ]
    }
   ],
   "source": [
    "bill = VeryBad('bill', 12, 1.0, True)"
   ]
  },
  {
   "cell_type": "code",
   "execution_count": 65,
   "id": "981932b7",
   "metadata": {},
   "outputs": [
    {
     "ename": "AttributeError",
     "evalue": "'VeryBad' object has no attribute 'name'",
     "output_type": "error",
     "traceback": [
      "\u001b[0;31m---------------------------------------------------------------------------\u001b[0m",
      "\u001b[0;31mAttributeError\u001b[0m                            Traceback (most recent call last)",
      "Cell \u001b[0;32mIn[65], line 1\u001b[0m\n\u001b[0;32m----> 1\u001b[0m \u001b[43mbill\u001b[49m\u001b[38;5;241;43m.\u001b[39;49m\u001b[43mget_older\u001b[49m\u001b[43m(\u001b[49m\u001b[43m)\u001b[49m\n",
      "Cell \u001b[0;32mIn[33], line 16\u001b[0m, in \u001b[0;36mStudent.get_older\u001b[0;34m(self)\u001b[0m\n\u001b[1;32m     14\u001b[0m \u001b[38;5;28;01mdef\u001b[39;00m \u001b[38;5;21mget_older\u001b[39m(\u001b[38;5;28mself\u001b[39m):\n\u001b[1;32m     15\u001b[0m \u001b[38;5;250m    \u001b[39m\u001b[38;5;124;03m\"\"\"Age the student\"\"\"\u001b[39;00m\n\u001b[0;32m---> 16\u001b[0m     \u001b[38;5;28mprint\u001b[39m(\u001b[38;5;28;43mself\u001b[39;49m\u001b[38;5;241;43m.\u001b[39;49m\u001b[43mname\u001b[49m\u001b[38;5;241m.\u001b[39mtitle() \u001b[38;5;241m+\u001b[39m \u001b[38;5;124m'\u001b[39m\u001b[38;5;124m, It has been a good year\u001b[39m\u001b[38;5;124m'\u001b[39m)\n\u001b[1;32m     17\u001b[0m     \u001b[38;5;28mself\u001b[39m\u001b[38;5;241m.\u001b[39m_age \u001b[38;5;241m+\u001b[39m\u001b[38;5;241m=\u001b[39m \u001b[38;5;241m1\u001b[39m\n",
      "\u001b[0;31mAttributeError\u001b[0m: 'VeryBad' object has no attribute 'name'"
     ]
    }
   ],
   "source": [
    "bill.get_older()"
   ]
  },
  {
   "cell_type": "code",
   "execution_count": 54,
   "id": "3e1d9e75",
   "metadata": {},
   "outputs": [
    {
     "ename": "AttributeError",
     "evalue": "'VeryBad' object has no attribute '_probation'",
     "output_type": "error",
     "traceback": [
      "\u001b[0;31m---------------------------------------------------------------------------\u001b[0m",
      "\u001b[0;31mAttributeError\u001b[0m                            Traceback (most recent call last)",
      "Cell \u001b[0;32mIn[54], line 1\u001b[0m\n\u001b[0;32m----> 1\u001b[0m \u001b[43mbill\u001b[49m\u001b[38;5;241;43m.\u001b[39;49m\u001b[43m_probation\u001b[49m\n",
      "\u001b[0;31mAttributeError\u001b[0m: 'VeryBad' object has no attribute '_probation'"
     ]
    }
   ],
   "source": [
    "bill._probation"
   ]
  },
  {
   "cell_type": "markdown",
   "id": "c4e6cd4d",
   "metadata": {},
   "source": [
    "To inherit you must first name the function nd then add the parent class in parentheses\n",
    "```python\n",
    "class ChildClass(ParentClass):\n",
    "```\n",
    "The super function is a special function that connects the parent and the child together. And gathers all the information needed to create a student. \n",
    "```python\n",
    "super().__init()__(propertes, of, parent)\n",
    "```"
   ]
  },
  {
   "cell_type": "code",
   "execution_count": 84,
   "id": "64aa9081",
   "metadata": {},
   "outputs": [],
   "source": [
    "class BadStudent(Student):\n",
    "    \"\"\" represents the aspects of a student but specific to a bad student\"\"\"\n",
    "    def __init__(self, name, age, gpa, probation):\n",
    "        \"\"\"Initialize attributes of the parent class\"\"\"\n",
    "        super().__init__(name, age, gpa)\n",
    "        self._probation = probation\n",
    "\n",
    "    def get_older(self):\n",
    "        print(\"this student is on probation and cant get older\")"
   ]
  },
  {
   "cell_type": "code",
   "execution_count": 85,
   "id": "6828a653",
   "metadata": {},
   "outputs": [
    {
     "name": "stdout",
     "output_type": "stream",
     "text": [
      "this student is on probation and cant get older\n"
     ]
    }
   ],
   "source": [
    "bill = BadStudent('bill', 12, 1.0, True)\n",
    "bill.get_older()"
   ]
  },
  {
   "cell_type": "markdown",
   "id": "f334ad04",
   "metadata": {},
   "source": [
    "As you continue to code your will notices at times your classes are becoming more lengthy. When you recognize this it will be benifital to brake up a class into two classes. As a side effect Breaking code up into other classes also helps with protecting values as well"
   ]
  },
  {
   "cell_type": "code",
   "execution_count": 116,
   "id": "be1251c6",
   "metadata": {},
   "outputs": [],
   "source": [
    "class WorseStudent():\n",
    "    \"\"\"represents a student that is worse than a bad student\"\"\"\n",
    "    def __init__(self, wait_time):\n",
    "        \"\"\"set the attendence of a worse student\"\"\"\n",
    "        self.wait_time = wait_time\n",
    "    \n",
    "    def probationary_period(self):\n",
    "        \n",
    "        if self.wait_time == 0:\n",
    "            self._probation = False\n",
    "            print('this student is not probation')\n",
    "        else:\n",
    "            self._probation = True\n",
    "            print('this student is in probation')\n",
    "            \n",
    "        \n",
    "        \n",
    "class BadStudent(Student):\n",
    "    \"\"\" represents the aspects of a student but specific to a bad student\"\"\"\n",
    "    def __init__(self, name, age, gpa, probation):\n",
    "        \"\"\"Initialize attributes of the parent class\"\"\"\n",
    "        super().__init__(name, age, gpa)\n",
    "        if probation:\n",
    "            self._probation = WorseStudent(3)\n",
    "        else:\n",
    "            self._probation = WorseStudent(0)\n",
    "        \n",
    "        "
   ]
  },
  {
   "cell_type": "code",
   "execution_count": 98,
   "id": "90982199",
   "metadata": {},
   "outputs": [],
   "source": [
    "bill = BadStudent('bill', 12, 1.0, True)"
   ]
  },
  {
   "cell_type": "code",
   "execution_count": 99,
   "id": "8c5f8074",
   "metadata": {},
   "outputs": [
    {
     "data": {
      "text/plain": [
       "'bill'"
      ]
     },
     "execution_count": 99,
     "metadata": {},
     "output_type": "execute_result"
    }
   ],
   "source": [
    "bill.name"
   ]
  },
  {
   "cell_type": "code",
   "execution_count": 112,
   "id": "0f59d87d",
   "metadata": {},
   "outputs": [
    {
     "ename": "AttributeError",
     "evalue": "'BadStudent' object has no attribute 'wait_time'",
     "output_type": "error",
     "traceback": [
      "\u001b[0;31m---------------------------------------------------------------------------\u001b[0m",
      "\u001b[0;31mAttributeError\u001b[0m                            Traceback (most recent call last)",
      "Cell \u001b[0;32mIn[112], line 1\u001b[0m\n\u001b[0;32m----> 1\u001b[0m \u001b[43mbill\u001b[49m\u001b[38;5;241;43m.\u001b[39;49m\u001b[43mwait_time\u001b[49m\n\u001b[1;32m      2\u001b[0m \u001b[38;5;66;03m#why does this not work BadStudent has self.wait_time = wait_time in its init\u001b[39;00m\n",
      "\u001b[0;31mAttributeError\u001b[0m: 'BadStudent' object has no attribute 'wait_time'"
     ]
    }
   ],
   "source": [
    "bill.wait_time\n",
    "#why does this not work BadStudent has self.wait_time = wait_time in its init"
   ]
  },
  {
   "cell_type": "code",
   "execution_count": 119,
   "id": "e4c23eea",
   "metadata": {},
   "outputs": [
    {
     "name": "stdout",
     "output_type": "stream",
     "text": [
      "this student is in probation\n",
      "this student is not probation\n"
     ]
    }
   ],
   "source": [
    "bill = BadStudent('bill', 12, 1.0, False)\n",
    "bill._probation\n",
    "bill._probation.probationary_period()\n"
   ]
  },
  {
   "cell_type": "markdown",
   "id": "2ffedc4b",
   "metadata": {},
   "source": [
    "I know this is a strech with student but I started with it so I am going to keep it going."
   ]
  },
  {
   "cell_type": "markdown",
   "id": "dffc1745",
   "metadata": {},
   "source": [
    "Like before importing a class is the same as importing a module\n",
    "```python\n",
    "from file_name import class\n",
    "````\n",
    "\n",
    "Note: You can store as many classes in a single module, but it is convention to ensure those classes are related somehow"
   ]
  },
  {
   "cell_type": "markdown",
   "id": "04abcc68",
   "metadata": {},
   "source": [
    "Importaing Multiple classes from a module\n",
    "```python\n",
    "from file_name import class1, class2\n",
    "```\n",
    "\n",
    "Importing an Entire Module\n",
    "```python\n",
    "import file_name\n",
    "```\n",
    "\n",
    "importing All Classes from a module\n",
    "```python\n",
    "import module_name import *\n",
    "```"
   ]
  },
  {
   "cell_type": "markdown",
   "id": "c0b6d50c",
   "metadata": {},
   "source": [
    "## Styling classes\n",
    "\n",
    "- Class names should be written in CamelCaps. \n",
    "\n",
    "\n",
    "- Every class should have a docstring. The docstring should be a brief description\n",
    "    - Each module should also have a docstring describing what the classes in a module can be used for.\n",
    "\n",
    "\n",
    "- You can use blank lines to organize code, but don’t use them excessively. \n",
    "    - Use one blank line between methods\n",
    "    - Use two blank lines to separate classes.\n",
    "\n",
    "\n",
    "- When importing a modules  \n",
    "    - Place the import statement for the standard library first. \n",
    "        - Note: A standard library are the librarys built into python\n",
    "    - Then add a blank line and the import statement for the module you wrote."
   ]
  },
  {
   "cell_type": "markdown",
   "id": "5d80cc5b",
   "metadata": {},
   "source": [
    "# Storing Data\n",
    "There are many ways we can store data in Python. Besides writing to a log.txt we can up our game and store it to a JSON file.\n",
    "\n",
    "JSON stands for JavaScript Object Notation\n",
    "\n",
    "\n",
    "JSON is a standard text-based format for representing structured data based on JavaScript object syntax. It is commonly used for transmitting data in web applications (e.g., sending some data from the server to the client, so it can be displayed on a web page, or vice versa)\n",
    "\n",
    "- JSON exists as a string\n",
    "- Has a structure \n",
    "- Can be stored in its own file\n",
    "- Can include:\n",
    "    - strings\n",
    "    - numbers\n",
    "    - arrays\n",
    "    - booleans\n",
    "    - object literals\n",
    "    \n",
    "\n",
    "    The json module allows you to dump simple Python data structures into a file and load the data from that file the next time the program runs."
   ]
  },
  {
   "cell_type": "code",
   "execution_count": null,
   "id": "63eec39d",
   "metadata": {},
   "outputs": [],
   "source": [
    "import json\n",
    "\n",
    "numbers = [2, 3, 5, 7, 11, 13]\n",
    "filename = 'numbers.json'\n",
    "with open(filename, 'w') as f: #same as before\n",
    "    json.dump(numbers, f)\n",
    "\n"
   ]
  },
  {
   "cell_type": "markdown",
   "id": "bfd6217c",
   "metadata": {},
   "source": [
    "json.dump() is a function to store the list numbers in the file numbers.json."
   ]
  },
  {
   "cell_type": "code",
   "execution_count": null,
   "id": "3fd8c703",
   "metadata": {},
   "outputs": [],
   "source": [
    "import json\n",
    "\n",
    "file_name = 'numbers.json' \n",
    "with open(filename) as f: #same as before\n",
    "    numbers = json.load(f)\n",
    "\n",
    "print(numbers)"
   ]
  },
  {
   "cell_type": "markdown",
   "id": "a9ba3c9a",
   "metadata": {},
   "source": [
    "json.load() function to load the information stored in numbers.json, and we store it in the variable numbers."
   ]
  },
  {
   "cell_type": "markdown",
   "id": "5715c126",
   "metadata": {},
   "source": [
    "# Saving and Reading User-Generated Data"
   ]
  },
  {
   "cell_type": "code",
   "execution_count": null,
   "id": "edac750a",
   "metadata": {},
   "outputs": [],
   "source": [
    "name = input(\"What is your name? \")\n",
    "filename = 'username.json'\n",
    "with open(filename, 'w') as f:\n",
    "    json.dump(name, f)\n",
    "    print(\"We'll remember you when you come back, \" + name + \"!\")"
   ]
  },
  {
   "cell_type": "code",
   "execution_count": null,
   "id": "c22b39ed",
   "metadata": {},
   "outputs": [],
   "source": [
    "filename = 'username.json'\n",
    "\n",
    "with open(filename) as f:\n",
    "    username = json.load(f)\n",
    "    print(\"Welcome back, \" + username + \"!\")"
   ]
  },
  {
   "cell_type": "markdown",
   "id": "b428ee80",
   "metadata": {},
   "source": [
    "Lets combine everything"
   ]
  },
  {
   "cell_type": "code",
   "execution_count": null,
   "id": "36dc1d52",
   "metadata": {},
   "outputs": [],
   "source": [
    "def my_name():\n",
    "    \"\"\"Prompt user for there name and then return it.\"\"\"\n",
    "    import json\n",
    "    \n",
    "    filename = 'username.json'\n",
    "    \n",
    "    try: # try to open the file create new file if not found\n",
    "        with open(filename) as f:\n",
    "            username = json.load(f)\n",
    "    except FileNotFoundError: #if file is not found prompt user and save file.\n",
    "        username = input(\"What is your name? \")\n",
    "        with open(filename, 'w') as f:\n",
    "            json.dump(username, f)\n",
    "            print(\"We'll remember you when you come back, \" + username + \"!\")\n",
    "    else:\n",
    "        print(\"Welcome back, \" + username + \"!\")"
   ]
  },
  {
   "cell_type": "code",
   "execution_count": null,
   "id": "f41e2266",
   "metadata": {},
   "outputs": [],
   "source": [
    "my_name()"
   ]
  },
  {
   "cell_type": "markdown",
   "id": "5e747263",
   "metadata": {},
   "source": [
    " ## Key Words\n",
    "- Serialization: The process of encoding JSON\n",
    "    - This term refers to the transformation of data into a series of bytes (hence serial) to be stored or transmitted across a network. \n",
    "\n",
    "- Deserialization: The process of decoding data that has been stored or delivered in the JSON standard. "
   ]
  },
  {
   "cell_type": "markdown",
   "id": "8b5b1092",
   "metadata": {},
   "source": [
    "## Lets do some work with JSON"
   ]
  },
  {
   "cell_type": "code",
   "execution_count": null,
   "id": "7cd06f29",
   "metadata": {},
   "outputs": [],
   "source": [
    "with open('superheros.json') as f:\n",
    "    superheros = json.load(f)\n",
    "print(superheros)"
   ]
  },
  {
   "cell_type": "code",
   "execution_count": null,
   "id": "e69ff305",
   "metadata": {},
   "outputs": [],
   "source": [
    "with open('superheros.json') as f:\n",
    "    superheros = json.load(f)\n",
    "print(json.dumps(superheros, indent=2))"
   ]
  },
  {
   "cell_type": "code",
   "execution_count": null,
   "id": "7c6fdec5",
   "metadata": {},
   "outputs": [],
   "source": [
    "for item in superheros:\n",
    "    print(item[\"superhero\"])\n"
   ]
  },
  {
   "cell_type": "code",
   "execution_count": null,
   "id": "a0c9b774",
   "metadata": {},
   "outputs": [],
   "source": [
    "with open('donuts.json') as f:\n",
    "    food = json.load(f)"
   ]
  },
  {
   "cell_type": "code",
   "execution_count": null,
   "id": "1f12d405",
   "metadata": {},
   "outputs": [],
   "source": [
    "print(json.dumps(food, indent=2))"
   ]
  },
  {
   "cell_type": "code",
   "execution_count": null,
   "id": "2551735e",
   "metadata": {},
   "outputs": [],
   "source": [
    "for items in food:\n",
    "    for item in items['batters']['batter']:\n",
    "        print(item['type'])"
   ]
  },
  {
   "cell_type": "code",
   "execution_count": null,
   "id": "d1a087a5",
   "metadata": {},
   "outputs": [],
   "source": []
  },
  {
   "cell_type": "code",
   "execution_count": null,
   "id": "24c4b05d",
   "metadata": {},
   "outputs": [],
   "source": []
  },
  {
   "cell_type": "markdown",
   "id": "27fc8244",
   "metadata": {},
   "source": []
  },
  {
   "cell_type": "code",
   "execution_count": null,
   "id": "e86ab956",
   "metadata": {},
   "outputs": [],
   "source": []
  },
  {
   "cell_type": "code",
   "execution_count": null,
   "id": "bee751a0",
   "metadata": {},
   "outputs": [],
   "source": []
  }
 ],
 "metadata": {
  "kernelspec": {
   "display_name": "Python 3 (ipykernel)",
   "language": "python",
   "name": "python3"
  },
  "language_info": {
   "codemirror_mode": {
    "name": "ipython",
    "version": 3
   },
   "file_extension": ".py",
   "mimetype": "text/x-python",
   "name": "python",
   "nbconvert_exporter": "python",
   "pygments_lexer": "ipython3",
   "version": "3.11.2"
  }
 },
 "nbformat": 4,
 "nbformat_minor": 5
}
