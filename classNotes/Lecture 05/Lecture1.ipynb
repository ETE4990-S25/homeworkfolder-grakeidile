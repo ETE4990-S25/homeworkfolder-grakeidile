{
 "cells": [
  {
   "cell_type": "code",
   "execution_count": 8,
   "id": "d73cad45",
   "metadata": {},
   "outputs": [
    {
     "name": "stdout",
     "output_type": "stream",
     "text": [
      "hi\n"
     ]
    }
   ],
   "source": [
    "if 1 < 2:\n",
    "        a=1\n",
    "print(\"hi\")"
   ]
  },
  {
   "cell_type": "code",
   "execution_count": 15,
   "id": "7de0a408",
   "metadata": {},
   "outputs": [
    {
     "name": "stdout",
     "output_type": "stream",
     "text": [
      "No number is greater than 0\n"
     ]
    }
   ],
   "source": [
    "a = -10\n",
    "b = -12\n",
    "if a > 0 and  b > 0:\n",
    "    print(\"the numbers are greater than 0\")\n",
    "elif a > 0 or b > 0:\n",
    "    print(\"ONe fo the nubeers is greater than 0\")\n",
    "else:\n",
    "    print(\"No number is greater than 0\")\n"
   ]
  },
  {
   "cell_type": "code",
   "execution_count": 17,
   "id": "41c18375",
   "metadata": {},
   "outputs": [
    {
     "name": "stdout",
     "output_type": "stream",
     "text": [
      "10\n"
     ]
    }
   ],
   "source": [
    "a=10\n",
    "b=10\n",
    "if a == b:\n",
    "    a=7\n",
    "print(b)"
   ]
  },
  {
   "cell_type": "code",
   "execution_count": 2,
   "id": "76840bb8",
   "metadata": {},
   "outputs": [],
   "source": [
    "def numbers():\n",
    "    number = int(input(\"enter a number from 1 to 10.\"))\n",
    "    if number > 10:\n",
    "        print(\"your number is to big\")\n",
    "    else:\n",
    "        if number <= 10:\n",
    "            print(\"your number is less than or equal to 10\")"
   ]
  }
 ],
 "metadata": {
  "kernelspec": {
   "display_name": "Python 3 (ipykernel)",
   "language": "python",
   "name": "python3"
  },
  "language_info": {
   "codemirror_mode": {
    "name": "ipython",
    "version": 3
   },
   "file_extension": ".py",
   "mimetype": "text/x-python",
   "name": "python",
   "nbconvert_exporter": "python",
   "pygments_lexer": "ipython3",
   "version": "3.11.2"
  }
 },
 "nbformat": 4,
 "nbformat_minor": 5
}
