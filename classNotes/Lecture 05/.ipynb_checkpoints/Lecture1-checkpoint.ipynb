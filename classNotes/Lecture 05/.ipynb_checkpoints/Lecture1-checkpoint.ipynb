{
 "cells": [
  {
   "cell_type": "code",
   "execution_count": 8,
   "id": "d73cad45",
   "metadata": {},
   "outputs": [
    {
     "name": "stdout",
     "output_type": "stream",
     "text": [
      "hi\n"
     ]
    }
   ],
   "source": [
    "if 1 < 2:\n",
    "        a=1\n",
    "print(\"hi\")"
   ]
  },
  {
   "cell_type": "code",
   "execution_count": 15,
   "id": "7de0a408",
   "metadata": {},
   "outputs": [
    {
     "name": "stdout",
     "output_type": "stream",
     "text": [
      "No number is greater than 0\n"
     ]
    }
   ],
   "source": [
    "a = -10\n",
    "b = -12\n",
    "if a > 0 and  b > 0:\n",
    "    print(\"the numbers are greater than 0\")\n",
    "elif a > 0 or b > 0:\n",
    "    print(\"ONe fo the nubeers is greater than 0\")\n",
    "else:\n",
    "    print(\"No number is greater than 0\")\n"
   ]
  },
  {
   "cell_type": "code",
   "execution_count": 17,
   "id": "41c18375",
   "metadata": {},
   "outputs": [
    {
     "name": "stdout",
     "output_type": "stream",
     "text": [
      "10\n"
     ]
    }
   ],
   "source": [
    "a=10\n",
    "b=10\n",
    "if a == b:\n",
    "    a=7\n",
    "print(b)"
   ]
  },
  {
   "cell_type": "code",
   "execution_count": 18,
   "id": "7550f1fd",
   "metadata": {},
   "outputs": [
    {
     "ename": "SyntaxError",
     "evalue": "invalid syntax (3641918804.py, line 1)",
     "output_type": "error",
     "traceback": [
      "\u001b[0;36m  File \u001b[0;32m\"/var/folders/6c/phtqtltd4wn1pydbmzp55knr0000gp/T/ipykernel_8629/3641918804.py\"\u001b[0;36m, line \u001b[0;32m1\u001b[0m\n\u001b[0;31m    ==\u001b[0m\n\u001b[0m    ^\u001b[0m\n\u001b[0;31mSyntaxError\u001b[0m\u001b[0;31m:\u001b[0m invalid syntax\n"
     ]
    }
   ],
   "source": [
    "'''==\n",
    "!=\n",
    ">\n",
    "<\n",
    ">=\n",
    "<=\n",
    "\n",
    "and\n",
    "or \n",
    "not\n",
    "'''"
   ]
  },
  {
   "cell_type": "code",
   "execution_count": 19,
   "id": "195b99e6",
   "metadata": {},
   "outputs": [
    {
     "ename": "SyntaxError",
     "evalue": "invalid syntax (551997379.py, line 1)",
     "output_type": "error",
     "traceback": [
      "\u001b[0;36m  File \u001b[0;32m\"/var/folders/6c/phtqtltd4wn1pydbmzp55knr0000gp/T/ipykernel_8629/551997379.py\"\u001b[0;36m, line \u001b[0;32m1\u001b[0m\n\u001b[0;31m    >\u001b[0m\n\u001b[0m    ^\u001b[0m\n\u001b[0;31mSyntaxError\u001b[0m\u001b[0;31m:\u001b[0m invalid syntax\n"
     ]
    }
   ],
   "source": [
    "'''>\n",
    "<'''"
   ]
  },
  {
   "cell_type": "code",
   "execution_count": 2,
   "id": "76840bb8",
   "metadata": {},
   "outputs": [],
   "source": [
    "def numbers():\n",
    "    number = int(input(\"enter a number from 1 to 10.\"))\n",
    "    if number > 10:\n",
    "        print(\"your number is to big\")\n",
    "    else:\n",
    "        if number <= 10:\n",
    "            print(\"your number is less than or equal to 10\")"
   ]
  }
 ],
 "metadata": {
  "kernelspec": {
   "display_name": "Python 3 (ipykernel)",
   "language": "python",
   "name": "python3"
  },
  "language_info": {
   "codemirror_mode": {
    "name": "ipython",
    "version": 3
   },
   "file_extension": ".py",
   "mimetype": "text/x-python",
   "name": "python",
   "nbconvert_exporter": "python",
   "pygments_lexer": "ipython3",
   "version": "3.9.13"
  }
 },
 "nbformat": 4,
 "nbformat_minor": 5
}
