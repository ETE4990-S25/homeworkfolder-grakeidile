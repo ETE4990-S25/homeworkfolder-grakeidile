{
 "cells": [
  {
   "cell_type": "markdown",
   "id": "aeb29d97",
   "metadata": {},
   "source": [
    "## Functions\n",
    "\n",
    "    A function is a block of code that is designed to do one specific job. \n",
    "    \n",
    "    It is important that your functions are not overly complicated to ensure there reusability. \n",
    "    \n",
    "    To us a function you call on it by the name of the function. \n",
    "    \n",
    "    Functions are a critical part of codeing. Fucntions allow your code to be easyer to read, write, test and \n",
    "    debug \n",
    "  "
   ]
  },
  {
   "cell_type": "code",
   "execution_count": 1,
   "id": "caefbba5",
   "metadata": {},
   "outputs": [
    {
     "name": "stdout",
     "output_type": "stream",
     "text": [
      "Hello!\n"
     ]
    }
   ],
   "source": [
    "def greet_user():\n",
    "    print(\"Hello!\")\n",
    "greet_user()"
   ]
  },
  {
   "cell_type": "code",
   "execution_count": 2,
   "id": "a0ced752",
   "metadata": {},
   "outputs": [
    {
     "name": "stdout",
     "output_type": "stream",
     "text": [
      "Hello!\n",
      "Hello!\n",
      "Hello!\n",
      "Hello!\n",
      "Hello!\n"
     ]
    }
   ],
   "source": [
    "for i in range(5):\n",
    "    greet_user()\n"
   ]
  },
  {
   "cell_type": "markdown",
   "id": "8e9e206c",
   "metadata": {},
   "source": [
    "```python\n",
    "def function_name(parameter1, parameter2):\n",
    "    \"\"\"Docstring\"\"\" \n",
    "    Body - stuff to do\n",
    "    return(value)\n",
    "   \n",
    "stored_value = function_name(parameter1=argument1, parameter2=argument2)\n",
    "```\n",
    "       "
   ]
  },
  {
   "cell_type": "markdown",
   "id": "a6d12b02",
   "metadata": {},
   "source": [
    "    Argument - Passed information from a function call to a function.\n",
    "    Parameter - Information a function needs to do its job.\n",
    "    Docstrings - Describes what the function does. Enclosed in triple quots.\n",
    "    Body - Where the code goes.\n",
    "    return - the return of the function after exicution\n",
    "    Keyword argument -  is a name-value pair that you pass to a function parameter1 = argument1\n",
    "    "
   ]
  },
  {
   "cell_type": "code",
   "execution_count": 3,
   "id": "69578a3e",
   "metadata": {},
   "outputs": [
    {
     "name": "stdout",
     "output_type": "stream",
     "text": [
      "Help on function greet_user in module __main__:\n",
      "\n",
      "greet_user(username)\n",
      "    Display a simple greeting.\n",
      "\n"
     ]
    }
   ],
   "source": [
    "def greet_user(username):\n",
    "    \"\"\"Display a simple greeting.\"\"\"\n",
    "    print(\"Hello, \" + username.title() + \"!\")\n",
    "\n",
    "help(greet_user)    \n"
   ]
  },
  {
   "cell_type": "code",
   "execution_count": 4,
   "id": "3e24bd6b",
   "metadata": {},
   "outputs": [
    {
     "name": "stdout",
     "output_type": "stream",
     "text": [
      "Hello, Mr. Powers!\n"
     ]
    }
   ],
   "source": [
    "greet_user('Mr. Powers')"
   ]
  },
  {
   "cell_type": "code",
   "execution_count": 70,
   "id": "8edca455",
   "metadata": {},
   "outputs": [
    {
     "name": "stdout",
     "output_type": "stream",
     "text": [
      "Hello, Mr. Powers! Your favorate food is Pizza\n",
      "Hello, Pizza! Your favorate food is Mr. Powers\n"
     ]
    }
   ],
   "source": [
    "def greet_user(username,food):\n",
    "    \"\"\"Display a simple greeting.\"\"\"\n",
    "    print(\"Hello, \" + username.title() + \"! Your favorate food is \" + food.title())\n",
    "\n",
    "greet_user('Mr. Powers', 'pizza')    \n",
    "greet_user('pizza','Mr. Powers')"
   ]
  },
  {
   "cell_type": "markdown",
   "id": "df7efc7a",
   "metadata": {},
   "source": [
    "    As you can see order maters. As seen above we can set a vlaue to its keyword argument.\n",
    "    The exact names of the parameters must be used. To check look in the function’s definition."
   ]
  },
  {
   "cell_type": "code",
   "execution_count": 6,
   "id": "61c55537",
   "metadata": {},
   "outputs": [
    {
     "name": "stdout",
     "output_type": "stream",
     "text": [
      "Help on function greet_user in module __main__:\n",
      "\n",
      "greet_user(username, food)\n",
      "    Display a simple greeting.\n",
      "\n",
      "Hello, Mr. Powers! Your favorate food is Pizza\n"
     ]
    }
   ],
   "source": [
    "help(greet_user)\n",
    "greet_user(food='pizza', username='Mr. Powers')"
   ]
  },
  {
   "cell_type": "code",
   "execution_count": 7,
   "id": "0921689c",
   "metadata": {},
   "outputs": [
    {
     "ename": "TypeError",
     "evalue": "greet_user() missing 1 required positional argument: 'food'",
     "output_type": "error",
     "traceback": [
      "\u001b[0;31m---------------------------------------------------------------------------\u001b[0m",
      "\u001b[0;31mTypeError\u001b[0m                                 Traceback (most recent call last)",
      "\u001b[0;32m/var/folders/6c/phtqtltd4wn1pydbmzp55knr0000gp/T/ipykernel_54363/900692979.py\u001b[0m in \u001b[0;36m<module>\u001b[0;34m\u001b[0m\n\u001b[0;32m----> 1\u001b[0;31m \u001b[0mgreet_user\u001b[0m\u001b[0;34m(\u001b[0m\u001b[0;34m'Mr. Powers'\u001b[0m\u001b[0;34m)\u001b[0m\u001b[0;34m\u001b[0m\u001b[0;34m\u001b[0m\u001b[0m\n\u001b[0m",
      "\u001b[0;31mTypeError\u001b[0m: greet_user() missing 1 required positional argument: 'food'"
     ]
    }
   ],
   "source": [
    "greet_user('Mr. Powers')"
   ]
  },
  {
   "cell_type": "markdown",
   "id": "0ceda2a3",
   "metadata": {},
   "source": [
    "    Above code shows that there is no such thing as overloading in python... Or is there\n",
    "    overloading is done a different way in python\n",
    "    \n",
    "    Additionaly, here python givs you a TypeError message that provides the parammeter\n",
    "    needed. This is just one additional reasion you need good names. "
   ]
  },
  {
   "cell_type": "code",
   "execution_count": 9,
   "id": "1ee720ab",
   "metadata": {},
   "outputs": [],
   "source": [
    "def greet_user(username, food=None):\n",
    "    \"\"\"Display a simple greeting.\"\"\"\n",
    "    if food == None:\n",
    "        print(\"Hello, \" + username.title() + \"!\")\n",
    "    else:\n",
    "        print(\"Hello, \" + username.title() + \"! Your favorate food is \" + food.title())"
   ]
  },
  {
   "cell_type": "code",
   "execution_count": 10,
   "id": "6a9a18a2",
   "metadata": {},
   "outputs": [
    {
     "name": "stdout",
     "output_type": "stream",
     "text": [
      "Hello, Mr. Powers!\n",
      "Hello, Mr. Powers! Your favorate food is Pizza\n"
     ]
    }
   ],
   "source": [
    "greet_user('Mr. Powers')\n",
    "greet_user('Mr. Powers', 'pizza') "
   ]
  },
  {
   "cell_type": "markdown",
   "id": "14b5d3fe",
   "metadata": {},
   "source": [
    "``` python\n",
    "def greet_user(username, food=None):\n",
    "```\n",
    "    In the above code you can see the defalt value of food is set to none. This value can be \n",
    "    set to anything you would like. In this function we are setting it to None. "
   ]
  },
  {
   "cell_type": "code",
   "execution_count": 14,
   "id": "c449e252",
   "metadata": {},
   "outputs": [],
   "source": [
    "def greet_user(username='hellow', food='pizza'):\n",
    "    \"\"\"Display a simple greeting.\"\"\"\n",
    "    print(\"Hello, \" + username.title() + \"! Your favorate food is \" + food.title())"
   ]
  },
  {
   "cell_type": "code",
   "execution_count": 16,
   "id": "e0624969",
   "metadata": {},
   "outputs": [
    {
     "name": "stdout",
     "output_type": "stream",
     "text": [
      "Hello, Mr. Powers! Your favorate food is Pizza\n",
      "Hello, Mr. Powers! Your favorate food is Pb&J\n",
      "Hello, Hellow! Your favorate food is Pizza\n"
     ]
    }
   ],
   "source": [
    "greet_user('Mr. Powers')\n",
    "greet_user('Mr. Powers', 'PB&J') \n",
    "greet_user()"
   ]
  },
  {
   "cell_type": "code",
   "execution_count": 17,
   "id": "4e49e2e4",
   "metadata": {},
   "outputs": [
    {
     "ename": "SyntaxError",
     "evalue": "non-default argument follows default argument (2038678748.py, line 1)",
     "output_type": "error",
     "traceback": [
      "\u001b[0;36m  File \u001b[0;32m\"/var/folders/6c/phtqtltd4wn1pydbmzp55knr0000gp/T/ipykernel_54363/2038678748.py\"\u001b[0;36m, line \u001b[0;32m1\u001b[0m\n\u001b[0;31m    def greet_user(food='pizza', username): #Dont do this\u001b[0m\n\u001b[0m                                         ^\u001b[0m\n\u001b[0;31mSyntaxError\u001b[0m\u001b[0;31m:\u001b[0m non-default argument follows default argument\n"
     ]
    }
   ],
   "source": [
    "def greet_user(food='pizza', username): #Dont do this\n",
    "    \"\"\"Display a simple greeting.\"\"\"\n",
    "    print(\"Hello, \" + username.title() + \"! Your favorate food is \" + food.title())"
   ]
  },
  {
   "cell_type": "markdown",
   "id": "9762c127",
   "metadata": {},
   "source": [
    "    For Python interpreter to execute consistantly the needs non-default argument must be first."
   ]
  },
  {
   "cell_type": "markdown",
   "id": "c5240127",
   "metadata": {},
   "source": [
    "## Returning\n"
   ]
  },
  {
   "cell_type": "markdown",
   "id": "fe6cd810",
   "metadata": {},
   "source": [
    "        A function can return any value you want including Lists, Dictionaries, Int, Objects, ETC."
   ]
  },
  {
   "cell_type": "code",
   "execution_count": 71,
   "id": "dcf18f92",
   "metadata": {},
   "outputs": [
    {
     "name": "stdout",
     "output_type": "stream",
     "text": [
      "{'first': 'Mr.', 'last': 'Powers', 'GPA': 'zero'}\n"
     ]
    }
   ],
   "source": [
    "def student(first_name, last_name, GPA): # how do we make this display GPA when supplyed a 0 GPA\n",
    "    \"\"\"Creates a dictionary of a student\"\"\"\n",
    "    person = {'first': first_name, 'last': last_name}\n",
    "    if GPA:\n",
    "        person['GPA'] = GPA\n",
    "    return person\n",
    "\n",
    "student1 = student('Mr.', 'Powers', 'zero')\n",
    "print(student1)"
   ]
  },
  {
   "cell_type": "markdown",
   "id": "0ba4824c",
   "metadata": {},
   "source": [
    "    Refresh"
   ]
  },
  {
   "cell_type": "code",
   "execution_count": 34,
   "id": "4d7b936c",
   "metadata": {},
   "outputs": [],
   "source": [
    "languages = [\"Java\", \"C\", \"C++\", \"Python\"]"
   ]
  },
  {
   "cell_type": "code",
   "execution_count": 36,
   "id": "9008b9e3",
   "metadata": {},
   "outputs": [
    {
     "name": "stdout",
     "output_type": "stream",
     "text": [
      "['C++', 'Python']\n"
     ]
    }
   ],
   "source": [
    "def remove_languages (languages, aList): \n",
    "    for i in aList:\n",
    "        languages.remove(i)\n",
    "\n",
    "disliked_languages = [\"Java\", \"C\"]\n",
    "remove_languages(languages, disliked_languages)\n",
    "print(languages)"
   ]
  },
  {
   "cell_type": "markdown",
   "id": "c8e456b1",
   "metadata": {},
   "source": [
    "    What if we could not use Global?\n",
    "           "
   ]
  },
  {
   "cell_type": "code",
   "execution_count": 39,
   "id": "86322b29",
   "metadata": {},
   "outputs": [],
   "source": [
    "languages = [\"Java\", \"C\", \"C++\", \"Python\"]\n",
    "learned_languages = []"
   ]
  },
  {
   "cell_type": "code",
   "execution_count": 30,
   "id": "c1a87337",
   "metadata": {},
   "outputs": [
    {
     "name": "stdout",
     "output_type": "stream",
     "text": [
      "Uploading Python to your brain\n",
      "Uploading C++ to your brain\n",
      "Uploading C to your brain\n",
      "Uploading Java to your brain\n"
     ]
    }
   ],
   "source": [
    "while languages:\n",
    "    learned_languages = languages.pop()\n",
    "    print(\"Uploading \" + learned_languages +\" to your brain\")"
   ]
  },
  {
   "cell_type": "markdown",
   "id": "1f088e58",
   "metadata": {},
   "source": [
    "    now lets convert this to a function"
   ]
  },
  {
   "cell_type": "code",
   "execution_count": 37,
   "id": "aff4981e",
   "metadata": {},
   "outputs": [
    {
     "name": "stdout",
     "output_type": "stream",
     "text": [
      "Uploading Python to your brain\n",
      "Uploading C++ to your brain\n",
      "You have learned:\n",
      "Python\n",
      "C++\n",
      "C\n",
      "Java\n",
      "Python\n",
      "C++\n",
      "[]\n",
      "['Python', 'C++', 'C', 'Java', 'Python', 'C++']\n"
     ]
    }
   ],
   "source": [
    "def learn(languages, learned_languages):\n",
    "    \"\"\" Simulate we are in the matrix\"\"\"\n",
    "    while languages:\n",
    "        learning = languages.pop()\n",
    "        print(\"Uploading \" + learning +\" to your brain\")\n",
    "        learned_languages.append(learning)\n",
    "        \n",
    "def show_uploaded_languages(learned):\n",
    "    print(\"You have learned:\")\n",
    "    for language in learned:\n",
    "        print(language)\n",
    "        \n",
    "        \n",
    "\n",
    "learn(languages, learned_languages)\n",
    "show_uploaded_languages(learned_languages)\n",
    "print(languages)\n",
    "print(learned_languages)"
   ]
  },
  {
   "cell_type": "code",
   "execution_count": 40,
   "id": "38456f9c",
   "metadata": {},
   "outputs": [
    {
     "name": "stdout",
     "output_type": "stream",
     "text": [
      "Uploading Python to your brain\n",
      "Uploading C++ to your brain\n",
      "Uploading C to your brain\n",
      "Uploading Java to your brain\n",
      "You have learned:\n",
      "['Java', 'C', 'C++', 'Python']\n",
      "[]\n"
     ]
    }
   ],
   "source": [
    "#assume you do not want to change the lists\n",
    "\n",
    "learn(languages[:], learned_languages[:]) #this is less efficient than just passing a list\n",
    "show_uploaded_languages(learned_languages)\n",
    "print(languages)\n",
    "print(learned_languages)"
   ]
  },
  {
   "cell_type": "markdown",
   "id": "3b4a089f",
   "metadata": {},
   "source": [
    "    When writing a program you may not know how many items to accept. "
   ]
  },
  {
   "cell_type": "code",
   "execution_count": 42,
   "id": "5dc16cf5",
   "metadata": {},
   "outputs": [
    {
     "name": "stdout",
     "output_type": "stream",
     "text": [
      "('dont die', 'live forever', 'outlive the robots')\n",
      "<class 'tuple'>\n",
      "dont die\n",
      "live forever\n",
      "outlive the robots\n"
     ]
    }
   ],
   "source": [
    "def bucket_list(*things_to_do):\n",
    "    \"\"\"Print the list of input strings\"\"\"\n",
    "    print(things_to_do)\n",
    "    print(type(things_to_do))\n",
    "    for things in things_to_do:\n",
    "        print(things)\n",
    "\n",
    "#bucket_list('pass collage', 'be a millionare')\n",
    "bucket_list('dont die', 'live forever', 'outlive the robots')"
   ]
  },
  {
   "cell_type": "markdown",
   "id": "d27382f7",
   "metadata": {},
   "source": [
    "    Lets up the complexity!"
   ]
  },
  {
   "cell_type": "code",
   "execution_count": 47,
   "id": "d32174d1",
   "metadata": {},
   "outputs": [
    {
     "name": "stdout",
     "output_type": "stream",
     "text": [
      "{'GPA': 0.0}\n",
      "{'first': 'Mr.', 'last': 'Powers', 'GPA': 0.0}\n"
     ]
    }
   ],
   "source": [
    "def student(first_name, last_name, **args): \n",
    "    \"\"\"Creates a dictionary of a student\"\"\"\n",
    "    person = {'first': first_name, 'last': last_name}\n",
    "    print(args)\n",
    "    for key, value in args.items():\n",
    "        person[key]= value\n",
    "    return person\n",
    "        \n",
    "student1 = student('Mr.', 'Powers', GPA = 0.0)\n",
    "print(student1) #outputs None. Why?"
   ]
  },
  {
   "cell_type": "markdown",
   "id": "37a4e293",
   "metadata": {},
   "source": [
    "# Importing - A start to beter code\n",
    "    Puting Functions into a module and then importing it is a step to becoming an professional coder. \n",
    "    Modules let you create simple resuable code to reduce the time needed in coding. This allows you\n",
    "    to focus on larger and more complicated problems.\n",
    "    \n",
    "    But how do we use a module. To use a module you must first import it. "
   ]
  },
  {
   "cell_type": "markdown",
   "id": "615ee64e",
   "metadata": {},
   "source": [
    "```python\n",
    "import module_name\n",
    "from module_name import function1, function2\n",
    "\n",
    "module_name.function_name()\n",
    "```"
   ]
  },
  {
   "cell_type": "code",
   "execution_count": 49,
   "id": "7eaaf710",
   "metadata": {},
   "outputs": [],
   "source": [
    "import Hi"
   ]
  },
  {
   "cell_type": "code",
   "execution_count": 50,
   "id": "e9faed9a",
   "metadata": {},
   "outputs": [
    {
     "name": "stdout",
     "output_type": "stream",
     "text": [
      "hi\n"
     ]
    }
   ],
   "source": [
    "Hi.print_hi()"
   ]
  },
  {
   "cell_type": "markdown",
   "id": "d7003121",
   "metadata": {},
   "source": [
    "Note: Since Jupyter notebook is an Interactive Python (ipython) file to import a Jupyter notebook  into another Jupyter is not quite the same as importing a module. Insted you run the ipython file inside your current notebook. this may have side affects and is not recomended. Insted you want to create a py file with your modules in it. \n",
    "\n",
    "```python\n",
    "%run MyOtherNotebook.ipynb\n",
    "```"
   ]
  },
  {
   "cell_type": "code",
   "execution_count": 51,
   "id": "46bab753",
   "metadata": {},
   "outputs": [
    {
     "name": "stdout",
     "output_type": "stream",
     "text": [
      "hi\n",
      "No number is greater than 0\n",
      "10\n"
     ]
    }
   ],
   "source": [
    "%run Lecture1.ipynb"
   ]
  },
  {
   "cell_type": "code",
   "execution_count": 52,
   "id": "5cb3c732",
   "metadata": {},
   "outputs": [
    {
     "name": "stdout",
     "output_type": "stream",
     "text": [
      "    \"def numbers():\\n\",\r\n",
      "    \"    number = int(input(\\\"enter a number from 1 to 10.\\\"))\\n\",\r\n",
      "    \"    if number > 10:\\n\",\r\n",
      "    \"        print(\\\"your number is to big\\\")\\n\",\r\n",
      "    \"    else:\\n\",\r\n",
      "    \"        if number <= 10:\\n\",\r\n",
      "    \"            print(\\\"your number is less than or equal to 10\\\")\"\r\n"
     ]
    }
   ],
   "source": [
    "!sed -n '126,132p' Lecture1.ipynb #here is the snip of the code search \"stream editor\""
   ]
  },
  {
   "cell_type": "markdown",
   "id": "614e296d",
   "metadata": {},
   "source": [
    "As you can see it runs evertying in that file insted of importing it. In this case you would just run the functions that are in that file rather than calling on the moduel. This will cause problems later on. \n"
   ]
  },
  {
   "cell_type": "code",
   "execution_count": 53,
   "id": "780ea97f",
   "metadata": {},
   "outputs": [
    {
     "name": "stdout",
     "output_type": "stream",
     "text": [
      "enter a number from 1 to 10.10\n",
      "your number is less than or equal to 10\n"
     ]
    }
   ],
   "source": [
    "numbers()"
   ]
  },
  {
   "cell_type": "markdown",
   "id": "1457332e",
   "metadata": {},
   "source": [
    "Another way is to create the file within Jupyter"
   ]
  },
  {
   "cell_type": "code",
   "execution_count": 59,
   "id": "c5cce4d9",
   "metadata": {},
   "outputs": [
    {
     "name": "stdout",
     "output_type": "stream",
     "text": [
      "Overwriting test.py\n"
     ]
    }
   ],
   "source": [
    "%%writefile test.py\n",
    "\n",
    "def testing():\n",
    "    print(\"testing...1...2...3\")"
   ]
  },
  {
   "cell_type": "code",
   "execution_count": 57,
   "id": "668f8fbf",
   "metadata": {},
   "outputs": [
    {
     "name": "stdout",
     "output_type": "stream",
     "text": [
      "{\r\n",
      " \"cells\": [\r\n",
      "  {\r\n",
      "   \"cell_type\": \"code\",\r\n",
      "   \"execution_count\": 8,\r\n",
      "   \"id\": \"d73cad45\",\r\n",
      "   \"metadata\": {},\r\n",
      "   \"outputs\": [\r\n",
      "    {\r\n",
      "     \"name\": \"stdout\",\r\n",
      "     \"output_type\": \"stream\",\r\n",
      "     \"text\": [\r\n",
      "      \"hi\\n\"\r\n",
      "     ]\r\n",
      "    }\r\n",
      "   ],\r\n",
      "   \"source\": [\r\n",
      "    \"if 1 < 2:\\n\",\r\n",
      "    \"        a=1\\n\",\r\n",
      "    \"print(\\\"hi\\\")\"\r\n",
      "   ]\r\n",
      "  },\r\n",
      "  {\r\n",
      "   \"cell_type\": \"code\",\r\n",
      "   \"execution_count\": 15,\r\n",
      "   \"id\": \"7de0a408\",\r\n",
      "   \"metadata\": {},\r\n",
      "   \"outputs\": [\r\n",
      "    {\r\n",
      "     \"name\": \"stdout\",\r\n",
      "     \"output_type\": \"stream\",\r\n",
      "     \"text\": [\r\n",
      "      \"No number is greater than 0\\n\"\r\n",
      "     ]\r\n",
      "    }\r\n",
      "   ],\r\n",
      "   \"source\": [\r\n",
      "    \"a = -10\\n\",\r\n",
      "    \"b = -12\\n\",\r\n",
      "    \"if a > 0 and  b > 0:\\n\",\r\n",
      "    \"    print(\\\"the numbers are greater than 0\\\")\\n\",\r\n",
      "    \"elif a > 0 or b > 0:\\n\",\r\n",
      "    \"    print(\\\"ONe fo the nubeers is greater than 0\\\")\\n\",\r\n",
      "    \"else:\\n\",\r\n",
      "    \"    print(\\\"No number is greater than 0\\\")\\n\"\r\n",
      "   ]\r\n",
      "  },\r\n",
      "  {\r\n",
      "   \"cell_type\": \"code\",\r\n",
      "   \"execution_count\": 17,\r\n",
      "   \"id\": \"41c18375\",\r\n",
      "   \"metadata\": {},\r\n",
      "   \"outputs\": [\r\n",
      "    {\r\n",
      "     \"name\": \"stdout\",\r\n",
      "     \"output_type\": \"stream\",\r\n",
      "     \"text\": [\r\n",
      "      \"10\\n\"\r\n",
      "     ]\r\n",
      "    }\r\n",
      "   ],\r\n",
      "   \"source\": [\r\n",
      "    \"a=10\\n\",\r\n",
      "    \"b=10\\n\",\r\n",
      "    \"if a == b:\\n\",\r\n",
      "    \"    a=7\\n\",\r\n",
      "    \"print(b)\"\r\n",
      "   ]\r\n",
      "  },\r\n",
      "  {\r\n",
      "   \"cell_type\": \"code\",\r\n",
      "   \"execution_count\": 18,\r\n",
      "   \"id\": \"7550f1fd\",\r\n",
      "   \"metadata\": {},\r\n",
      "   \"outputs\": [\r\n",
      "    {\r\n",
      "     \"ename\": \"SyntaxError\",\r\n",
      "     \"evalue\": \"invalid syntax (3641918804.py, line 1)\",\r\n",
      "     \"output_type\": \"error\",\r\n",
      "     \"traceback\": [\r\n",
      "      \"\\u001b[0;36m  File \\u001b[0;32m\\\"/var/folders/6c/phtqtltd4wn1pydbmzp55knr0000gp/T/ipykernel_8629/3641918804.py\\\"\\u001b[0;36m, line \\u001b[0;32m1\\u001b[0m\\n\\u001b[0;31m    ==\\u001b[0m\\n\\u001b[0m    ^\\u001b[0m\\n\\u001b[0;31mSyntaxError\\u001b[0m\\u001b[0;31m:\\u001b[0m invalid syntax\\n\"\r\n",
      "     ]\r\n",
      "    }\r\n",
      "   ],\r\n",
      "   \"source\": [\r\n",
      "    \"'''==\\n\",\r\n",
      "    \"!=\\n\",\r\n",
      "    \">\\n\",\r\n",
      "    \"<\\n\",\r\n",
      "    \">=\\n\",\r\n",
      "    \"<=\\n\",\r\n",
      "    \"\\n\",\r\n",
      "    \"and\\n\",\r\n",
      "    \"or \\n\",\r\n",
      "    \"not\\n\",\r\n",
      "    \"'''\"\r\n",
      "   ]\r\n",
      "  },\r\n",
      "  {\r\n",
      "   \"cell_type\": \"code\",\r\n",
      "   \"execution_count\": 19,\r\n",
      "   \"id\": \"195b99e6\",\r\n",
      "   \"metadata\": {},\r\n",
      "   \"outputs\": [\r\n",
      "    {\r\n",
      "     \"ename\": \"SyntaxError\",\r\n",
      "     \"evalue\": \"invalid syntax (551997379.py, line 1)\",\r\n",
      "     \"output_type\": \"error\",\r\n",
      "     \"traceback\": [\r\n",
      "      \"\\u001b[0;36m  File \\u001b[0;32m\\\"/var/folders/6c/phtqtltd4wn1pydbmzp55knr0000gp/T/ipykernel_8629/551997379.py\\\"\\u001b[0;36m, line \\u001b[0;32m1\\u001b[0m\\n\\u001b[0;31m    >\\u001b[0m\\n\\u001b[0m    ^\\u001b[0m\\n\\u001b[0;31mSyntaxError\\u001b[0m\\u001b[0;31m:\\u001b[0m invalid syntax\\n\"\r\n",
      "     ]\r\n",
      "    }\r\n",
      "   ],\r\n",
      "   \"source\": [\r\n",
      "    \"'''>\\n\",\r\n",
      "    \"<'''\"\r\n",
      "   ]\r\n",
      "  },\r\n",
      "  {\r\n",
      "   \"cell_type\": \"code\",\r\n",
      "   \"execution_count\": 2,\r\n",
      "   \"id\": \"76840bb8\",\r\n",
      "   \"metadata\": {},\r\n",
      "   \"outputs\": [],\r\n",
      "   \"source\": [\r\n",
      "    \"def numbers():\\n\",\r\n",
      "    \"    number = int(input(\\\"enter a number from 1 to 10.\\\"))\\n\",\r\n",
      "    \"    if number > 10:\\n\",\r\n",
      "    \"        print(\\\"your number is to big\\\")\\n\",\r\n",
      "    \"    else:\\n\",\r\n",
      "    \"        if number <= 10:\\n\",\r\n",
      "    \"            print(\\\"your number is less than or equal to 10\\\")\"\r\n",
      "   ]\r\n",
      "  }\r\n",
      " ],\r\n",
      " \"metadata\": {\r\n",
      "  \"kernelspec\": {\r\n",
      "   \"display_name\": \"Python 3 (ipykernel)\",\r\n",
      "   \"language\": \"python\",\r\n",
      "   \"name\": \"python3\"\r\n",
      "  },\r\n",
      "  \"language_info\": {\r\n",
      "   \"codemirror_mode\": {\r\n",
      "    \"name\": \"ipython\",\r\n",
      "    \"version\": 3\r\n",
      "   },\r\n",
      "   \"file_extension\": \".py\",\r\n",
      "   \"mimetype\": \"text/x-python\",\r\n",
      "   \"name\": \"python\",\r\n",
      "   \"nbconvert_exporter\": \"python\",\r\n",
      "   \"pygments_lexer\": \"ipython3\",\r\n",
      "   \"version\": \"3.9.13\"\r\n",
      "  }\r\n",
      " },\r\n",
      " \"nbformat\": 4,\r\n",
      " \"nbformat_minor\": 5\r\n",
      "}\r\n"
     ]
    }
   ],
   "source": [
    "!cat Lecture1.ipynb"
   ]
  },
  {
   "cell_type": "code",
   "execution_count": 60,
   "id": "a8275b64",
   "metadata": {},
   "outputs": [
    {
     "ename": "NameError",
     "evalue": "name 'test' is not defined",
     "output_type": "error",
     "traceback": [
      "\u001b[0;31m---------------------------------------------------------------------------\u001b[0m",
      "\u001b[0;31mNameError\u001b[0m                                 Traceback (most recent call last)",
      "\u001b[0;32m/var/folders/6c/phtqtltd4wn1pydbmzp55knr0000gp/T/ipykernel_54363/3120310519.py\u001b[0m in \u001b[0;36m<module>\u001b[0;34m\u001b[0m\n\u001b[0;32m----> 1\u001b[0;31m \u001b[0mtest\u001b[0m\u001b[0;34m.\u001b[0m\u001b[0mtesting\u001b[0m\u001b[0;34m(\u001b[0m\u001b[0;34m)\u001b[0m\u001b[0;34m\u001b[0m\u001b[0;34m\u001b[0m\u001b[0m\n\u001b[0m",
      "\u001b[0;31mNameError\u001b[0m: name 'test' is not defined"
     ]
    }
   ],
   "source": [
    "test.testing()"
   ]
  },
  {
   "cell_type": "code",
   "execution_count": 61,
   "id": "40e8d265",
   "metadata": {},
   "outputs": [],
   "source": [
    "import test"
   ]
  },
  {
   "cell_type": "code",
   "execution_count": 62,
   "id": "f204ce16",
   "metadata": {},
   "outputs": [
    {
     "name": "stdout",
     "output_type": "stream",
     "text": [
      "testing...1...2...3\n"
     ]
    }
   ],
   "source": [
    "test.testing()"
   ]
  },
  {
   "cell_type": "markdown",
   "id": "7e972541",
   "metadata": {},
   "source": [
    "One advantage of importing is you are able to give code an alias. An alias alows you to import a moduel with no risk of conflicting with functions that are already in your code"
   ]
  },
  {
   "cell_type": "code",
   "execution_count": 63,
   "id": "52307d0a",
   "metadata": {},
   "outputs": [],
   "source": [
    "import test as t"
   ]
  },
  {
   "cell_type": "code",
   "execution_count": 64,
   "id": "46ec2a3e",
   "metadata": {},
   "outputs": [
    {
     "name": "stdout",
     "output_type": "stream",
     "text": [
      "testing...1...2...3\n"
     ]
    }
   ],
   "source": [
    "t.testing()"
   ]
  },
  {
   "cell_type": "code",
   "execution_count": 65,
   "id": "df00b2e3",
   "metadata": {},
   "outputs": [],
   "source": [
    "from test import testing as t"
   ]
  },
  {
   "cell_type": "code",
   "execution_count": 66,
   "id": "1ebbbd8d",
   "metadata": {},
   "outputs": [
    {
     "name": "stdout",
     "output_type": "stream",
     "text": [
      "testing...1...2...3\n"
     ]
    }
   ],
   "source": [
    "t()"
   ]
  },
  {
   "cell_type": "code",
   "execution_count": 67,
   "id": "c9381a91",
   "metadata": {},
   "outputs": [],
   "source": [
    "import numpy as np #we will be using num py soon."
   ]
  },
  {
   "cell_type": "code",
   "execution_count": 68,
   "id": "e3fc4aac",
   "metadata": {},
   "outputs": [
    {
     "data": {
      "text/plain": [
       "1"
      ]
     },
     "execution_count": 68,
     "metadata": {},
     "output_type": "execute_result"
    }
   ],
   "source": [
    "np."
   ]
  },
  {
   "cell_type": "markdown",
   "id": "6636d02b",
   "metadata": {},
   "source": [
    "Remember when writing your functions to think of there use case and ensure your are cleanly creating code that is usable and easy to read\n",
    "\n",
    "- Functions should have descriptive names, and these names should use lowercase letters and underscores\n",
    "```python\n",
    "print_hello()#good\n",
    "print_hello_to_the_output_window()#bad\n",
    "```\n",
    "\n",
    "- Every function should have a comment that explains concisely what the function does.\n",
    "``` python\n",
    "\"\"\"Docstring\"\"\" \n",
    "# comment\n",
    "'''\n",
    "This is a multiline\n",
    "comment.\n",
    "'''\n",
    "```\n",
    "- If you specify a default value for a parameter, no spaces should be used on either side of the equal sign\n",
    "\n",
    "```python \n",
    "def function_name(parameter_0, parameter_1='default value')\n",
    "function_name(value_0, parameter_1='value')\n",
    "```\n",
    "\n",
    "- limit lines of code to 79 characters so every line is visible in a reasonably sized editor window\n",
    "\n",
    "```python\n",
    "def function_name(\n",
    "    parameter_0, parameter_1, parameter_2,#note the comma is on this line\n",
    "    parameter_3, parameter_4, parameter_5):#not this line\n",
    "    function body...\n",
    "```"
   ]
  }
 ],
 "metadata": {
  "kernelspec": {
   "display_name": "Python 3 (ipykernel)",
   "language": "python",
   "name": "python3"
  },
  "language_info": {
   "codemirror_mode": {
    "name": "ipython",
    "version": 3
   },
   "file_extension": ".py",
   "mimetype": "text/x-python",
   "name": "python",
   "nbconvert_exporter": "python",
   "pygments_lexer": "ipython3",
   "version": "3.11.2"
  }
 },
 "nbformat": 4,
 "nbformat_minor": 5
}
