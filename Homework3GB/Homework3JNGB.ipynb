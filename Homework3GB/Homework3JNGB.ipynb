{
 "cells": [
  {
   "cell_type": "markdown",
   "id": "abfb9ed7-bb94-48c3-88f0-6693f26b3f7c",
   "metadata": {},
   "source": [
    "# Homework 3 Jupyter Notebook - Grace Brisco\n"
   ]
  },
  {
   "cell_type": "code",
   "execution_count": null,
   "id": "9916dca4-e082-47ba-957a-d285cd0abce0",
   "metadata": {},
   "outputs": [
    {
     "name": "stdout",
     "output_type": "stream",
     "text": [
      "{\n",
      "  \"Jayvee\": \"name\",\n",
      "  \"25\": \"age\",\n",
      "  \"jayvee's_email\": \"email\",\n",
      "  \"123456789\": \"studentid\"\n",
      "}\n",
      "{\n",
      "  \"name\": \"Grace\",\n",
      "  \"age\": 23,\n",
      "  \"email\": \"gebrisco@cpp.edu\",\n",
      "  \"studentid\": 123456789\n",
      "}\n"
     ]
    }
   ],
   "source": [
    "import json\n",
    "\n",
    "from data_classes import Student as STDT\n",
    "from data_classes import Saver       \n",
    "Jayvee = STDT(\"Jayvee\", 25, \"jayvee's_email\", 123456789)\n",
    "Saver.save(Jayvee.to_dict(), 'studentnew.json')\n",
    "\n",
    "with open('studentnew.json') as f:\n",
    "    data_classes = json.load(f)\n",
    "    print (json.dumps(data_classes, indent=2))\n",
    "\n",
    "with open('student.json') as f:\n",
    "    data_classes = json.load(f)\n",
    "    print (json.dumps(data_classes, indent=2))\n",
    "\n",
    "\n",
    "# i couldn't entirely figure out how to save to the same json file and i got real tired so this is what i got\n",
    "# i only when to the chatgpt for something i couldn't find really in depth examples on \n",
    "# mainly i used your lectures, but for the save and dictionary i had to ask the format, but never the entire assignment"
   ]
  }
 ],
 "metadata": {
  "kernelspec": {
   "display_name": "base",
   "language": "python",
   "name": "python3"
  },
  "language_info": {
   "codemirror_mode": {
    "name": "ipython",
    "version": 3
   },
   "file_extension": ".py",
   "mimetype": "text/x-python",
   "name": "python",
   "nbconvert_exporter": "python",
   "pygments_lexer": "ipython3",
   "version": "3.12.7"
  }
 },
 "nbformat": 4,
 "nbformat_minor": 5
}
